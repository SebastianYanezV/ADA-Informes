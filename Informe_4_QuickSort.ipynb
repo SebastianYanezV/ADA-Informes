{
  "nbformat": 4,
  "nbformat_minor": 0,
  "metadata": {
    "colab": {
      "provenance": [],
      "collapsed_sections": [
        "_CRa_jCm21nC",
        "NqryzRjf3cTG",
        "Oqo7QLay3giF",
        "jvo8x48i3oix"
      ],
      "authorship_tag": "ABX9TyPbUO+oXvX4vW2kcziDw7Vy",
      "include_colab_link": true
    },
    "kernelspec": {
      "name": "python3",
      "display_name": "Python 3"
    },
    "language_info": {
      "name": "python"
    }
  },
  "cells": [
    {
      "cell_type": "markdown",
      "metadata": {
        "id": "view-in-github",
        "colab_type": "text"
      },
      "source": [
        "<a href=\"https://colab.research.google.com/github/SebastianYanezV/ADA-Informes/blob/main/Informe_4_QuickSort.ipynb\" target=\"_parent\"><img src=\"https://colab.research.google.com/assets/colab-badge.svg\" alt=\"Open In Colab\"/></a>"
      ]
    },
    {
      "cell_type": "markdown",
      "source": [
        "# 1. Descripción del problema: Problema de ordenamiento\n",
        "\n",
        "**Entrada:** Lista o arreglo de \"n\" números $[a_1, a_2, ..., a_n]$\n",
        "\n",
        "**Salida:** La lista o arreglo de la entrada, pero ahora ordenada: $[a_1',a_2',...,a_n']$, de forma que $a_1'\\leq a_2' \\leq... \\leq a_n'$.\n",
        "\n",
        "El problema que se quiere resolver en este caso, es el problema de ordenamiento, el cual consiste en ordenar de menor a mayor una secuencia de \"n\" números en desorden. Para poder resolver este problema, se usará el algoritmo *QuickSort*, que como su nombre lo indica, es considerado uno de los algoritmos de ordenamiento más rápido que existen."
      ],
      "metadata": {
        "id": "_CRa_jCm21nC"
      }
    },
    {
      "cell_type": "markdown",
      "source": [
        "# 2. QuickSort"
      ],
      "metadata": {
        "id": "6N3CG3423BEv"
      }
    },
    {
      "cell_type": "markdown",
      "source": [
        "## 2.1 Código\n",
        "\n",
        "El código que se muestra a continuación pertenece al algoritmo *QuickSort*, el cual contiene las funciones *quickSort* y *partition*.\n",
        "\n",
        "Nota: a continuación se usarán tres tipos de funciones *partition* distintas."
      ],
      "metadata": {
        "id": "hpkOq9_-3GvT"
      }
    },
    {
      "cell_type": "markdown",
      "source": [
        "### 2.1.1 QuickSort con función partition que selecciona como pivote al último elemento del arreglo."
      ],
      "metadata": {
        "id": "Gyn_Z-MB4dSv"
      }
    },
    {
      "cell_type": "code",
      "execution_count": 109,
      "metadata": {
        "id": "tEOMYZK5xoOL",
        "colab": {
          "base_uri": "https://localhost:8080/"
        },
        "outputId": "0c861c72-7e10-466c-b32c-1edb38ee0d11"
      },
      "outputs": [
        {
          "output_type": "stream",
          "name": "stdout",
          "text": [
            "Arreglo original: [1, 6, 3, 10, 8, 2]\n",
            "Arreglo ordenado: [1, 2, 3, 6, 8, 10]\n",
            "Comparaciones función Partition: 15\n"
          ]
        }
      ],
      "source": [
        "comparaciones = 0\n",
        "\n",
        "def partitionFinal(A, inicio, final, verbose = False):\n",
        "  if verbose == True: print(\"El arreglo entra al partition.\")\n",
        "  i = -1\n",
        "  j = 0\n",
        "  pivote = A[final]\n",
        "\n",
        "  if verbose == True: print(\"Pivote utilizado:\", pivote)\n",
        "\n",
        "  global comparaciones\n",
        "\n",
        "  while(True):\n",
        "    if(j == final): \n",
        "      break\n",
        "    if(A[j] > pivote): \n",
        "      comparaciones += 1\n",
        "      j += 1\n",
        "    else:\n",
        "      comparaciones += 1\n",
        "      aux = A[j]\n",
        "      A[j] = A[i + 1]\n",
        "      A[i + 1] = aux\n",
        "      i += 1\n",
        "      j += 1\n",
        "    if verbose == True: print(\"Arreglo durante partition:\", A[inicio:final+1])\n",
        "  \n",
        "  aux = A[final]\n",
        "  A[final] = A[i + 1]\n",
        "  A[i + 1] = aux\n",
        "\n",
        "  if verbose == True: print(\"Indice i =\", i, \"/ Indice j =\", j)\n",
        "  if verbose == True: print(\"Se intercambia el pivote a la posicion\", i+1, \"del arreglo original.\")\n",
        "\n",
        "  q = i + 1\n",
        "  return q\n",
        "\n",
        "\n",
        "def quickSort1(A, inicio, final, verbose = False):\n",
        "  if(inicio < final):\n",
        "    q = partitionFinal(A, inicio, final)\n",
        "    if verbose == True: print(\"Arreglo al salir del partition:\", A)\n",
        "    if verbose == True: print(\"Posicion retornada por el partition:\", q)\n",
        "    if verbose == True: print(\"Primer sub arreglo en ordenarse:\", A[inicio:q])\n",
        "    quickSort1(A, inicio, q - 1)\n",
        "    if verbose == True: print(\"Segundo sub arreglo en ordenarse:\", A[q+1:final+1])\n",
        "    if verbose == True: print(\"-------------------------------------------------------\")\n",
        "    quickSort1(A, q + 1, final)\n",
        "\n",
        "#Ejemplo\n",
        "A = [1, 6, 3, 10, 8, 2]\n",
        "print(\"Arreglo original:\", A)\n",
        "quickSort1(A, 0, len(A) - 1)\n",
        "print(\"Arreglo ordenado:\", A)\n",
        "print(\"Comparaciones función Partition:\", comparaciones)"
      ]
    },
    {
      "cell_type": "markdown",
      "source": [
        "### 2.1.2 QuickSort con función partition que selecciona como pivote al primer elemento del arreglo."
      ],
      "metadata": {
        "id": "adnFvDRx4ze-"
      }
    },
    {
      "cell_type": "code",
      "source": [
        "comparaciones = 0\n",
        "\n",
        "def partitionInicio(A, inicio, final):\n",
        "  i = final + 1\n",
        "  j = final\n",
        "  pivote = A[inicio]\n",
        "\n",
        "  global comparaciones\n",
        "\n",
        "  while(True):\n",
        "    if(j == inicio): \n",
        "      break\n",
        "    if(A[j] < pivote): \n",
        "      comparaciones += 1\n",
        "      j -= 1\n",
        "    else:\n",
        "      comparaciones += 1\n",
        "      aux = A[j]\n",
        "      A[j] = A[i - 1]\n",
        "      A[i - 1] = aux\n",
        "      i -= 1\n",
        "      j -= 1\n",
        "  \n",
        "  aux = A[inicio]\n",
        "  A[inicio] = A[i - 1]\n",
        "  A[i - 1] = aux\n",
        "\n",
        "  q = i - 1\n",
        "  return q\n",
        "\n",
        "\n",
        "def quickSort2(A, inicio, final):\n",
        "  if(inicio < final):\n",
        "    q = partitionInicio(A, inicio, final)\n",
        "    quickSort2(A, inicio, q - 1)\n",
        "    quickSort2(A, q + 1, final)\n",
        "\n",
        "#Ejemplo\n",
        "A = [1, 6, 3, 10, 8, 2]\n",
        "print(\"Arreglo original:\", A)\n",
        "quickSort2(A, 0, len(A) - 1)\n",
        "print(\"Arreglo ordenado:\", A)\n",
        "print(\"Comparaciones función Partition:\", comparaciones)"
      ],
      "metadata": {
        "colab": {
          "base_uri": "https://localhost:8080/"
        },
        "id": "gCF5jf2r4_Zw",
        "outputId": "74998dba-a5d0-433c-fb3d-04fd8d17b0cc"
      },
      "execution_count": 110,
      "outputs": [
        {
          "output_type": "stream",
          "name": "stdout",
          "text": [
            "Arreglo original: [1, 6, 3, 10, 8, 2]\n",
            "Arreglo ordenado: [1, 2, 3, 6, 8, 10]\n",
            "Comparaciones función Partition: 11\n"
          ]
        }
      ]
    },
    {
      "cell_type": "markdown",
      "source": [
        "### 2.1.3 QuickSort con función partition que selecciona como pivote la mediana de tres elementos al azar del arreglo."
      ],
      "metadata": {
        "id": "Na4PaQQ044NU"
      }
    },
    {
      "cell_type": "code",
      "source": [
        "import random\n",
        "comparaciones = 0\n",
        "\n",
        "def partitionRandom(A, inicio, final, verbose = True):\n",
        "  auxA = []\n",
        "  for i in range(len(A)):\n",
        "    auxA.append(A[i])\n",
        "  \n",
        "  elem1 = random.choice(auxA)\n",
        "  auxA.remove(elem1)\n",
        "  elem2 = random.choice(auxA)\n",
        "  auxA.remove(elem2)\n",
        "  elem3 = random.choice(auxA)\n",
        "\n",
        "  arregloDe3 = [elem1, elem2, elem3]\n",
        "  arregloDe3.sort()\n",
        "  pivote = arregloDe3[1]\n",
        "\n",
        "  pos = A.index(pivote)\n",
        "\n",
        "  aux = A[final]\n",
        "  A[final] = pivote\n",
        "  A[pos] = aux\n",
        "\n",
        "  global comparaciones\n",
        "\n",
        "  i = -1\n",
        "  j = 0\n",
        "\n",
        "  while(True):\n",
        "    if(j == final): \n",
        "      break\n",
        "    if(A[j] > pivote): \n",
        "      comparaciones += 1\n",
        "      j += 1\n",
        "    else:\n",
        "      comparaciones += 1\n",
        "      aux2 = A[j]\n",
        "      A[j] = A[i + 1]\n",
        "      A[i + 1] = aux2\n",
        "      i += 1\n",
        "      j += 1\n",
        "  \n",
        "  aux2 = A[final]\n",
        "  A[final] = A[i + 1]\n",
        "  A[i + 1] = aux2\n",
        "\n",
        "  q = i + 1\n",
        "  return q\n",
        "\n",
        "def quickSort3(A, inicio, final, verbose = True):\n",
        "  if(inicio < final):\n",
        "    q = partitionRandom(A, inicio, final)\n",
        "    quickSort3(A, inicio, q - 1)\n",
        "    quickSort3(A, q + 1, final)\n",
        "\n",
        "#Ejemplo\n",
        "A = [1, 6, 3, 10, 8, 2]\n",
        "print(\"Arreglo original:\", A)\n",
        "quickSort3(A, 0, len(A) - 1)\n",
        "print(\"Arreglo ordenado:\", A)\n",
        "print(\"Comparaciones función Partition:\", comparaciones)"
      ],
      "metadata": {
        "colab": {
          "base_uri": "https://localhost:8080/"
        },
        "id": "jlshgc1D4--_",
        "outputId": "5d439aac-f5eb-46d7-b167-9dea3cb0f56f"
      },
      "execution_count": 112,
      "outputs": [
        {
          "output_type": "stream",
          "name": "stdout",
          "text": [
            "Arreglo original: [1, 6, 3, 10, 8, 2]\n",
            "Arreglo ordenado: [1, 2, 3, 6, 8, 10]\n",
            "Comparaciones función Partition: 26\n"
          ]
        }
      ]
    },
    {
      "cell_type": "markdown",
      "source": [
        "## 2.2 Descripción del algoritmo\n",
        "\n",
        "Antes de empezar a ordenar, el algoritmo recibe una lista o arreglo de \"n\" números en orden aleatorio, los que deberá ordenar a continuación.\n",
        "\n",
        "En primer lugar, trabaja la función *Partition* (a continuación se explicará el funcionamiento de la función *partition* que selecciona como pivote al último elemento del arreglo, sin embargo, las tres funciones *partition* implementadas funcionan de forma similar).\n",
        "\n",
        "1. La función recibe el arreglo con el que se va a trabajar y sus índices inicial y final.\n",
        "\n",
        "2. Se crean e inicializan dos sub índices con los que se recorrerá y reorganizará el arreglo (i = -1, j = 0). Se asigna como pivote al último elemento del arreglo.\n",
        "\n",
        "3. Luego, en cada iteración, se debe ir reorganizando el arreglo (sin usar una estructura auxiliar) de forma que se va comparando al elemento de la posición \"j\" con el pivote:\n",
        "\n",
        "    3.1. Si el primero es mayor, el sub índice \"j\" avanza una posición.\n",
        "\n",
        "    3.2. Si es menor o igual, se intercambia el elemento de la posición \"j\" con el elemento siguiente al de la posición \"i\". Ambos sub índices avanzan una posición.\n",
        "\n",
        "4. El paso anterior se repite hasta que el sub índice \"j\" llega a la posición del pivote, en ese momento, el pivote cambia posición con el elemento de la posición \"i + 1\".\n",
        "\n",
        "5. Finalmente se retorna la posición en la que quedó el pivote.\n",
        "\n",
        "Luego de que la función *partition* reordena al arreglo, la función *quickSort* es llamada.\n",
        "\n",
        "1. La función se llama recursivamente, sólo que ahora trabaja con el arreglo por la mitad. Para el lado izquierdo, trabaja con el sub arreglo que va desde el inicio hasta la posición anterior en la que quedó el pivote al final del *partition*. Para el lado derecho, trabaja con el sub arreglo que va desde la posición siguiente en la que quedó el pivote, hasta el final del arreglo.\n",
        "\n",
        "2. Luego de llamarse recursivamente, la función *partition* será la encargada de reordenar nuevamente al nuevo arreglo.\n",
        "\n",
        "3. Los pasos anteriores ocurren hasta que el arreglo quede completamente ordenado.\n",
        "\n",
        "Finalmente, al terminar el proceso anteriormente descrito, el algoritmo retorna el arreglo de entrada ordenado de menor a mayor."
      ],
      "metadata": {
        "id": "NqryzRjf3cTG"
      }
    },
    {
      "cell_type": "markdown",
      "source": [
        "## 2.3 Ejemplo\n",
        "\n",
        "Se llama al siguiente arreglo:\n",
        "\n",
        "A = [1, 6, 3, 10, 8, 2]\n",
        "\n",
        "Se entra a la función *partition* y se inicializan variables:\n",
        "\n",
        "i = -1, j = 0, pivote = 2\n",
        "\n",
        "La función *partition* empieza a iterar:\n",
        "\n",
        "1. Se compara A[j] con el pivote: 1 < 2. \n",
        "\n",
        "    A[j] es menor por lo que se intercambia con A[i+1].\n",
        "\n",
        "    A = [1, 6, 3, 10, 8, 2] (el arreglo se mantiene porque al ser el primer elemento no se puede intercambiar con nadie)\n",
        "\n",
        "    i = 0, j = 1\n",
        "\n",
        "2. Se compara A[j] con el pivote: 6 > 2. \n",
        "\n",
        "    A[j] es mayor por lo que solo se aumenta el indice j.\n",
        "\n",
        "    A = [1, 6, 3, 10, 8, 2]\n",
        "\n",
        "    i = 0, j = 2\n",
        "\n",
        "3. Se compara A[j] con el pivote: 3 > 2.\n",
        "\n",
        "    A[j] es mayor por lo que solo se aumenta el indice j.\n",
        "\n",
        "    A = [1, 6, 3, 10, 8, 2]\n",
        "\n",
        "    i = 0, j = 3\n",
        "\n",
        "4. Se compara A[j] con el pivote: 10 > 2.\n",
        "\n",
        "    A[j] es mayor por lo que solo se aumenta el indice j.\n",
        "\n",
        "    A = [1, 6, 3, 10, 8, 2]\n",
        "\n",
        "    i = 0, j = 4\n",
        "\n",
        "5. Se compara A[j] con el pivote: 8 > 2.\n",
        "\n",
        "    A[j] es mayor por lo que solo se aumenta el indice j.\n",
        "\n",
        "    A = [1, 6, 3, 10, 8, 2]\n",
        "\n",
        "    i = 0, j = 5\n",
        "\n",
        "6. El índice j llegó al final del arreglo, por lo que se termina de iterar. Se intercambia el pivote por A[i+1] y se retorna \"i+1\" como resultado del partition.\n",
        "\n",
        "    A = [1, 2, 3, 10, 8, 6]\n",
        "\n",
        "    Se retorna el valor 1 como elemento partition.\n",
        "\n",
        "7. Se llama de forma recursiva a la función *quickSort* y se le traspasa el sub arreglo [1], para luego traspasarle el sub arreglo [3, 10, 8, 6].\n",
        "\n",
        "El proceso anterior se repite hasta ordenar completamente el arreglo (cada vez se van ordenando arreglos más pequeños, esto debido a que el elemento que se obtiene como partition se usa para ir sub dividiendo el arreglo). \n",
        "\n",
        "Finalmente se retorna el arreglo ordenado A = [1, 2, 3, 6, 8, 10]"
      ],
      "metadata": {
        "id": "Oqo7QLay3giF"
      }
    },
    {
      "cell_type": "markdown",
      "source": [
        "## 2.4 Ejecución del algoritmo paso a paso"
      ],
      "metadata": {
        "id": "65Jb2h3T3j0F"
      }
    },
    {
      "cell_type": "code",
      "source": [
        "comparaciones = 0\n",
        "A = [1, 6, 3, 10, 8, 2]\n",
        "print(\"Arreglo de entrada:\", A)\n",
        "print(\"-------------------------------------------------------\")\n",
        "quickSort1(A, 0, len(A) - 1, verbose = True)\n",
        "print(\"Arreglo ordenado:\", A)\n",
        "print(\"Comparaciones función Partition:\", comparaciones)"
      ],
      "metadata": {
        "colab": {
          "base_uri": "https://localhost:8080/"
        },
        "id": "oJ4VhdC7hZXW",
        "outputId": "3d66c441-98c9-4f21-cadd-be6b85ac3b67"
      },
      "execution_count": 63,
      "outputs": [
        {
          "output_type": "stream",
          "name": "stdout",
          "text": [
            "Arreglo de entrada: [1, 6, 3, 10, 8, 2]\n",
            "-------------------------------------------------------\n",
            "El arreglo entra al partition.\n",
            "Pivote utilizado: 2\n",
            "Arreglo durante partition: [1, 6, 3, 10, 8, 2]\n",
            "Arreglo durante partition: [1, 6, 3, 10, 8, 2]\n",
            "Arreglo durante partition: [1, 6, 3, 10, 8, 2]\n",
            "Arreglo durante partition: [1, 6, 3, 10, 8, 2]\n",
            "Arreglo durante partition: [1, 6, 3, 10, 8, 2]\n",
            "Indice i = 0 / Indice j = 5\n",
            "Se intercambia el pivote a la posicion 1 del arreglo original.\n",
            "Arreglo al salir del partition: [1, 2, 3, 10, 8, 6]\n",
            "Posicion retornada por el partition: 1\n",
            "Primer sub arreglo en ordenarse: [1]\n",
            "Segundo sub arreglo en ordenarse: [3, 10, 8, 6]\n",
            "-------------------------------------------------------\n",
            "El arreglo entra al partition.\n",
            "Pivote utilizado: 6\n",
            "Arreglo durante partition: [3, 10, 8, 6]\n",
            "Arreglo durante partition: [3, 10, 8, 6]\n",
            "Arreglo durante partition: [3, 10, 8, 6]\n",
            "Arreglo durante partition: [3, 10, 8, 6]\n",
            "Arreglo durante partition: [3, 10, 8, 6]\n",
            "Indice i = 2 / Indice j = 5\n",
            "Se intercambia el pivote a la posicion 3 del arreglo original.\n",
            "Arreglo al salir del partition: [1, 2, 3, 6, 8, 10]\n",
            "Posicion retornada por el partition: 3\n",
            "Primer sub arreglo en ordenarse: [3]\n",
            "Segundo sub arreglo en ordenarse: [8, 10]\n",
            "-------------------------------------------------------\n",
            "El arreglo entra al partition.\n",
            "Pivote utilizado: 10\n",
            "Arreglo durante partition: [8, 10]\n",
            "Arreglo durante partition: [8, 10]\n",
            "Arreglo durante partition: [8, 10]\n",
            "Arreglo durante partition: [8, 10]\n",
            "Arreglo durante partition: [8, 10]\n",
            "Indice i = 4 / Indice j = 5\n",
            "Se intercambia el pivote a la posicion 5 del arreglo original.\n",
            "Arreglo al salir del partition: [1, 2, 3, 6, 8, 10]\n",
            "Posicion retornada por el partition: 5\n",
            "Primer sub arreglo en ordenarse: [8]\n",
            "Segundo sub arreglo en ordenarse: []\n",
            "-------------------------------------------------------\n",
            "Arreglo ordenado: [1, 2, 3, 6, 8, 10]\n",
            "Comparaciones función Partition: 15\n"
          ]
        }
      ]
    },
    {
      "cell_type": "markdown",
      "source": [
        "Como se puede ver en el ejemplo anterior, cada vez que el arreglo entra a la función *partition*, se selecciona como pivote al último elemento del arreglo. Luego, al terminar de iterar en el *partition*, el pivote cambia su posición con el elemento de la posición \"i + 1\" y esta posición se retorna como un separador para trabajar con dos partes distintas del arreglo en la siguiente llamada recursiva. El procedimiento anterior se repite hasta que el arreglo queda completamente ordenado."
      ],
      "metadata": {
        "id": "NHWSkdsZ8mob"
      }
    },
    {
      "cell_type": "markdown",
      "source": [
        "# 3. Tiempo de ejecución\n",
        "\n",
        "## Teorema: tiempo de ejecución\n",
        "\n",
        "El algoritmo *QuickSort* tiene un tiempo de ejecución de $O(n^2)$ en su **peor caso** y un tiempo de $O(n log n)$ en su **caso promedio**.\n",
        "\n",
        "## Prueba del teorema\n",
        "\n",
        "El algoritmo *QuickSort*, al ser un algoritmo recursivo (en el que cada vez el arreglo llamado a la función se divide en dos partes), tiene un tiempo de ejecución promedio de $O(n log n)$, esto para cuándo el pivote elegido en la función *partition* es la mediana del arreglo o un número cercano a esta. Sin embargo, este algoritmo también se caracteriza por la posibildad de bajar su rendimiento de tiempo de ejecución hasta un $O(n^2)$, caso que ocurre cuando el arreglo de entrada se encuentra ordenado de menor a mayor.\n",
        "\n",
        "A continuación se verificará que el **teorema maestro** se puede utilizar para encontrar el tiempo de ejecución promedio de este algoritmo.\n",
        "\n",
        "1. Antes de utilizar este teorema, es necesario verificar que la función de recurrencia de este algoritmo es de la forma $T(n) = aT(n/b) + f(n^d)$.\n",
        "\n",
        "2. En este algoritmo, si se considera el mejor caso o caso promedio, el problema se divide cada vez en 2 sub problemas de tamaño 1/2 del problema original de forma recursiva. Además, la función *partition* tiene un tiempo de ejecución de $O(n)$.\n",
        "\n",
        "3. Al saber lo anterior, se puede concluir que la función de recurrencia de *QuickSort* para su mejor caso y caso promedio es de la forma $T(n) = 2T(n/2) + O(n)$, por lo que se puede utilizar el teorema maestro para encontrar el tiempo de ejecución de este algoritmo.\n",
        "\n",
        "A continuación se utilizará el **teorema maestro** para probar el teorema de tiempo de ejecución de este algoritmo.\n",
        "\n",
        "1. Para encontrar el tiempo de ejecución, primero debemos visualizar las variables $a$, $b$ y $d$ en la función de recurrencia. En este caso son 2, 2 y 1 respectivamente.\n",
        "\n",
        "2. Luego hay que evaluar si $a$ es igual, menor o mayor que $b^d$. Reemplazamos y queda que 2 = 2.\n",
        "\n",
        "3. Finalmente, se reemplaza de nuevo en el tiempo de ejecución $O(n^d log n)$ y da que es igual a $O(n log n)$.\n",
        "\n",
        "Finalmente, gracias al teorema maestro, se puede verificar que el tiempo de ejecución del algoritmo *QuickSort* es igual a $O(n log n)$, por lo que su teorema de ejecución es correcto."
      ],
      "metadata": {
        "id": "jvo8x48i3oix"
      }
    },
    {
      "cell_type": "markdown",
      "source": [
        "# 4. Correctitud\n",
        "\n",
        "## Teorema: correctitud de la función Partition\n",
        "\n",
        "La función *Partition* recibe un arreglo A[p..r], lo reorganiza y retorna un índice \"q\" de tal forma que los elementos del arreglo A[p..q-1] son menores o iguales a A[q] y los elementos del arreglo A[q+1..r] son mayores a A[q].\n",
        "\n",
        "## Prueba del teorema\n",
        "\n",
        "A continuación se utilizará la **propiedad invariante de bucle** de la función *partition* para probar su teorema de correctitud. Su propiedad invariante de bucle es la siguiente:\n",
        "\n",
        "\"Al comienzo de cada iteración, se cumple que para cualquier índice \"k\":\n",
        "\n",
        "Si $p ≤ k ≤ i$, entonces $A[k] ≤ A[r]$\n",
        "\n",
        "Si $i < k < j$, entonces $A[k] > A[r]$\"\n",
        "\n",
        "**Inicialización**\n",
        "\n",
        "Antes de la primera iteración, el índice i = -1 y j = 0, por lo que \"k\" sólo puede ser menor que 0. Esto significa que tanto $A[k] ≤ A[r]$ como $A[k] > A[r]$ están vacíos (debido a que \"k\" no es un índice válido para el arreglo). Luego, durante la primera iteración, se comparará el elemento de la posición \"j\" con el pivote y luego, dependiendo del resultado de la comparación, el elemento de la posición \"j\" será agregado al conjunto que va desde \"p\" hasta \"i\" o al conjunto que va desde \"i\" hasta \"j\", dependiendo de si este es menor o mayor que el pivote.\n",
        "\n",
        "**Mantención**\n",
        "\n",
        "Después de la n-ésima iteración, el índice \"j\" será igual a \"n - 1\" y se cumplirá que $i < j < r$, entonces para el conjunto de los números A[k] con $p ≤ k ≤ i$, este contendrá $(i - p) + 1$ elementos $A[k] ≤ A[r]$ y para el conjunto $i < k < j$ el conjunto contendrá $(j - i) + 1$ elementos $A[k] > A[r]$.\n",
        "\n",
        "**Correctitud**\n",
        "\n",
        "Finalmente, al ser correctas tanto la inicialización como la mantención y al reorganizar el arreglo de entrada y retornar el índice \"q\" que lo divide en un lado con elementos menores a este y otro con elementos mayores a este, se concluye que el teorema de correctitud de la función *Partition* es correcto.\n"
      ],
      "metadata": {
        "id": "wwS6ug413s2i"
      }
    },
    {
      "cell_type": "markdown",
      "source": [
        "## Teorema: correctitud del algoritmo QuickSort\n",
        "\n",
        "El algoritmo *QuickSort* reorganiza el arreglo de entrada y lo deja ordenado de menor a mayor. El arreglo $[a_1',a_2',...,a_n']$, queda ordenado de forma que $a_1'\\leq a_2' \\leq... \\leq a_n'$.\n",
        "\n",
        "## Prueba del teorema\n",
        "\n",
        "Debido a que este algoritmo es uno del tipo recursivo, para poder comprobar el teorema anterior se deberá utilizar inducción matemática.\n",
        "\n",
        "**Caso base (n = 1)**\n",
        "\n",
        "Cuándo el arreglo de entrada es de tamaño 1, este sale automáticamente del algoritmo debido a que \"inicio\" no puede ser menor que \"final\". Al ser un arreglo de sólo un elemento, este ya se encuentra ordenado.\n",
        "\n",
        "**Paso inductivo (n > 1)**\n",
        "\n",
        "Se asume que *QuickSort* es correcto para casos m < n. Cuándo el arreglo de entrada es de un tamaño n > 1, el algoritmo encuentra un pivote y luego procesa, sin necesidad de una estructura auxiliar, al arreglo de entrada de forma recursiva. Lo anterior, de forma que primero reorganiza al arreglo desde su inicio hasta antes del pivote y luego desde después del pivote hasta el final. Como el algoritmo ordena cada sección del arreglo pese a que estas tienen un tamaño m < n, se asume que el paso inductivo es correcto.\n",
        "\n",
        "**Correctitud**\n",
        "\n",
        "Finalmente, como el caso base y paso inductivo son correctos, y sabiedo que la función *partition* va reorganizando los arreglos que recibe, se concluye que el teorema de correctitud del algoritmo es correcto."
      ],
      "metadata": {
        "id": "wZzXSRrCuMxo"
      }
    },
    {
      "cell_type": "markdown",
      "source": [
        "# 5. Experimentos"
      ],
      "metadata": {
        "id": "nL0kisAd3w9z"
      }
    },
    {
      "cell_type": "markdown",
      "source": [
        "## 5.1 Cantidad de comparaciones\n",
        "\n",
        "A continuación se muestra una gráfica en la que se comparan la cantidad de comparaciones entre el mejor caso y peor caso del algoritmo para tamaños de problemas con n ∈ [5, 19]."
      ],
      "metadata": {
        "id": "_QJuY5fI6znH"
      }
    },
    {
      "cell_type": "code",
      "source": [
        "import matplotlib.pyplot as plt\n",
        "import math\n",
        "\n",
        "x=[n for n in range(5,20)] \n",
        "y1=[n * n for n in range(5,20)] # Peor caso\n",
        "y2=[n * math.log2(n) for n in range(5,20)] # Mejor caso\n",
        "y=[]; \n",
        "\n",
        "for n in range(5,20):\n",
        "  a = random.sample(range(1, 100), n)\n",
        "  comparaciones = 0\n",
        "  quickSort1(a, 0, len(a)-1)\n",
        "  y.append(comparaciones)\n",
        "\n",
        "plt.plot(x,y)\n",
        "plt.plot(x,y1)\n",
        "plt.plot(x,y2)\n",
        "plt.legend([\"QuickSort\", \"Peor caso teórico\", \"Mejor caso teórico\"])\n",
        "\n",
        "plt.xlabel('n')\n",
        "plt.ylabel('Número de comparaciones')\n",
        "plt.show()"
      ],
      "metadata": {
        "colab": {
          "base_uri": "https://localhost:8080/",
          "height": 279
        },
        "id": "tupDDlv87C2_",
        "outputId": "8ea3c324-ed86-4c07-ea75-11a381d922c7"
      },
      "execution_count": 113,
      "outputs": [
        {
          "output_type": "display_data",
          "data": {
            "text/plain": [
              "<Figure size 432x288 with 1 Axes>"
            ],
            "image/png": "[encoded data removed]"
          },
          "metadata": {
            "needs_background": "light"
          }
        }
      ]
    },
    {
      "cell_type": "markdown",
      "source": [
        "### Análisis de resultados\n",
        "\n",
        "En el gráfico se puede apreciar que el mejor caso realiza $O(n log n)$ comparaciones, a diferencia del peor caso, el cuál realiza $O(n^2)$. Esto se debe a que en el mejor caso teórico, el arreglo siempre se trabajará como dos mitades del mismo tamaño o tamaño similar, mientras que en el peor caso, se trabajará con dos mitades, solo que una será de largo \"n - 1\" (n = largo del arreglo) y la otra será de largo 1, lo que producirá una mayor cantidad de comparaciones para llegar a ordenar el arreglo."
      ],
      "metadata": {
        "id": "gVdCQwa1JB0U"
      }
    },
    {
      "cell_type": "markdown",
      "source": [
        "## 5.2 QuickSort v/s MergeSort"
      ],
      "metadata": {
        "id": "tAVtyl9-Ks8x"
      }
    },
    {
      "cell_type": "markdown",
      "source": [
        "### 5.2.1 Cantidad de comparaciones\n",
        "\n",
        "A continuación se muestran dos gráficos en los que se comparan la cantidad de comparaciones promedio entre los algoritmos *QuickSort* y *MergeSort* para tamaños de problemas con n ∈ [5, 99]."
      ],
      "metadata": {
        "id": "lXuSBhIdK7in"
      }
    },
    {
      "cell_type": "code",
      "source": [
        "comparacionesMergeSort = 0\n",
        "\n",
        "def Merge(sub1, sub2, verbose = False):\n",
        "  largo = len(sub1) + len(sub2)\n",
        "  new = [0] * (largo)\n",
        "  i = 0 ; j = 0 ; k = 0\n",
        "  while (len(sub1) > i and len(sub2) > j):\n",
        "    if (sub1[i] < sub2[j]):\n",
        "      new[k] = sub1[i]\n",
        "      i += 1\n",
        "    else:\n",
        "      new[k] = sub2[j]\n",
        "      j += 1\n",
        "    k += 1\n",
        "    global comparacionesMergeSort\n",
        "    comparacionesMergeSort += 1\n",
        "  while (i < len(sub1)):\n",
        "    new[k] = sub1[i]\n",
        "    i += 1\n",
        "    k += 1\n",
        "    comparacionesMergeSort += 1\n",
        "  while (j < len(sub2)):\n",
        "    new[k] = sub2[j]\n",
        "    j += 1\n",
        "    k += 1\n",
        "    comparacionesMergeSort += 1\n",
        "  return new\n",
        "\n",
        "def mergeSort(A, verbose = False):\n",
        "  if len(A) == 1: return A\n",
        "  medio = int(len(A)/2)\n",
        "  sub1 = mergeSort(A[:medio])\n",
        "  sub2 = mergeSort(A[medio:])\n",
        "  return Merge(sub1, sub2)"
      ],
      "metadata": {
        "id": "KQgX5sydMHBJ"
      },
      "execution_count": 114,
      "outputs": []
    },
    {
      "cell_type": "code",
      "source": [
        "x=[n for n in range(5,100)] \n",
        "y=[]; \n",
        "z=[];\n",
        "\n",
        "for n in range(5,100):\n",
        "  a = random.sample(range(1, 100), n)\n",
        "  b = random.sample(range(1, 100), n)\n",
        "\n",
        "  comparaciones = 0\n",
        "  quickSort1(a, 0, len(a)-1)\n",
        "\n",
        "  comparacionesMergeSort = 0\n",
        "  b = mergeSort(b)\n",
        "\n",
        "  y.append(comparaciones)\n",
        "  z.append(comparacionesMergeSort)\n",
        "\n",
        "plt.plot(x,y)\n",
        "plt.plot(x,z)\n",
        "plt.legend([\"QuickSort (pivote = ultimo elem)\", \"MergeSort\"])\n",
        "\n",
        "plt.xlabel('n')\n",
        "plt.ylabel('Número de comparaciones')\n",
        "plt.show()"
      ],
      "metadata": {
        "colab": {
          "base_uri": "https://localhost:8080/",
          "height": 279
        },
        "id": "esjd34m1NEHt",
        "outputId": "9bae1a88-8e70-4e67-fd24-1d5e5a4f10c9"
      },
      "execution_count": 115,
      "outputs": [
        {
          "output_type": "display_data",
          "data": {
            "text/plain": [
              "<Figure size 432x288 with 1 Axes>"
            ],
            "image/png": "[encoded data removed]"
          },
          "metadata": {
            "needs_background": "light"
          }
        }
      ]
    },
    {
      "cell_type": "code",
      "source": [
        "x=[n for n in range(5,100)] \n",
        "y=[]; \n",
        "z=[];\n",
        "\n",
        "for n in range(5,100):\n",
        "  a = random.sample(range(1, 100), n)\n",
        "  b = random.sample(range(1, 100), n)\n",
        "\n",
        "  comparaciones = 0\n",
        "  quickSort2(a, 0, len(a)-1)\n",
        "\n",
        "  comparacionesMergeSort = 0\n",
        "  b = mergeSort(b)\n",
        "\n",
        "  y.append(comparaciones)\n",
        "  z.append(comparacionesMergeSort)\n",
        "\n",
        "plt.plot(x,y)\n",
        "plt.plot(x,z)\n",
        "plt.legend([\"QuickSort (pivote = primer elem)\", \"MergeSort\"])\n",
        "\n",
        "plt.xlabel('n')\n",
        "plt.ylabel('Número de comparaciones')\n",
        "plt.show()"
      ],
      "metadata": {
        "colab": {
          "base_uri": "https://localhost:8080/",
          "height": 279
        },
        "id": "-aPZm-rzPDVf",
        "outputId": "3bd184a3-a139-48d1-c9c0-1d442b99b14f"
      },
      "execution_count": 116,
      "outputs": [
        {
          "output_type": "display_data",
          "data": {
            "text/plain": [
              "<Figure size 432x288 with 1 Axes>"
            ],
            "image/png": "[encoded data removed]"
          },
          "metadata": {
            "needs_background": "light"
          }
        }
      ]
    },
    {
      "cell_type": "markdown",
      "source": [
        "### Análisis de resultados\n",
        "\n",
        "En los gráficos anteriores se puede apreciar que la cantidad de comparaciones que realiza *QuickSort* depende de la forma en que su función *partition* se haya implementado. \n",
        "\n",
        "Para el primer gráfico, se puede ver que pese a que ambos algoritmos tienen un tiempo de ejecución de $O(n log n)$ para sus casos promedios, el *MergeSort* termina por ser más eficiente al momento de trabajar. Lo anterior se puede deber a que sea más probable que la complejidad temporal de *QuickSort* aumente a $O(n^2)$ al usar como pivote al último elemento del arreglo.\n",
        "\n",
        "Por otro lado, para el segundo gráfico, se puede observar que ambos algoritmos tienen una cantidad bastante similar de comparaciones, probablemente acercándose a un tiempo de ejecución de $O(n log n)$ para ambos algoritmos. Lo anterior se podría deber a que sea una mejor opción escoger como pivote al primer elemento del arreglo en el *QuickSort*."
      ],
      "metadata": {
        "id": "ESlkZd_pOjij"
      }
    },
    {
      "cell_type": "markdown",
      "source": [
        "### 5.2.2 Tiempo de ejecución\n",
        "\n",
        "En los gráficos que se muestran a continuación se visualizan los tiempos de ejecución de los algoritmos *QuickSort* y *MergeSort* en función del tamaño del problema para arreglos generados aleatoriamente de tamaños entre 5 y 500."
      ],
      "metadata": {
        "id": "fU9sxfXVLCmg"
      }
    },
    {
      "cell_type": "code",
      "source": [
        "import datetime\n",
        "from timeit import repeat\n",
        "\n",
        "x=[]; y=[]\n",
        "z=[]; w=[]\n",
        "\n",
        "for n in range(5,500):\n",
        "\n",
        "  a = random.sample(range(1, 1000), n)\n",
        "\n",
        "  #la función repeat está ejecutando 20 veces quickSort1 y mergeSort con el arreglo a y retorna el mejor tiempo obtenido.\n",
        "  t = repeat(setup=\"from __main__ import quickSort1\", stmt=f\"quickSort1({a}, {0}, {len(a)-1})\", repeat=1, number=10)\n",
        "  t2 = repeat(setup=\"from __main__ import mergeSort\", stmt=f\"mergeSort({a})\", repeat=1, number=10)\n",
        "\n",
        "  x.append(n)\n",
        "  y.append(t)\n",
        "\n",
        "  z.append(n)\n",
        "  w.append(t2)\n",
        "\n",
        "\n",
        "plt.plot(x,y)\n",
        "plt.plot(z,w)\n",
        "plt.legend([\"QuickSort (pivote = ultimo elem)\", \"MergeSort\"])\n",
        "\n",
        "plt.xlabel('n')\n",
        "plt.ylabel('time in ms')\n",
        "plt.show()"
      ],
      "metadata": {
        "colab": {
          "base_uri": "https://localhost:8080/",
          "height": 279
        },
        "id": "1oGMld9bMHVx",
        "outputId": "71dde91b-8a72-43b3-d34f-44f410d74dd9"
      },
      "execution_count": 117,
      "outputs": [
        {
          "output_type": "display_data",
          "data": {
            "text/plain": [
              "<Figure size 432x288 with 1 Axes>"
            ],
            "image/png": "[encoded data removed]"
          },
          "metadata": {
            "needs_background": "light"
          }
        }
      ]
    },
    {
      "cell_type": "code",
      "source": [
        "x=[]; y=[]\n",
        "z=[]; w=[]\n",
        "\n",
        "for n in range(5,500):\n",
        "\n",
        "  a = random.sample(range(1, 1000), n)\n",
        "\n",
        "  #la función repeat está ejecutando 20 veces quickSort2 y mergeSort con el arreglo a y retorna el mejor tiempo obtenido.\n",
        "  t = repeat(setup=\"from __main__ import quickSort2\", stmt=f\"quickSort2({a}, {0}, {len(a)-1})\", repeat=1, number=10)\n",
        "  t2 = repeat(setup=\"from __main__ import mergeSort\", stmt=f\"mergeSort({a})\", repeat=1, number=10)\n",
        "\n",
        "  x.append(n)\n",
        "  y.append(t)\n",
        "\n",
        "  z.append(n)\n",
        "  w.append(t2)\n",
        "\n",
        "\n",
        "plt.plot(x,y)\n",
        "plt.plot(z,w)\n",
        "plt.legend([\"QuickSort (pivote = primer elem)\", \"MergeSort\"])\n",
        "\n",
        "plt.xlabel('n')\n",
        "plt.ylabel('time in ms')\n",
        "plt.show()"
      ],
      "metadata": {
        "colab": {
          "base_uri": "https://localhost:8080/",
          "height": 279
        },
        "id": "uA81nlprRgbl",
        "outputId": "574dcab8-fb35-4873-a6b6-2c720071e247"
      },
      "execution_count": 118,
      "outputs": [
        {
          "output_type": "display_data",
          "data": {
            "text/plain": [
              "<Figure size 432x288 with 1 Axes>"
            ],
            "image/png": "[encoded data removed]"
          },
          "metadata": {
            "needs_background": "light"
          }
        }
      ]
    },
    {
      "cell_type": "markdown",
      "source": [
        "### Análisis de resultados\n",
        "\n",
        "En los gráficos anteriores se puede apreciar que el tiempo de ejecución de *QuickSort* depende de la forma en que su función *partition* se haya implementado.\n",
        "\n",
        "Si bien ambas implementaciones funcionan bastante rápido, se puede ver claramente que al momento de comparar *QuickSort* y *MergeSort*, el segundo es más rápido si el primero usa un *partition* con pivote al final. Sin embargo, si *QuickSort* utiliza un pivote al inicio, este algoritmo puede llegar a ser un poco más rápido que *MergeSort*."
      ],
      "metadata": {
        "id": "vEjU_BBwSeej"
      }
    },
    {
      "cell_type": "markdown",
      "source": [
        "### Conclusiones generales experimento 5.2\n",
        "\n",
        "Si bien *QuickSort* es uno de los algoritmos de ordenamiento más rápidos que existen, este puede llegar a ser un poco inestable en su funcionamiento debido a las diferentes funciones de partisión que se le pueden implementar. Por esta razón, se puede concluir que para usar este algoritmo, primero se debería buscar la mejor implementación posible y luego se debería comparar con otros, esto con el fin de saber cuando conviene utilizarlo. "
      ],
      "metadata": {
        "id": "4AsH7OsKTf-a"
      }
    },
    {
      "cell_type": "markdown",
      "source": [
        "## 5.3 Rendimiento del algoritmo al usar sus distintas implementaciones\n",
        "\n",
        "En el gráfico que se muestra a continuación se visualizan los tiempos de ejecución del algoritmo *QuickSort* usando sus tres selecciones de pivote distintas en función del tamaño del problema para arreglos generados aleatoriamente de tamaños entre 5 y 30."
      ],
      "metadata": {
        "id": "NaYt9LbhVlbL"
      }
    },
    {
      "cell_type": "code",
      "source": [
        "x1=[]; y1=[]\n",
        "x2=[]; y2=[]\n",
        "x3=[]; y3=[]\n",
        "\n",
        "for n in range(5,30):\n",
        "\n",
        "  a = random.sample(range(1, 1000), n)\n",
        "\n",
        "  t = repeat(setup=\"from __main__ import quickSort1\", stmt=f\"quickSort1({a}, {0}, {len(a)-1})\", repeat=1, number=10)\n",
        "  t2 = repeat(setup=\"from __main__ import quickSort2\", stmt=f\"quickSort2({a}, {0}, {len(a)-1})\", repeat=1, number=10)\n",
        "  t3 = repeat(setup=\"from __main__ import quickSort3\", stmt=f\"quickSort3({a}, {0}, {len(a)-1})\", repeat=1, number=10)\n",
        "\n",
        "  x1.append(n)\n",
        "  y1.append(t)\n",
        "\n",
        "  x2.append(n)\n",
        "  y2.append(t2)\n",
        "\n",
        "  x3.append(n)\n",
        "  y3.append(t3)\n",
        "\n",
        "plt.plot(x1,y1)\n",
        "plt.plot(x2,y2)\n",
        "plt.plot(x3,y3)\n",
        "plt.legend([\"QuickSort (pivote = ultimo elem)\", \"QuickSort (pivote = primer elem)\", \"QuickSort (pivote = medianda arreglo random de 3)\"])\n",
        "\n",
        "plt.xlabel('n')\n",
        "plt.ylabel('time in ms')\n",
        "plt.show()"
      ],
      "metadata": {
        "colab": {
          "base_uri": "https://localhost:8080/",
          "height": 279
        },
        "id": "C7SaqkROWJA4",
        "outputId": "6ed31acc-3e22-4506-eaaa-adcc5376b253"
      },
      "execution_count": 121,
      "outputs": [
        {
          "output_type": "display_data",
          "data": {
            "text/plain": [
              "<Figure size 432x288 with 1 Axes>"
            ],
            "image/png": "[encoded data removed]"
          },
          "metadata": {
            "needs_background": "light"
          }
        }
      ]
    },
    {
      "cell_type": "markdown",
      "source": [
        "### Análisis de resultados\n",
        "\n",
        "Como se puede ver en el gráfico anterior, si se trata sobre comparar las distintas versiones del algoritmo, claramente se puede apreciar que tanto el pivote al inicio, como al final, hacen que el algoritmo funcione bastante rápido (gracias al experimento 5.2 se cree que el caso del pivote al inicio es aún más eficiente que el pivote al final). Sin embargo, la implementación con un pivote sacado de la mediana de tres elementos al azar del arreglo es extremadamente ineficiente, esto debido a que no hay control alguno sobre que elemento se utiliza como pivote, por lo que el algoritmo puede funcionar bastante mal, llegando incluso a caerse por no dejar de iterar a tiempo (razón por la que sólo se está experimentando hasta arreglos de largo 30)."
      ],
      "metadata": {
        "id": "1CeTV7gdZMMv"
      }
    }
  ]
}