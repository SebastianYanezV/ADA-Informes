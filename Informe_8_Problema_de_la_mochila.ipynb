{
  "nbformat": 4,
  "nbformat_minor": 0,
  "metadata": {
    "colab": {
      "provenance": [],
      "collapsed_sections": [
        "z4vMpa4BWG4o"
      ],
      "authorship_tag": "ABX9TyP1VBN5UrEsBKjUvJcY3hD9",
      "include_colab_link": true
    },
    "kernelspec": {
      "name": "python3",
      "display_name": "Python 3"
    },
    "language_info": {
      "name": "python"
    }
  },
  "cells": [
    {
      "cell_type": "markdown",
      "metadata": {
        "id": "view-in-github",
        "colab_type": "text"
      },
      "source": [
        "<a href=\"https://colab.research.google.com/github/SebastianYanezV/ADA-Informes/blob/main/Informe_8_Problema_de_la_mochila.ipynb\" target=\"_parent\"><img src=\"https://colab.research.google.com/assets/colab-badge.svg\" alt=\"Open In Colab\"/></a>"
      ]
    },
    {
      "cell_type": "markdown",
      "source": [
        "# 1. Descripción del problema: Problema de la mochila\n",
        "\n",
        "**Entrada:** Conjunto de objetos, cada uno con un valor y peso específico de las formas $V = [v_1, v_2, ..., v_n]$ y $P = [p_1, p_2, ..., p_n]$ respectivamente. También se recibe un peso máximo específico de la mochila $W$ y la cantidad de objetos presentes en el conjunto.\n",
        "\n",
        "**Salida:** Valor máximo que se puede almacenar en la mochila ingresada, de forma que este valor corresponda a la solución óptima del problema. \n",
        "\n",
        "El problema que se busca resolver en esta ocasión, corresponde al problema de la mochila. El objetivo de este problema es el de calcular la máxima ganancia que se puede obtener al ingresar una cantidad limitada de objetos en una mochila con un almacenamiento limitado, por lo que es un problema de optimización. Para resolver este problema, se utilizará el algoritmo *KnapSack*, el cuál se encargará de encontrar la solución óptima de este problema."
      ],
      "metadata": {
        "id": "XiQNL_LrVcRM"
      }
    },
    {
      "cell_type": "markdown",
      "source": [
        "# 2. KnapSack"
      ],
      "metadata": {
        "id": "tEgiD4i9Vi2E"
      }
    },
    {
      "cell_type": "markdown",
      "source": [
        "## 2.1 Código\n",
        "\n",
        "Los códigos que se muestran a continuación pertenecen a las dos implementaciones del algoritmo *KnapSack*."
      ],
      "metadata": {
        "id": "gK8HxgnzVnOM"
      }
    },
    {
      "cell_type": "code",
      "source": [
        "import random\n",
        "\n",
        "def knapsack_instance_generator(N):\n",
        "  val = []\n",
        "  wt = []\n",
        "  prev_v = 0\n",
        "  prev_w = 0\n",
        "  for i in range(N):\n",
        "    v = random.randint(1, 100)\n",
        "    val.append(prev_v + v)\n",
        "    prev_v += v\n",
        "    \n",
        "    w = random.randint(1, 10)\n",
        "    wt.append(prev_w + w)\n",
        "    if (v >= 50):\n",
        "        prev_w += w\n",
        "\n",
        "  W = int(sum(wt) / 2)\n",
        "  return W, val, wt"
      ],
      "metadata": {
        "id": "zLixnrHLogvn"
      },
      "execution_count": 21,
      "outputs": []
    },
    {
      "cell_type": "markdown",
      "source": [
        "### 2.1.1 KnapSack dinámico"
      ],
      "metadata": {
        "id": "id11FpdgVqTC"
      }
    },
    {
      "cell_type": "code",
      "source": [
        "subProblemas = 0\n",
        "\n",
        "def knapSack(v, p, pM, n, verbose = False):\n",
        "  #Se crea e inicializa una matriz de tamaño \"cantidad de objetos + 1\" por \"peso de la mochila + 1\"\n",
        "  K = [[0 for x in range(pM + 1)] for x in range(n + 1)]\n",
        "\n",
        "  if verbose == True: \n",
        "    print(f\"Se crea una matriz de tamaño {n+1} x {pM+1} y se inicializa con 0s.\")\n",
        "    print(\"-------------------------------------------------------------------------\")\n",
        "  \n",
        "  #Se recorren las filas de la matriz\n",
        "  for i in range(n + 1):\n",
        "    #Se recorren las columnas de la matriz\n",
        "    for w in range(pM + 1):\n",
        "      global subProblemas\n",
        "      subProblemas += 1\n",
        "      #Se va utilizando la sub-estructura óptima para realizar cada cálculo mientras se recorre la matriz\n",
        "      if (i == 0 or w == 0): K[i][w] = 0\n",
        "\n",
        "      elif (p[i-1] <= w): \n",
        "        K[i][w] = max(v[i-1] + K[i-1][w-p[i-1]], K[i-1][w])\n",
        "\n",
        "        if verbose == True: \n",
        "          if (K[i][w] > K[i][w-1]): \n",
        "            print(f\"Si {p[i-1]} (pesos en la posición {i-1}) ≤ {w} (columna actual de la matriz), entonces:\")\n",
        "            print(f\"La mayor ganancia guardada será el mayor valor entre {v[i-1] + K[i-1][w-p[i-1]]} (valores en la posición {i-1} + matriz en la posición [{i-1}][{w-p[i-1]}]) y {K[i-1][w]} (matriz en la posición [{i-1}][{w}])\")\n",
        "            print(f\"Mayor ganancia guardada: {K[i][w]}\")\n",
        "\n",
        "      else: \n",
        "        K[i][w] = K[i-1][w]\n",
        "        if verbose == True: \n",
        "          if (K[i][w] > K[i][w-1]): \n",
        "            print(f\"Si {p[i-1]} (pesos en la posición {i-1}) > {w} (columna actual de la matriz), entonces:\")\n",
        "            print(f\"Mayor ganancia guardada: {K[i][w]}\")\n",
        "    \n",
        "    if verbose == True: print(\"-------------------------------------------------------------------------\")\n",
        "  \n",
        "  #Se retorna el último valor de la matriz (el valor de la ezquina inferior derecha), el cuál representa la solución óptima del problema\n",
        "  return K[n][pM]\n",
        "\n",
        "#Ejemplo\n",
        "valor = [60, 100, 120]\n",
        "peso = [10, 20, 30]\n",
        "pesoMaxMochila = 50\n",
        "cantObjetos = len(valor)\n",
        "valorMaximo = knapSack(valor, peso, pesoMaxMochila, cantObjetos)\n",
        "print(f\"El valor máximo que se puede llevar en la mochila es de ${valorMaximo}\")\n",
        "print(\"Cantidad de sub-problemas resueltos:\", subProblemas)"
      ],
      "metadata": {
        "colab": {
          "base_uri": "https://localhost:8080/"
        },
        "id": "fyMhXiSvV9Yo",
        "outputId": "72b118cc-39ec-4447-c5ab-d011e68b1631"
      },
      "execution_count": 22,
      "outputs": [
        {
          "output_type": "stream",
          "name": "stdout",
          "text": [
            "El valor máximo que se puede llevar en la mochila es de $220\n",
            "Cantidad de sub-problemas resueltos: 204\n"
          ]
        }
      ]
    },
    {
      "cell_type": "markdown",
      "source": [
        "### 2.1.2 KnapSack \"greedy\""
      ],
      "metadata": {
        "id": "pgeGlVS8V_9M"
      }
    },
    {
      "cell_type": "code",
      "execution_count": 29,
      "metadata": {
        "colab": {
          "base_uri": "https://localhost:8080/"
        },
        "id": "G5efCI9ACPC-",
        "outputId": "560eb733-7209-438f-a9e4-8f7917d77528"
      },
      "outputs": [
        {
          "output_type": "stream",
          "name": "stdout",
          "text": [
            "El valor máximo que se puede llevar en la mochila es de $160\n",
            "Cantidad de iteraciones: 3\n"
          ]
        }
      ],
      "source": [
        "iteraciones = 0\n",
        "\n",
        "def greedyKnapSack(v, p, pM, n, verbose = False):\n",
        "  #Se crean dos arreglos, uno para guardar las razones entre valor y peso de cada objeto\n",
        "  #y otro para guardar la posición de cada objeto\n",
        "  valXKilo = []\n",
        "  indices = []\n",
        "\n",
        "  #Se inicializan ambos arreglos\n",
        "  for i in range(n): valXKilo.append(v[i] / p[i])\n",
        "  if verbose == True: print(f\"Arreglo de razones valor/peso de cada objeto: {valXKilo}\")\n",
        "  \n",
        "  for i in range(n): indices.append(i)\n",
        "  if verbose == True: print(f\"Arreglo de indices de cada objeto: {indices}\")\n",
        "\n",
        "  if verbose == True: \n",
        "    print(\"A continuación se ordenarán los objetos en base a sus razones de forma descendente.\")\n",
        "    print(\"-------------------------------------------------------------------------\")\n",
        "  \n",
        "  #Se realiza el ordenamiento de los objetos de forma descenedente en base a sus razones valor/peso\n",
        "  #Además de reordenar los objetos, se deben actualizar sus posiciones si estos son reordenados\n",
        "  for i in range(n):\n",
        "    mayor = 0\n",
        "    if verbose == True: print(f\"Mayor razón: {mayor}\")\n",
        "    for j in range(i, n):\n",
        "      if verbose == True: print(f\"Razón objeto actual: {valXKilo[j]}\")\n",
        "      if (valXKilo[j] > mayor): \n",
        "        if verbose == True: print(f\"{valXKilo[j]} es mayor que el {mayor} (mayor razón encontrada hasta ahora)\")\n",
        "        mayor = valXKilo[j]\n",
        "        if verbose == True: print(f\"Mayor razón encontrada: {mayor}\")\n",
        "        valXKilo[j], valXKilo[i] = valXKilo[i], valXKilo[j]\n",
        "        indices[j], indices[i] = indices[i], indices[j]\n",
        "    if verbose == True: print(\"-------------------------------------------------------------------------\")\n",
        "  \n",
        "  if verbose == True: \n",
        "    print(f\"Arreglo de indices ordenado de cada objeto: {indices}\")\n",
        "    print(f\"Arreglo de razones valor/peso ordenado de cada objeto: {valXKilo}\")\n",
        "    print(\"A continuación se almacenarán los objetos en la mochila.\")\n",
        "    print(\"-------------------------------------------------------------------------\")\n",
        "\n",
        "  valorAlmacenado = 0\n",
        "  if verbose == True: print(\"Máximo valor almacenado en la mochila:\", valorAlmacenado)\n",
        "\n",
        "  #Se recorren los objetos en el orden en el que quedaron y se van guardando en la mochila mientras esta tenga espacio\n",
        "  for i in indices:\n",
        "    global iteraciones\n",
        "    iteraciones += 1\n",
        "    if (p[i] <= pM):\n",
        "      valorAlmacenado += v[i]\n",
        "      if verbose == True: print(\"Máximo valor almacenado en la mochila:\", valorAlmacenado)\n",
        "      pM -= p[i]\n",
        "\n",
        "  #Finalmente se retorna el máximo valor que se pudo almacenar\n",
        "  return valorAlmacenado\n",
        "\n",
        "#Ejemplo\n",
        "valor = [60, 100, 120]\n",
        "peso = [10, 20, 30]\n",
        "pesoMaxMochila = 50\n",
        "cantObjetos = len(valor)\n",
        "valorMaximo = greedyKnapSack(valor, peso, pesoMaxMochila, cantObjetos)\n",
        "print(f\"El valor máximo que se puede llevar en la mochila es de ${valorMaximo}\")\n",
        "print(\"Cantidad de iteraciones:\", iteraciones)"
      ]
    },
    {
      "cell_type": "markdown",
      "source": [
        "## 2.2 Descripción del algoritmo\n",
        "\n",
        "Antes de describir el funcionamiento del algoritmo, se explicará cuáles son la **sub-estructura óptima** y la **función recursiva** para este problema en cada una de sus dos aplicaciones.\n"
      ],
      "metadata": {
        "id": "z4vMpa4BWG4o"
      }
    },
    {
      "cell_type": "markdown",
      "source": [
        "### 2.2.1 Descripción del algoritmo dinámico\n",
        "\n",
        "**Sub-estructura óptima:** El valor óptimo para el problema de la mochila consiste en tomar un objeto $i$ y resolver el sub-problema generado sin considerar a este objeto. Este proceso se debe repetir para cada objeto, lo que daría como resultado el valor óptimo del problema original. Esto demuestra que efectivamente este problema se puede resolver óptimamanete utilizando una sub-estructura óptima.\n",
        "\n",
        "**Función recursiva:** Gracias a la explicación anterior, se puede llegar a la siguiente función recursiva para el problema.\n",
        "\n",
        "$Mochila(V,W) = max(v_i + Mochila(V - v_i, W - w_i))$\n",
        "\n",
        "A continuación se decribe el funcionamiento del algoritmo.\n",
        "\n",
        "En primer lugar, el algoritmo recibe un arreglo de valores y otro de pesos, también un peso máximo a almacenar en la mochila y la cantidad de objetos con los que se va a trabajar.\n",
        "\n",
        "1. Se crea una matriz $K$ de tamaño $(n + 1)$ x $(pM + 1)$. Esto es una matriz de tamaño cantidad de objetos + 1 por peso máximo de la mochila + 1. La matriz se inicializa con 0s.\n",
        "\n",
        "2. Se recorren las filas de la matriz (primer ciclo) y dentro de cada fila se recorren sus respectivas columnas (segundo ciclo).\n",
        "\n",
        "3. Ya en el ciclo interno del algoritmo, se aplica la sub-estructura óptima anteriormente explicada para encontrar un posible valor óptimo.\n",
        "\n",
        "4. Finalmente, al terminar de iterar, se retorna la última posición de la matriz, la cuál contiene la respuesta óptima para el problema."
      ],
      "metadata": {
        "id": "e5BbMD_KWWl0"
      }
    },
    {
      "cell_type": "markdown",
      "source": [
        "### 2.2.2 Descripción del algoritmo \"greedy\"\n",
        "\n",
        "**Sub-estructura óptima:** No es posible realizar la decisión óptima al principio, sin embargo igualmente se puede implementar el algoritmo *greedy*. Para esto se debe seleccionar en cada iteración un elemento $v_k$ que maximice el factor **valor/peso**. \n",
        "\n",
        "**Función recursiva:** El valor óptimo encontrado corresponde a resolver un sub-problema y escoger un objeto $v_k$.\n",
        "\n",
        "$Mochila´(V,W) = v_k + Mochila´(V - v_k, W - w_k)$\n",
        "\n",
        "A continuación se decribe el funcionamiento del algoritmo.\n",
        "\n",
        "En primer lugar, el algoritmo recibe un arreglo de valores y otro de pesos, también un peso máximo a almacenar en la mochila y la cantidad de objetos con los que se va a trabajar.\n",
        "\n",
        "1. Se crea un arreglo de largo $n$ en el que se almacenarán las razones de cada objeto entre su valor y peso.\n",
        "\n",
        "2. Se crea un segundo arreglo de largo $n$ en el que se almacenarán los índices de cada objeto al momento de entrar a la función.\n",
        "\n",
        "3. Se deben ordenar los objetos de manera descendente, esto en base a la razón de cada uno (dato calculado con anterioridad).\n",
        "\n",
        "4. Se recorren los objetos en el nuevo orden en el que se encuentran y se van guardando en la mochila si su peso lo permite.\n",
        "\n",
        "5. Finalmente, se retorna el valor total que se pudo almacenar en la mochila."
      ],
      "metadata": {
        "id": "Z7qoNLpzWaiu"
      }
    },
    {
      "cell_type": "markdown",
      "source": [
        "## 2.3 Ejemplo"
      ],
      "metadata": {
        "id": "_v-dKAiOWfci"
      }
    },
    {
      "cell_type": "markdown",
      "source": [
        "### 2.3.1 KnapSack dinámico\n",
        "\n",
        "Se ingresa el siguiente arreglo de valores, de pesos y el peso soportado por la mochila.\n",
        "\n",
        "valor = [6, 10, 12]\n",
        "\n",
        "peso = [1, 2, 3]\n",
        "\n",
        "pesoMochila = 5\n",
        "\n",
        "1. Se crea una matriz de tamaño 4 x 6 inicializa con 0s.\n",
        "\n",
        "  [0 0 0 0 0 0]\n",
        "\n",
        "  [0 0 0 0 0 0]\n",
        "\n",
        "  [0 0 0 0 0 0]\n",
        "\n",
        "  [0 0 0 0 0 0]\n",
        "\n",
        "2. Se recorren las filas de la matriz desde 0 hasta 4 y las columnas desde 0 hasta 6.\n",
        "\n",
        "3. Se accede a la posición 0,0 de la matriz. Cómo esta posicón contiene al menos una fila o columna con índice 0, su valor se deja en 0. Este proceso se repite en toda la primera iteración, ya que siempre en este caso, la fila será igual a 0. Lo mismo ocurrirá en las posiciones 1,0 ; 2,0 y 3,0.\n",
        "\n",
        "4. Se accede a la posición 1,1 de la matriz. Si peso[0] ≤ 1, entonces el valor almacenado en la posición actual será el mayor valor entre valor[0] + M[0][0] y M[0][1]. Cómo 1 ≤ 1, entonces el valor almacenado en esta posición será el mayor entre 6 + 0 y 0. Lo anterior significa que el valor de la posición 1,1 de la matriz será igual a 6.\n",
        "\n",
        "  [0 0 0 0 0 0]\n",
        "\n",
        "  [0 6 0 0 0 0]\n",
        "\n",
        "  [0 0 0 0 0 0]\n",
        "\n",
        "  [0 0 0 0 0 0]\n",
        "\n",
        "\n",
        "5. El proceso anterior se repite hasta terminar de calcular cada valor de cada posición de la matriz.\n",
        "\n",
        "Finalmente, se retorna la última posición de la matriz, en este caso, la posición 3,5 , ya que en esta posición es donde se encuentra la solución del problema. Para este caso, la solución es igual a 22."
      ],
      "metadata": {
        "id": "LCXoGZODec8m"
      }
    },
    {
      "cell_type": "markdown",
      "source": [
        "### 2.3.2 KnapSack \"greedy\"\n",
        "\n",
        "Se ingresa el siguiente arreglo de valores, de pesos y el peso soportado por la mochila.\n",
        "\n",
        "valor = [6, 10, 12]\n",
        "\n",
        "peso = [1, 2, 3]\n",
        "\n",
        "pesoMochila = 5\n",
        "\n",
        "1. Se crean dos arreglos de largo igual a la cantidad de objetos ingresados y se inicializan con sus razones valor/peso y sus índices.\n",
        "\n",
        "  razones = [6, 5, 4]\n",
        "\n",
        "  índices = [0, 1, 2]\n",
        "\n",
        "2. Se deben ordenar los objetos de forma descenedente en base a sus razones valor/peso. Además, se deben actualizar sus posiciones si estos son reordenados (ya se encontraban ordenados al momento de ser ingresados).\n",
        "\n",
        "  razones = [6, 5, 4]\n",
        "\n",
        "  índices = [0, 1, 2]\n",
        "\n",
        "3. Se empieza a ingresar cada objeto a la mochila en el nuevo orden en el que se encuentran sus índices del arreglo de índices.\n",
        "\n",
        "4. Se revisa el índice 0. ¿El peso de esta posición es menor o igual al peso de la mochila? Si es así, entonces el valor almacenado (que parte en 0) es aumentado en el valor del objeto de la posición 0. El valor almacenado hasta ahora es de 6. Luego se le resta el peso de este objeto al peso de la mochila para conocer el peso disponible restante, que es igual a 4.\n",
        "\n",
        "5. Ahora se revisa el índice 1. ¿El peso de esta posición es menor o igual al peso libre de la mochila? Si es así, entonces el valor almacenado (que ahora es 6) es aumentado en el valor del objeto de la posición 1. El nuevo valor almacenado es de 16. Luego se le resta el peso de este objeto al peso libre de la mochila para conocer el peso disponible restante, que es igual a 2.\n",
        "\n",
        "6. Finalmente, se revisa el índice 2. Cómo el peso del objeto de esta posición es mayor al peso libre de la mochila, simplemente no se agrega.\n",
        "\n",
        "Finalmente, se retorna el valor de los objetos almacenados en la mochila, que es igual a 16.\n",
        "\n"
      ],
      "metadata": {
        "id": "CShJk003edZD"
      }
    },
    {
      "cell_type": "markdown",
      "source": [
        "## 2.4 Ejecución del algoritmo paso a paso"
      ],
      "metadata": {
        "id": "WshGuhc0WhiX"
      }
    },
    {
      "cell_type": "markdown",
      "source": [
        "### 2.4.1 KnapSack dinámico"
      ],
      "metadata": {
        "id": "ilXHjKOMWxNq"
      }
    },
    {
      "cell_type": "code",
      "source": [
        "W, val, wt = knapsack_instance_generator(5)\n",
        "print(\"Valores de objetos:\", val)\n",
        "print(\"Pesos de objetos:\", wt)\n",
        "print(\"Peso de la mochila:\", W)\n",
        "print(\"-------------------------------------------------------------------------\")\n",
        "cantObjetos = len(val)\n",
        "valorMaximo = knapSack(val, wt, W, cantObjetos, verbose = True)\n",
        "print(\"-------------------------------------------------------------------------\")\n",
        "print(f\"El valor máximo que se puede llevar en la mochila es de ${valorMaximo}\")\n",
        "print(\"Cantidad de sub-problemas resueltos:\", subProblemas)"
      ],
      "metadata": {
        "colab": {
          "base_uri": "https://localhost:8080/"
        },
        "id": "B0N2CKHnoQCY",
        "outputId": "499bf4d5-e270-48d6-ecc8-b16cc38ad12d"
      },
      "execution_count": 25,
      "outputs": [
        {
          "output_type": "stream",
          "name": "stdout",
          "text": [
            "Valores de objetos: [44, 86, 175, 235, 239]\n",
            "Pesos de objetos: [9, 4, 7, 10, 14]\n",
            "Peso de la mochila: 22\n",
            "-------------------------------------------------------------------------\n",
            "Se crea una matriz de tamaño 6 x 23 y se inicializa con 0s.\n",
            "-------------------------------------------------------------------------\n",
            "-------------------------------------------------------------------------\n",
            "Si 9 (pesos en la posición 0) ≤ 9 (columna actual de la matriz), entonces:\n",
            "La mayor ganancia guardada será el mayor valor entre 44 (valores en la posición 0 + matriz en la posición [0][0]) y 0 (matriz en la posición [0][9])\n",
            "Mayor ganancia guardada: 44\n",
            "-------------------------------------------------------------------------\n",
            "Si 4 (pesos en la posición 1) ≤ 4 (columna actual de la matriz), entonces:\n",
            "La mayor ganancia guardada será el mayor valor entre 86 (valores en la posición 1 + matriz en la posición [1][0]) y 0 (matriz en la posición [1][4])\n",
            "Mayor ganancia guardada: 86\n",
            "Si 4 (pesos en la posición 1) ≤ 13 (columna actual de la matriz), entonces:\n",
            "La mayor ganancia guardada será el mayor valor entre 130 (valores en la posición 1 + matriz en la posición [1][9]) y 44 (matriz en la posición [1][13])\n",
            "Mayor ganancia guardada: 130\n",
            "-------------------------------------------------------------------------\n",
            "Si 7 (pesos en la posición 2) > 4 (columna actual de la matriz), entonces:\n",
            "Mayor ganancia guardada: 86\n",
            "Si 7 (pesos en la posición 2) ≤ 7 (columna actual de la matriz), entonces:\n",
            "La mayor ganancia guardada será el mayor valor entre 175 (valores en la posición 2 + matriz en la posición [2][0]) y 86 (matriz en la posición [2][7])\n",
            "Mayor ganancia guardada: 175\n",
            "Si 7 (pesos en la posición 2) ≤ 11 (columna actual de la matriz), entonces:\n",
            "La mayor ganancia guardada será el mayor valor entre 261 (valores en la posición 2 + matriz en la posición [2][4]) y 86 (matriz en la posición [2][11])\n",
            "Mayor ganancia guardada: 261\n",
            "Si 7 (pesos en la posición 2) ≤ 20 (columna actual de la matriz), entonces:\n",
            "La mayor ganancia guardada será el mayor valor entre 305 (valores en la posición 2 + matriz en la posición [2][13]) y 130 (matriz en la posición [2][20])\n",
            "Mayor ganancia guardada: 305\n",
            "-------------------------------------------------------------------------\n",
            "Si 10 (pesos en la posición 3) > 4 (columna actual de la matriz), entonces:\n",
            "Mayor ganancia guardada: 86\n",
            "Si 10 (pesos en la posición 3) > 7 (columna actual de la matriz), entonces:\n",
            "Mayor ganancia guardada: 175\n",
            "Si 10 (pesos en la posición 3) ≤ 10 (columna actual de la matriz), entonces:\n",
            "La mayor ganancia guardada será el mayor valor entre 235 (valores en la posición 3 + matriz en la posición [3][0]) y 175 (matriz en la posición [3][10])\n",
            "Mayor ganancia guardada: 235\n",
            "Si 10 (pesos en la posición 3) ≤ 11 (columna actual de la matriz), entonces:\n",
            "La mayor ganancia guardada será el mayor valor entre 235 (valores en la posición 3 + matriz en la posición [3][1]) y 261 (matriz en la posición [3][11])\n",
            "Mayor ganancia guardada: 261\n",
            "Si 10 (pesos en la posición 3) ≤ 14 (columna actual de la matriz), entonces:\n",
            "La mayor ganancia guardada será el mayor valor entre 321 (valores en la posición 3 + matriz en la posición [3][4]) y 261 (matriz en la posición [3][14])\n",
            "Mayor ganancia guardada: 321\n",
            "Si 10 (pesos en la posición 3) ≤ 17 (columna actual de la matriz), entonces:\n",
            "La mayor ganancia guardada será el mayor valor entre 410 (valores en la posición 3 + matriz en la posición [3][7]) y 261 (matriz en la posición [3][17])\n",
            "Mayor ganancia guardada: 410\n",
            "Si 10 (pesos en la posición 3) ≤ 21 (columna actual de la matriz), entonces:\n",
            "La mayor ganancia guardada será el mayor valor entre 496 (valores en la posición 3 + matriz en la posición [3][11]) y 305 (matriz en la posición [3][21])\n",
            "Mayor ganancia guardada: 496\n",
            "-------------------------------------------------------------------------\n",
            "Si 14 (pesos en la posición 4) > 4 (columna actual de la matriz), entonces:\n",
            "Mayor ganancia guardada: 86\n",
            "Si 14 (pesos en la posición 4) > 7 (columna actual de la matriz), entonces:\n",
            "Mayor ganancia guardada: 175\n",
            "Si 14 (pesos en la posición 4) > 10 (columna actual de la matriz), entonces:\n",
            "Mayor ganancia guardada: 235\n",
            "Si 14 (pesos en la posición 4) > 11 (columna actual de la matriz), entonces:\n",
            "Mayor ganancia guardada: 261\n",
            "Si 14 (pesos en la posición 4) ≤ 14 (columna actual de la matriz), entonces:\n",
            "La mayor ganancia guardada será el mayor valor entre 239 (valores en la posición 4 + matriz en la posición [4][0]) y 321 (matriz en la posición [4][14])\n",
            "Mayor ganancia guardada: 321\n",
            "Si 14 (pesos en la posición 4) ≤ 17 (columna actual de la matriz), entonces:\n",
            "La mayor ganancia guardada será el mayor valor entre 239 (valores en la posición 4 + matriz en la posición [4][3]) y 410 (matriz en la posición [4][17])\n",
            "Mayor ganancia guardada: 410\n",
            "Si 14 (pesos en la posición 4) ≤ 21 (columna actual de la matriz), entonces:\n",
            "La mayor ganancia guardada será el mayor valor entre 414 (valores en la posición 4 + matriz en la posición [4][7]) y 496 (matriz en la posición [4][21])\n",
            "Mayor ganancia guardada: 496\n",
            "-------------------------------------------------------------------------\n",
            "-------------------------------------------------------------------------\n",
            "El valor máximo que se puede llevar en la mochila es de $496\n",
            "Cantidad de sub-problemas resueltos: 654\n"
          ]
        }
      ]
    },
    {
      "cell_type": "markdown",
      "source": [
        "En el ejemplo anterior, debido a la gran cantidad de sub-problemas que se resuelven, sólo se muestran las mayores ganancias obtenidas si estas son distintas de 0 y si son mayores a la anterior mayor ganancia encontrada."
      ],
      "metadata": {
        "id": "lt7vXkKkV5dh"
      }
    },
    {
      "cell_type": "markdown",
      "source": [
        "### 2.4.2 KnapSack \"greedy\""
      ],
      "metadata": {
        "id": "bq8PEzmoWxjJ"
      }
    },
    {
      "cell_type": "code",
      "source": [
        "W, val, wt = knapsack_instance_generator(3)\n",
        "print(\"Valores de objetos:\", val)\n",
        "print(\"Pesos de objetos:\", wt)\n",
        "print(\"Peso de la mochila:\", W)\n",
        "print(\"-------------------------------------------------------------------------\")\n",
        "cantObjetos = len(val)\n",
        "valorMaximo = greedyKnapSack(val, wt, W, cantObjetos, verbose = True)\n",
        "print(\"-------------------------------------------------------------------------\")\n",
        "print(f\"El valor máximo que se puede llevar en la mochila es de ${valorMaximo}\")\n",
        "print(\"Cantidad de iteraciones:\", iteraciones)"
      ],
      "metadata": {
        "colab": {
          "base_uri": "https://localhost:8080/"
        },
        "id": "b1lUWhh5tyfA",
        "outputId": "626f3d6b-422a-4a28-e7aa-fb56db4718b3"
      },
      "execution_count": 26,
      "outputs": [
        {
          "output_type": "stream",
          "name": "stdout",
          "text": [
            "Valores de objetos: [92, 112, 193]\n",
            "Pesos de objetos: [1, 11, 4]\n",
            "Peso de la mochila: 8\n",
            "-------------------------------------------------------------------------\n",
            "Arreglo de razones valor/peso de cada objeto: [92.0, 10.181818181818182, 48.25]\n",
            "Arreglo de indices de cada objeto: [0, 1, 2]\n",
            "A continuación se ordenarán los objetos en base a sus razones de forma descendente.\n",
            "-------------------------------------------------------------------------\n",
            "Mayor razón: 0\n",
            "Razón objeto actual: 92.0\n",
            "92.0 es mayor que el 0 (mayor razón encontrada hasta ahora)\n",
            "Mayor razón encontrada: 92.0\n",
            "Razón objeto actual: 10.181818181818182\n",
            "Razón objeto actual: 48.25\n",
            "-------------------------------------------------------------------------\n",
            "Mayor razón: 0\n",
            "Razón objeto actual: 10.181818181818182\n",
            "10.181818181818182 es mayor que el 0 (mayor razón encontrada hasta ahora)\n",
            "Mayor razón encontrada: 10.181818181818182\n",
            "Razón objeto actual: 48.25\n",
            "48.25 es mayor que el 10.181818181818182 (mayor razón encontrada hasta ahora)\n",
            "Mayor razón encontrada: 48.25\n",
            "-------------------------------------------------------------------------\n",
            "Mayor razón: 0\n",
            "Razón objeto actual: 10.181818181818182\n",
            "10.181818181818182 es mayor que el 0 (mayor razón encontrada hasta ahora)\n",
            "Mayor razón encontrada: 10.181818181818182\n",
            "-------------------------------------------------------------------------\n",
            "Arreglo de indices ordenado de cada objeto: [0, 2, 1]\n",
            "Arreglo de razones valor/peso ordenado de cada objeto: [92.0, 48.25, 10.181818181818182]\n",
            "A continuación se almacenarán los objetos en la mochila.\n",
            "-------------------------------------------------------------------------\n",
            "Máximo valor almacenado en la mochila: 0\n",
            "Máximo valor almacenado en la mochila: 92\n",
            "Máximo valor almacenado en la mochila: 285\n",
            "-------------------------------------------------------------------------\n",
            "El valor máximo que se puede llevar en la mochila es de $285\n",
            "Cantidad de iteraciones: 6\n"
          ]
        }
      ]
    },
    {
      "cell_type": "markdown",
      "source": [
        "Como se puede ver en el ejemplo anterior, el algoritmo se encarga de ordenar los objetos en base a sus razones valor/peso de mayor a menor, para luego ir ingresando cada objeto a la mochila mientras no se supere el peso máximo."
      ],
      "metadata": {
        "id": "vl49a_CNV6Y_"
      }
    },
    {
      "cell_type": "markdown",
      "source": [
        "# 3. Tiempo de ejecución"
      ],
      "metadata": {
        "id": "mqZ9nlUcXALH"
      }
    },
    {
      "cell_type": "markdown",
      "source": [
        "## 3.1 KnapSack dinámico\n",
        "\n",
        "### Teorema: tiempo de ejecución\n",
        "\n",
        "El algoritmo *KnapSack* tiene un tiempo de ejecución de $O(n * w)$.\n",
        "\n",
        "### Prueba del teorema\n",
        "\n",
        "El teorema anterior se puede probar fácilmente, ya que el algoritmo *KnapSack* consta principalmente de dos ciclos iterativos anidados, el primero, que itera $n$ veces y el segundo, el cuál itera $w$ veces, por lo que estos ciclos anidados tienen una complejidad temporal de $O(n * w)$. Para este caso, $n$ es igual a la cantidad de objetos de entrada y $w$ es igual al peso máximo que soporta la mochila. \n",
        "\n",
        "Por otro lado, al terminar el proceso iterativo, en el cuál se busca el valor máximo que se puede almacenar en la mochila, el único paso faltante sería el de retornar la solución óptima, el cuál tiene una complejidad de $O(1)$, ya que sólo se debe acceder a la última posición de la matriz para encontrar a este valor.\n",
        "\n",
        "Finalmente, gracias a lo descrito anteriormente, se puede concluir que el tiempo de ejecución de la versión dinámica de este algoritmo es de $O(n * w) + O(1)$, lo que es igual a $O(n * w)$."
      ],
      "metadata": {
        "id": "qdXFcZbopax9"
      }
    },
    {
      "cell_type": "markdown",
      "source": [
        "## 3.2 KnapSack \"greedy\"\n",
        "\n",
        "### Teorema: tiempo de ejecución\n",
        "\n",
        "El algoritmo *GreedyKnapSack* tiene un tiempo de ejecución de $O(n^2)$.\n",
        "\n",
        "### Prueba del teorema\n",
        "\n",
        "Para probar el teorema anterior, se puede calcular, en primer lugar, el tiempo de ejecución de la primera parte del algoritmo. Esta parte consta de dos ciclos iterativos anidados, el primero, que itera $n$ veces y el segundo, el cuál también itera $n$ veces en un principio, pero que a medida que avanza el primer ciclo, el segundo empieza a iterar menos veces, ya que itera desde el índice en el que se encuentre el índice del primer ciclo hasta $n$. Debido a lo anterior, este proceso tiene un tiempo de ejecución igual a $O(n^2)$. Para este proceso, $n$ representa la cantidad de objetos de entrada.\n",
        "\n",
        "Por otro lado, luego se debe iterar $n$ veces en otro ciclo iterativo para poder empezar a ingresar objetos en la mochila y así encontrar la solución del problema. Este proceso tiene una complejidad de $O(n)$.\n",
        "\n",
        "Finalmente, gracias a lo descrito anteriormente, se puede concluir que el tiempo de ejecución de la versión \"greedy\" de este algoritmo es de $O(n^2) + O(n)$, lo que es igual a $O(n^2)$. Cabe recalcar que este tiempo de ejecución puede ser mejorado a $O(nlogn)$ si es que el proceso de reordenamiento se realiza utlizando una versión modificada del algoritmo *QuickSort*, además, también es importante mencionar que este tiempo también se puede reducir incluso hasta $O(n)$, pero sólo en el caso en el que los objetos de entrada ya se encuentren ordenados en base a su razón valor/precio."
      ],
      "metadata": {
        "id": "A38S-U9epbG2"
      }
    },
    {
      "cell_type": "markdown",
      "source": [
        "# 4. Correctitud\n",
        "\n",
        "## Teorema: correctitud del algoritmo KnapSack\n",
        "\n",
        "El algoritmo *KnapSack* recibe una cantidad $n$ de objetos, los cuáles tienen un peso y un valor específicos y también recibe un peso máximo que puede soportar la mochila en la que se quieren almacenar estos objetos. Luego el algoritmo retorna el valor máximo que se puede obtener al guardar los objetos en la mochila sin sobrepasar el peso máximo que esta puede soportar.\n",
        "\n",
        "## Prueba del teorema\n",
        "\n",
        "Antes de probar el teorema anterior, la hipótesis que se desea probar es la siguiente: \n",
        "\n",
        "\"*Si el algoritmo retorna una ganancia mayor que ocupe todo el espacio de la mochila y que sea mayor a una ganancia de objetos elegidos al azar, entonces significaría que encontró una solución óptima para el problema*\".\n",
        "\n",
        "Para probar el teorema y la hipótesis anterior, se utilizará la sub-estructura óptima del problema.\n",
        "\n",
        "$m[i,p] = 0$ $;$ si $i = 0$ $y$ $p = 0$\n",
        "\n",
        "$m[i,p] = m[i-1,p]$ $;$ si $p[i] > p$ (no se agrega el objeto a la mochila ya que el peso supera la capacidad)\n",
        "\n",
        "$m[i,p] = max(m[i-1,p], m[i-1,p-p[i]] + v[i])$ $;$ si $p[i] ≤ p$ (se agrega el objeto a la mochila sólo si este aumenta el valor máximo almacenado)\n",
        "\n",
        "Lo anterior describe que sólo se agregarán objetos a la mochila si estos aumentan el valor total almacenado.\n",
        "\n",
        "Por otro lado, también se utilizará inducción matemática para probar el teorema anterior.\n",
        "\n",
        "**Caso base (n = 1)**\n",
        "\n",
        "Cuándo los arreglos de entrada son de tamaño 1, esto significa que sólo existe un único objeto, por lo que el valor de este objeto será retornado como la solución óptima del problema.\n",
        "\n",
        "**Paso inductivo (n > 1)**\n",
        "\n",
        "Se asume que *KnapSack* es correcto para casos m < n. Cuándo los arreglos de entrada son de un tamaño n > 1, la solución óptima se basará en las soluciones de los sub-problemas anteriores y la fórmula de la sub-estructura óptima. Cómo el algoritmo va encontrando ganancias máximas cada vez para sub-problemas de tamaño m < n, se asume que el paso inductivo es correcto.\n",
        "\n",
        "**Correctitud**\n",
        "\n",
        "Finalmente, como el caso base y paso inductivo son correctos, y sabiedo que la sub-estructura óptima del problema permite saber que sólo se agregarán objetos a la mochila si estos aumentan el valor almacenado, se concluye que el teorema de correctitud del algoritmo es correcto, por lo que el algoritmo también lo es.\n",
        "\n",
        "## ¿Por qué la versión \"greedy\" de este algoritmo no es correcta?\n",
        "\n",
        "Si bien esta versión del algoritmo puede llegar a entregar una solución óptima para el problema, es más probable que no lo haga, por lo que **no es correcto**. Lo anterior se debe a que la versión \"greedy\" de este algoritmo va resolviendo el problema pensando sólo en el sub-problema actual y la mejor solución para este, nunca pensando en el problema general, lo que produce que no entregue una solución óptima generalmente.\n",
        "\n",
        "Un ejemplo para visualizar lo anterior es el siguiente. Se tiene que el peso máximo soportado por la mochila es de 50kg y se tienen los siguientes objetos:\n",
        "\n",
        "1. Obj1, $120, 30kg, razón valor/peso igual a 4.\n",
        "\n",
        "2. Obj2, $100, 20kg, razón valor/peso igual a 5.\n",
        "\n",
        "3. Obj3, $60, 10kg, razón valor/peso igual a 6.\n",
        "\n",
        "El algoritmo greedy ordenaría estos objetos en base a sus razones de mayor a menor, quedando en el orden obj3, obj2, obj1. Luego empezaría a guardar estos objetos en la mochila en este mismo orden hasta que ya no pueda almacenar más. Primero guardaría a obj3, teniendo una ganancia de 60 pesos y aún teniendo 40kg disponibles en la mochila. Luego guardaría obj2, llegando a una ganancia de 160 pesos y faltando 20kg para llenar la mochila, sin embargo, luego no podría guardar a obj1, ya que si se guardara, este sobrepasaría el peso máximo permitido, por lo que la ganancia final sería de 160 pesos. Esta solución no es la solución óptima del problema, ya que si se hubiera resuelto con programación dinámica, la solución óptima sería de 220 pesos.\n",
        "\n"
      ],
      "metadata": {
        "id": "Lsr6ZM7jXEDf"
      }
    },
    {
      "cell_type": "markdown",
      "source": [
        "# 5. Experimentos"
      ],
      "metadata": {
        "id": "7jh-XXbnXI-1"
      }
    },
    {
      "cell_type": "markdown",
      "source": [
        "## 5.1 KnapSack v/s GreedyKnapSack (tiempo de ejecución)\n",
        "\n",
        "En el gráfico que se muestra a continuación se visualizan los tiempos de ejecución de los algoritmos *KnapSack* y *GreedyKnapSack* en función del tamaño del problema para problemas generados aleatoriamente de tamaños entre 5 y 100. Estos problemas se generan utilizando el generador de instancias.\n",
        "\n"
      ],
      "metadata": {
        "id": "7ydfF9XxNPrf"
      }
    },
    {
      "cell_type": "code",
      "source": [
        "import matplotlib.pyplot as plt\n",
        "import math\n",
        "import datetime\n",
        "from timeit import repeat\n",
        "\n",
        "x=[]; y=[]\n",
        "z=[]; w=[]\n",
        "\n",
        "for n in range(5,100):\n",
        "\n",
        "  W, val, wt = knapsack_instance_generator(n)\n",
        "\n",
        "  #la función repeat está ejecutando 10 veces knapSack y greedyKnapSack con el arreglo a y retorna el mejor tiempo obtenido.\n",
        "  t = repeat(setup=\"from __main__ import knapSack\", stmt=f\"knapSack({val}, {wt}, {W}, {len(val)})\", repeat=1, number=10)\n",
        "  t2 = repeat(setup=\"from __main__ import greedyKnapSack\", stmt=f\"greedyKnapSack({val}, {wt}, {W}, {len(val)})\", repeat=1, number=10)\n",
        "\n",
        "  x.append(n)\n",
        "  y.append(t)\n",
        "\n",
        "  z.append(n)\n",
        "  w.append(t2)\n",
        "\n",
        "\n",
        "plt.plot(x,y)\n",
        "plt.plot(z,w)\n",
        "plt.legend([\"KnapSack\", \"GreedyKnapSack\"])\n",
        "\n",
        "plt.xlabel('n')\n",
        "plt.ylabel('time in ms')\n",
        "plt.show()"
      ],
      "metadata": {
        "colab": {
          "base_uri": "https://localhost:8080/",
          "height": 279
        },
        "id": "_Iq8-M9jNbcf",
        "outputId": "a53882bb-749c-4c49-81e9-b0dcdb225ba0"
      },
      "execution_count": 35,
      "outputs": [
        {
          "output_type": "display_data",
          "data": {
            "text/plain": [
              "<Figure size 432x288 with 1 Axes>"
            ],
            "image/png": "[encoded data removed]"
          },
          "metadata": {
            "needs_background": "light"
          }
        }
      ]
    },
    {
      "cell_type": "markdown",
      "source": [
        "### Análisis de resultados\n",
        "\n",
        "Como se puede notar en el gráfico anterior, el tiempo de ejecución de la versión de programación dinámica da un resultado que concuerda con su complejidad, la cuál es $O(n * w)$, mientras que la complejidad de la versión \"greedy\" implementada, si bien es de $O(n^2)$, se ve como una línea recta paralela al eje x debido, probablemente, a los grandes tiempos de ejecución de la versión dinámica, lo que se puede deber a tamaños de mochila demasiado grandes que producen que el algoritmo tenga que trabajar con matrices muy grandes."
      ],
      "metadata": {
        "id": "3TUe0DVXVxj2"
      }
    },
    {
      "cell_type": "markdown",
      "source": [
        "## 5.2 KnapSack v/s GreedyKnapSack (cantidad de iteraciones/sub-problemas realizados)\n",
        "\n",
        "A continuación se muestra un gráfico en el que se comparan la cantidad de iteraciones/sub-problemas resueltos entre los algoritmos *KnapSack* y *GreedyKnapSack* para tamaños de problemas con n ∈ [5, 100].\n",
        "\n"
      ],
      "metadata": {
        "id": "EUAjaNb3NbyB"
      }
    },
    {
      "cell_type": "code",
      "source": [
        "x=[n for n in range(5,100)] \n",
        "y=[]; \n",
        "z=[];\n",
        "\n",
        "for n in range(5,100):\n",
        "  W, val, wt = knapsack_instance_generator(n)\n",
        "\n",
        "  subProblemas = 0\n",
        "  knapSack(val, wt, W, len(val))\n",
        "\n",
        "  iteraciones = 0\n",
        "  greedyKnapSack(val, wt, W, len(val))\n",
        "\n",
        "  y.append(subProblemas)\n",
        "  z.append(iteraciones)\n",
        "\n",
        "plt.plot(x,y)\n",
        "plt.plot(x,z)\n",
        "plt.legend([\"KnapSack\", \"GreedyKnapSack\"])\n",
        "\n",
        "plt.xlabel('n')\n",
        "plt.ylabel('Cantidad de iteraciones/sub-problemas resueltos')\n",
        "plt.show()"
      ],
      "metadata": {
        "colab": {
          "base_uri": "https://localhost:8080/",
          "height": 293
        },
        "id": "-Jw3_GTVNpTB",
        "outputId": "c71afe3f-092c-4fbd-8e7e-a5f8e8796ad8"
      },
      "execution_count": 31,
      "outputs": [
        {
          "output_type": "display_data",
          "data": {
            "text/plain": [
              "<Figure size 432x288 with 1 Axes>"
            ],
            "image/png": "[encoded data removed]"
          },
          "metadata": {
            "needs_background": "light"
          }
        }
      ]
    },
    {
      "cell_type": "markdown",
      "source": [
        "### Análisis de resultados\n",
        "\n",
        "Cómo se puede ver en el gráfico anterior, la cantidad de sub-problemas resueltos crece enormemente en el algoritmo *KnapSack* debido a las grandes matrices que se van generando a medida que aumenta el tamaño del problema, mientras que las iteraciones de *GreedyKnapSack* se mantienen bastante bajas debido que este algoritmo itera un máximo de $n$ veces cada vez que es llamado."
      ],
      "metadata": {
        "id": "PjZz-cS3V1gl"
      }
    },
    {
      "cell_type": "markdown",
      "source": [
        "## 5.3 KnapSack v/s GreedyKnapSack (solución óptima alcanzada)\n",
        "\n",
        "A continuación se muestra un gráfico en el que se comparan las soluciones obtenidas entre los algoritmos *KnapSack* y *GreedyKnapSack* para tamaños de problemas con n ∈ [1, 15]."
      ],
      "metadata": {
        "id": "wcCI2pbfNr1D"
      }
    },
    {
      "cell_type": "code",
      "source": [
        "x=[n for n in range(1,15)] \n",
        "y=[]; \n",
        "z=[];\n",
        "\n",
        "for n in range(1,15):\n",
        "  W, val, wt = knapsack_instance_generator(n)\n",
        "\n",
        "  subProblemas = 0\n",
        "  a = knapSack(val, wt, W, len(val))\n",
        "\n",
        "  iteraciones = 0\n",
        "  b = greedyKnapSack(val, wt, W, len(val))\n",
        "\n",
        "  y.append(a)\n",
        "  z.append(b)\n",
        "\n",
        "plt.plot(x,y)\n",
        "plt.plot(x,z)\n",
        "plt.legend([\"KnapSack\", \"GreedyKnapSack\"])\n",
        "\n",
        "plt.xlabel('n')\n",
        "plt.ylabel('Solución obtenida')\n",
        "plt.show()"
      ],
      "metadata": {
        "colab": {
          "base_uri": "https://localhost:8080/",
          "height": 279
        },
        "id": "Rv0t5RrrOF8u",
        "outputId": "96affab2-70a2-4ecf-c587-0c26a5631363"
      },
      "execution_count": 45,
      "outputs": [
        {
          "output_type": "display_data",
          "data": {
            "text/plain": [
              "<Figure size 432x288 with 1 Axes>"
            ],
            "image/png": "[encoded data removed]"
          },
          "metadata": {
            "needs_background": "light"
          }
        }
      ]
    },
    {
      "cell_type": "markdown",
      "source": [
        "### Análisis de resultados\n",
        "\n",
        "Como se puede notar, el gráfico anterior prueba la correctitud antes explicada de estos algoritmos, ya que se puede ver que la solución óptima (el mayor valor almacenado en la mochila) siempre es alcanzada por el algoritmo de programación dinámica, mientras que el algoritmo voraz se puede ver que iguala la solución del dinámico o encuentra una solución peor, pero nunca encuentra una solución mejor."
      ],
      "metadata": {
        "id": "puMiKuCEV2Lh"
      }
    }
  ]
}