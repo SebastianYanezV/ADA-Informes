{
  "nbformat": 4,
  "nbformat_minor": 0,
  "metadata": {
    "colab": {
      "provenance": [],
      "collapsed_sections": [],
      "authorship_tag": "ABX9TyOTz29D1yh61JPV5N9ynLi9",
      "include_colab_link": true
    },
    "kernelspec": {
      "name": "python3",
      "display_name": "Python 3"
    },
    "language_info": {
      "name": "python"
    }
  },
  "cells": [
    {
      "cell_type": "markdown",
      "metadata": {
        "id": "view-in-github",
        "colab_type": "text"
      },
      "source": [
        "<a href=\"https://colab.research.google.com/github/SebastianYanezV/ADA-Informes/blob/main/Informe_5_Select.ipynb\" target=\"_parent\"><img src=\"https://colab.research.google.com/assets/colab-badge.svg\" alt=\"Open In Colab\"/></a>"
      ]
    },
    {
      "cell_type": "markdown",
      "source": [
        "# 1. Descripción del problema: Problema de selección\n",
        "\n",
        "**Entrada**: Conjunto de $n$ números diferentes $A$, más un índice $i$.\n",
        "\n",
        "**Salida**: Elemento $x\\in A$, que es mayor a exactamente $i-1$ elementos de $A$ ($x$ corresponde al **estadístico de orden $i$-ésimo** para el conjunto $A$).\n",
        "\n",
        "El problema que se busca resolver en este caso, corresponde al problema de selección, el cual consiste en encontrar al i-ésimo menor elemento del conjunto de entrada $A$. Para resolver este problema, se utilizará el algoritmo *Select*, el cual se encarga de buscar al i-ésimo menor elemento mediante un cálculo favorable del pivote a utilizar en cada llamada recursiva."
      ],
      "metadata": {
        "id": "lGNTvNv0NEQH"
      }
    },
    {
      "cell_type": "markdown",
      "source": [
        "# 2. Select"
      ],
      "metadata": {
        "id": "aIXS5lKVNIMj"
      }
    },
    {
      "cell_type": "markdown",
      "source": [
        "## 2.1 Código\n",
        "\n",
        "El código que se muestra a continuación pertenece al algoritmo *Select*, el cual contiene las funciones *InsertionSort*, *Partition*, *PivotSelection* y *Select*."
      ],
      "metadata": {
        "id": "aMvhX_fENMP_"
      }
    },
    {
      "cell_type": "code",
      "source": [
        "import math\n",
        "comparaciones = 0\n",
        "\n",
        "def insertionSort(A):\n",
        "  global comparaciones\n",
        "  largo = len(A)\n",
        "  for i in range(1, largo): \n",
        "    key = A[i] \n",
        "    for k in range(i - 1, -1, -1): \n",
        "      if (A[k] < key): \n",
        "        comparaciones += 1\n",
        "        A[k+1] = key\n",
        "        break;\n",
        "      A[k+1] = A[k] \n",
        "    if (key < A[0]):  \n",
        "      comparaciones += 1\n",
        "      A[0] = key   \n",
        "  return A\n",
        "\n",
        "def partition(A, inicio, final):\n",
        "  global comparaciones\n",
        "  i = -1\n",
        "  j = 0\n",
        "  pivote = A[final]\n",
        "  while(True):\n",
        "    if(j == final): break\n",
        "    if(A[j] > pivote):\n",
        "      comparaciones += 1\n",
        "      j += 1\n",
        "    else:\n",
        "      comparaciones += 1\n",
        "      aux = A[j]\n",
        "      A[j] = A[i + 1]\n",
        "      A[i + 1] = aux\n",
        "      i += 1\n",
        "      j += 1\n",
        "  aux = A[final]\n",
        "  A[final] = A[i + 1]\n",
        "  A[i + 1] = aux\n",
        "  q = i + 1\n",
        "  return q\n",
        "\n",
        "def pivotSelection(A, inicio, final, verbose = False):\n",
        "  global comparaciones\n",
        "  if verbose == True: print(\"Se entra a pivotSelection.\")\n",
        "  #Caso base, si el arreglo contiene 5 o menos elementos, se ordena y retorna su mediana inmediatamente\n",
        "  if (len(A) <= 5): \n",
        "    comparaciones += 1\n",
        "    A = insertionSort(A)\n",
        "    if verbose == True: print(\"Se retorna la mediana:\", A[len(A)//2])\n",
        "    return A[len(A)//2]\n",
        "\n",
        "  #Se calcula el total de grupos que contiene el arreglo\n",
        "  grupos = math.ceil((final - inicio + 1) / 5)\n",
        "  indiceMedianas = []\n",
        "  medianas = []\n",
        "\n",
        "  for k in range(grupos):\n",
        "    subRangoLow = inicio + 5 * k\n",
        "    subRangoHigh = inicio + 4 + 5 * k\n",
        "\n",
        "    if (subRangoHigh > final): \n",
        "      comparaciones += 1\n",
        "      subRangoHigh = final\n",
        "    \n",
        "    #Se obtiene cada grupo y se ordena usando InsertionSort\n",
        "    A[subRangoLow:subRangoHigh+1] = insertionSort(A[subRangoLow:subRangoHigh+1])\n",
        "    #Se obtiene la posición de la mediana de cada grupo y se guarda en una lista que almacena estos índices\n",
        "    indiceMedianas.append((subRangoHigh + subRangoLow) // 2)\n",
        "    #Se almacena cada mediana en un arreglo de medianas\n",
        "    medianas.append(A[indiceMedianas[k]])\n",
        "  \n",
        "  if verbose == True: print(\"Arreglo de medianas:\", medianas)\n",
        "\n",
        "  #Se usa recursivamente pivotSelection para encontrar la mediana de las medianas\n",
        "  medianas = pivotSelection(medianas, 0, len(medianas) - 1)\n",
        "\n",
        "  #Se guarda la mediana de medianas\n",
        "  if(isinstance(medianas, int) == False): medianaDeMedianas = medianas[grupos//2]\n",
        "  else: \n",
        "    return partition(A, inicio, final)\n",
        "\n",
        "  #Se busca la posición de la mediana de medianas dentro del arreglo de índices de medianas\n",
        "  for k in range(grupos):\n",
        "    if (medianaDeMedianas == A[indiceMedianas[k]]):\n",
        "      comparaciones += 1\n",
        "      i = indiceMedianas[k]\n",
        "      break\n",
        "  \n",
        "  #La mediana de medianas se cambia de posición al último lugar y luego se llama a Partition para que este retorne el pivote a utilizar en Select\n",
        "  (A[final], A[i]) = (A[i], A[final])\n",
        "  \n",
        "  return partition(A, inicio, final)\n",
        "\n",
        "def select(A, inicio, final, k, verbose = False):\n",
        "  #Si el buscado está dentro de los límites permitidos del arreglo, se realiza la búsqueda\n",
        "  if (k > 0 and k <= final - inicio + 1):\n",
        "    if verbose == True: print(\"Arreglo que entra al select:\", A[inicio:final+1])\n",
        "    q = pivotSelection(A, inicio, final)\n",
        "    if verbose == True: print(\"Pivote retornado por pivotSelection:\", q)\n",
        "    if verbose == True: print(\"Arreglo al salir de pivotSelection:\", A[inicio:final+1])\n",
        "    if (q - inicio == k - 1): \n",
        "      if verbose == True: print(\"Se retorna el dato buscado, el cuál es:\", A[q])\n",
        "      if verbose == True: print(\"-------------------------------------------------------\")\n",
        "      return A[q]\n",
        "    if (q - inicio > k - 1): \n",
        "      if verbose == True: print(\"El elemento buscado es menor que el pivote, se toma la parte izquierda del arreglo.\")\n",
        "      if verbose == True: print(\"-------------------------------------------------------\")\n",
        "      return select(A, inicio, q - 1, k)\n",
        "    if verbose == True: print(\"El elemento buscado es mayor que el pivote, se toma la parte derecha del arreglo.\")\n",
        "    if verbose == True: print(\"-------------------------------------------------------\")\n",
        "    return select(A, q + 1, final, k - q + inicio - 1)\n",
        "\n",
        "#Ejemplo\n",
        "arreglo = [1, 10, 4, 9, 2, 3, 15, 8]\n",
        "print(\"Arreglo de entrada:\", arreglo)\n",
        "buscado = 3\n",
        "encontrado = select(arreglo, 0, len(arreglo) - 1, buscado)\n",
        "print(f\"El {buscado} menor elemento es: {encontrado}\")\n",
        "print(\"Comparaciones pivotSelection:\", comparaciones)"
      ],
      "metadata": {
        "id": "jsfcYHIHNoOC",
        "colab": {
          "base_uri": "https://localhost:8080/"
        },
        "outputId": "d89b8f52-e5e5-4d84-8e53-3dc2738661cf"
      },
      "execution_count": 151,
      "outputs": [
        {
          "output_type": "stream",
          "name": "stdout",
          "text": [
            "Arreglo de entrada: [1, 10, 4, 9, 2, 3, 15, 8]\n",
            "El 3 menor elemento es: 3\n",
            "Comparaciones pivotSelection: 44\n"
          ]
        }
      ]
    },
    {
      "cell_type": "markdown",
      "source": [
        "## 2.2 Descripción del algoritmo\n",
        "\n",
        "Antes de empezar a buscar el i-ésimo elemento, el algoritmo recibe un arreglo de \"n\" elementos aleatorios y la posición del elemento a buscar.\n",
        "\n",
        "En primer lugar, la función *select* se encarga de:\n",
        "\n",
        "1. La función recibe el arreglo con el que se va a trabajar y sus índices inicial y final.\n",
        "\n",
        "2. Se llama a la función *pivotSelection* para encontrar el mejor pivote con el que particionar al arreglo.\n",
        "\n",
        "3. Si la posición del pivote coincide con la del elemento buscado, este se retorna y se finaliza el procedimiento. En caso contrario, la función *select* hace una llamada recursiva para seguir con la búsqueda hasta encontrar el elemento deseado.\n",
        "\n",
        "En segundo lugar, la función *pivotSelection* se encarga de:\n",
        "\n",
        "1. Divide el arreglo de entrada en sub-arreglos de 5 elementos cada uno (es probable que el último sub-arreglo posea menos de 5 elementos).\n",
        "\n",
        "2. Cada vez que procesa un sub-arreglo de 5 elementos, se encarga de ordenarlo usando *insertionSort*.\n",
        "\n",
        "3. Luego de ordenar el sub-arreglo, encuentra su mediana y la almacena en un arreglo de medianas.\n",
        "\n",
        "4. Se aplica *pivotSelection* recursivamente para encontrar a la mediana del arreglo de medianas.\n",
        "\n",
        "5. La mediana encontrada se utiliza como pivote, por lo que esta debe enviarse al final del arreglo para luego poder llamar a la función *partition* y retornar su resultado.\n",
        "\n",
        "Finalmente, al terminar el proceso anteriormente descrito, el algoritmo retorna el i-ésimo menor elemento que se estaba buscando."
      ],
      "metadata": {
        "id": "3E1YAG8mNQUM"
      }
    },
    {
      "cell_type": "markdown",
      "source": [
        "## 2.3 Ejemplo\n",
        "\n",
        "Se ingresa el siguiente arreglo y el menor i-ésimo elemento a buscar:\n",
        "\n",
        "A = [1, 10, 4, 9, 2, 3, 15, 8]\n",
        "\n",
        "i = 3\n",
        "\n",
        "Se entra a la función *select* y se llama a *pivotSelection* para encontrar el pivote con el que se dividirá al arreglo.\n",
        "\n",
        "Dentro de *pivotSelection*, ocurre lo siguiente:\n",
        "\n",
        "1. Se calcula la cantidad de grupos de 5 elementos que se pueden crear con el arreglo de entrada, en este caso, se pueden crear 2 grupos. Notar que el último grupo puede contener menos de 5 elementos.\n",
        "\n",
        "2. Se crean estos grupos:\n",
        "\n",
        "    a = [1, 10, 4, 9, 2]\n",
        "\n",
        "    b = [3, 15, 8]\n",
        "\n",
        "3. Se ordena cada grupo usando *insertionSort*:\n",
        "\n",
        "    a = [1, 2, 4, 9, 10]\n",
        "\n",
        "    b = [3, 8, 15]\n",
        "\n",
        "4. Se obtiene la mediana de cada grupo y se almacena en un arreglo de medianas:\n",
        "\n",
        "    medianas = [4, 8]\n",
        "\n",
        "5. Se llama de forma recursiva a pivotSelection para encontrar la mediana del arreglo de medianas, por lo que los pasos anteriores se repiten.\n",
        "\n",
        "    medianaDeMedianas = 8\n",
        "\n",
        "6. Se usa a la mediana de medianas como pivote para la función *partition*. El dato retornado por esta función se utiliza como pivote para continuar la búsqueda en el *select*. \n",
        "\n",
        "    pivote retornado =  7\n",
        "\n",
        "El proceso anterior se repite hasta encontrar al elemento buscado. Si la posición del buscado es igual al pivote, entonces se encontró, por lo que se retorna, sino, se debe ver si el buscado es mayor o menor, esto con el fin de saber que parte del arreglo de entrada se trabajará a continuación.\n",
        "\n",
        "Finalmente se retorna el elemento buscado, en este caso, 3."
      ],
      "metadata": {
        "id": "IUY4KtvUNUfa"
      }
    },
    {
      "cell_type": "markdown",
      "source": [
        "## 2.4 Ejecución del algoritmo paso a paso"
      ],
      "metadata": {
        "id": "PgmsVxpDNYH6"
      }
    },
    {
      "cell_type": "code",
      "source": [
        "comparaciones = 0\n",
        "A = [1, 10, 4, 9, 2, 3, 15, 8]\n",
        "print(\"Arreglo de entrada:\", A)\n",
        "print(\"-------------------------------------------------------\")\n",
        "buscado = 3\n",
        "encontrado = select(A, 0, len(A) - 1, buscado, verbose = True)\n",
        "print(f\"El {buscado} menor elemento es: {encontrado}\")\n",
        "print(\"Comparaciones pivotSelection:\", comparaciones)"
      ],
      "metadata": {
        "colab": {
          "base_uri": "https://localhost:8080/"
        },
        "id": "PPmsktIgpPT8",
        "outputId": "de112c45-3d0f-4ed8-e095-7b974f015813"
      },
      "execution_count": 95,
      "outputs": [
        {
          "output_type": "stream",
          "name": "stdout",
          "text": [
            "Arreglo de entrada: [1, 10, 4, 9, 2, 3, 15, 8]\n",
            "-------------------------------------------------------\n",
            "Arreglo que entra al select: [1, 10, 4, 9, 2, 3, 15, 8]\n",
            "Se entra a pivotSelection.\n",
            "Arreglo de medianas: [4, 8]\n",
            "Se entra a pivotSelection.\n",
            "Se retorna la mediana: 8\n",
            "Pivote retornado por pivotSelection: 7\n",
            "Arreglo al salir de pivotSelection: [1, 2, 4, 9, 10, 3, 8, 15]\n",
            "El elemento buscado es menor que el pivote, se toma la parte izquierda del arreglo.\n",
            "-------------------------------------------------------\n",
            "Arreglo que entra al select: [1, 2, 4, 9, 10, 3, 8]\n",
            "Se entra a pivotSelection.\n",
            "Arreglo de medianas: [4, 3]\n",
            "Se entra a pivotSelection.\n",
            "Se retorna la mediana: 4\n",
            "Pivote retornado por pivotSelection: 4\n",
            "Arreglo al salir de pivotSelection: [1, 2, 4, 3, 8, 9, 10]\n",
            "El elemento buscado es menor que el pivote, se toma la parte izquierda del arreglo.\n",
            "-------------------------------------------------------\n",
            "Arreglo que entra al select: [1, 2, 4, 3]\n",
            "Se entra a pivotSelection.\n",
            "Arreglo de medianas: [2]\n",
            "Se entra a pivotSelection.\n",
            "Se retorna la mediana: 2\n",
            "Pivote retornado por pivotSelection: 3\n",
            "Arreglo al salir de pivotSelection: [1, 2, 3, 4]\n",
            "El elemento buscado es menor que el pivote, se toma la parte izquierda del arreglo.\n",
            "-------------------------------------------------------\n",
            "Arreglo que entra al select: [1, 2, 3]\n",
            "Se entra a pivotSelection.\n",
            "Arreglo de medianas: [2]\n",
            "Se entra a pivotSelection.\n",
            "Se retorna la mediana: 2\n",
            "Pivote retornado por pivotSelection: 2\n",
            "Arreglo al salir de pivotSelection: [1, 2, 3]\n",
            "Se retorna el dato buscado, el cuál es: 3\n",
            "-------------------------------------------------------\n",
            "El 3 menor elemento es: 3\n",
            "Comparaciones pivotSelection: 44\n"
          ]
        }
      ]
    },
    {
      "cell_type": "markdown",
      "source": [
        "Como se puede ver en el ejemplo anterior, con cada llamada recursiva que ocurre, el arreglo que entra al *select* va disminuyendo su tamaño hasta encontrar al elemento buscado. Lo anterior ocurre debido a que, luego de encontrar un pivote en *pivotSelection*, y de ordenar al arreglo con los menores a ese pivote a la izquierda y los mayores a su derecha, el arreglo necesita verificar si la posición del elemento buscado es mayor o menor que el pivote para ver con que lado del arreglo sigue trabajando."
      ],
      "metadata": {
        "id": "KbKh5rdm6Qc3"
      }
    },
    {
      "cell_type": "markdown",
      "source": [
        "# 3. Tiempo de ejecución\n",
        "\n",
        "##Teorema: tiempo de ejecución\n",
        "\n",
        "El algoritmo *Select* tiene un tiempo de ejecución de $O(n^2)$ en su **peor caso** y un tiempo de $O(n)$ en su **caso promedio**.\n",
        "\n",
        "##Prueba del teorema\n",
        "\n",
        "El algoritmo *Select*, pese a ser un algoritmo recursivo, no tiene un tiempo de ejecución de $O(nlogn)$, ya que, en cada recursión, sólo procesa un lado del arreglo de entrada y no ambos. Lo anterior lleva a que este algoritmo tenga un tiempo de ejecución promedio de $O(n)$ cuando el pivote retornado por *pivotSelection* es la mediana o un número cercano a esta. Sin embargo, este algoritmo también tiene la pequeña posibilidad de que su tiempo de ejecución aumente a $O(n^2)$, caso que ocurre cuando el pivote escogido es igual al menor o mayor elemento del arreglo de entrada.\n",
        "\n",
        "A continuación se verificará que el **teorema maestro** se puede utilizar para encontrar el tiempo de ejecución promedio de este algoritmo.\n",
        "\n",
        "1. Antes de utilizar este teorema, es necesario verificar que la función de recurrencia de este algoritmo es de la forma $T(n) = aT(n/b) + f(n^d)$.\n",
        "\n",
        "2. En este algoritmo, si se considera su caso promedio, el problema se divide cada vez en 1 sub problema de tamaño 1/2 del problema original de forma recursiva. Además, la función *pivotSelection* tiene un tiempo de ejecución de $O(n)$.\n",
        "\n",
        "3. Al saber lo anterior, se puede concluir que la función de recurrencia de *Select* para su caso promedio es de la forma $T(n) = T(n/2) + O(n)$, por lo que se puede utilizar el teorema maestro para encontrar el tiempo de ejecución de este algoritmo.\n",
        "\n",
        "A continuación se utilizará el **teorema maestro** para probar el teorema de tiempo de ejecución de este algoritmo.\n",
        "\n",
        "1. Para encontrar el tiempo de ejecución, primero debemos visualizar las variables $a$, $b$ y $d$ en la función de recurrencia. En este caso son 1, 2 y 1 respectivamente.\n",
        "\n",
        "2. Luego hay que evaluar si $a$ es igual, menor o mayor que $b^d$. Reemplazamos y queda que 1 < 2. Lo anterior significa que el tiempo de ejecución de *Select* es de la forma $O(n^d)$.\n",
        "\n",
        "3. Finalmente, se reemplaza de nuevo en el tiempo de ejecución $O(n^d)$ y da que es igual a $O(n)$.\n",
        "\n",
        "Finalmente, gracias al teorema maestro, se puede verificar que el tiempo de ejecución del algoritmo *Select* es igual a $O(n)$, por lo que su teorema de tiempo de ejecución es correcto.\n",
        "\n"
      ],
      "metadata": {
        "id": "53_v57c_NcOH"
      }
    },
    {
      "cell_type": "markdown",
      "source": [
        "# 4. Correctitud\n",
        "\n",
        "## Teorema: Correctitud de la función InsertionSort\n",
        "\n",
        "El algoritmo *Insertion Sort* genera un arreglo: $[a_1',a_2',...,a_n']$, con los mismos elementos del arreglo de entrada ordenados de menor a mayor, es decir, $a_1'\\leq a_2' \\leq... \\leq a_n'$.\n",
        "\n",
        "## Prueba del teorema\n",
        "\n",
        "Gracias a los ejemplos anteriores, se puede observar que el sub arreglo que va desde la posición 0 hasta la posición \"i - 1\" en la que está el elemento \"key\" al inicio de la pasada, contiene todos los elementos originales leídos, pero ahora ordenados.\n",
        "\n",
        "Por esto, se probará la siguiente propiedad del algoritmo *Insertion Sort*, la cuál corresponde a su **propiedad invariante de bucle**:\n",
        "\n",
        "\"Al comienzo de cada iteración del bucle más grande, el subarreglo A[0..i-1] contiene los mismos elementos que el arreglo original, pero ordenados de menor a mayor\". \n",
        "\n",
        "**Inicialización**\n",
        "\n",
        "Al inicio del algoritmo, i = 1 por lo que el sub arreglo [0, i-1] es igual a la posición 0, por lo que inmediatamente se puede saber que este sub arreglo se encuentra ordenado.\n",
        "\n",
        "**Mantención**\n",
        "\n",
        "Luego, se asume que cada vez que se itera, el sub arreglo [0, i-1] se encuentra ordenado y mantiene a los elementos del arreglo original. Luego, en cada pasada se toma al elemento leído de la posición \"i\" (key) y se lo mueve hasta su posición correcta. Por lo tanto, cada vez que este paso se termine de hacer, el sub arreglo [0, i-1] se encontrará ordenado y seguirá teniendo los elementos del arreglo original.\n",
        "\n",
        "**Correctitud**\n",
        "\n",
        "Finalmente, como las afirmaciones de la inicialización y mantención son correctas, se puede concluir que la propiedad invariante del bucle es correcta y se mantiene durante todo el algoritmo, por lo que el teorema de correctitud es correcto."
      ],
      "metadata": {
        "id": "amDdQQVsNgaM"
      }
    },
    {
      "cell_type": "markdown",
      "source": [
        "## Teorema: correctitud de la función Partition\n",
        "\n",
        "La función *Partition* recibe un arreglo A[p..r], lo reorganiza y retorna un índice \"q\" de tal forma que los elementos del arreglo A[p..q-1] son menores o iguales a A[q] y los elementos del arreglo A[q+1..r] son mayores a A[q].\n",
        "\n",
        "## Prueba del teorema\n",
        "\n",
        "A continuación se utilizará la **propiedad invariante de bucle** de la función *partition* para probar su teorema de correctitud. Su propiedad invariante de bucle es la siguiente:\n",
        "\n",
        "\"Al comienzo de cada iteración, se cumple que para cualquier índice \"k\":\n",
        "\n",
        "Si $p ≤ k ≤ i$, entonces $A[k] ≤ A[r]$\n",
        "\n",
        "Si $i < k < j$, entonces $A[k] > A[r]$\"\n",
        "\n",
        "**Inicialización**\n",
        "\n",
        "Antes de la primera iteración, el índice i = -1 y j = 0, por lo que \"k\" sólo puede ser menor que 0. Esto significa que tanto $A[k] ≤ A[r]$ como $A[k] > A[r]$ están vacíos (debido a que \"k\" no es un índice válido para el arreglo). Luego, durante la primera iteración, se comparará el elemento de la posición \"j\" con el pivote y luego, dependiendo del resultado de la comparación, el elemento de la posición \"j\" será agregado al conjunto que va desde \"p\" hasta \"i\" o al conjunto que va desde \"i\" hasta \"j\", dependiendo de si este es menor o mayor que el pivote.\n",
        "\n",
        "**Mantención**\n",
        "\n",
        "Después de la n-ésima iteración, el índice \"j\" será igual a \"n - 1\" y se cumplirá que $i < j < r$, entonces para el conjunto de los números A[k] con $p ≤ k ≤ i$, este contendrá $(i - p) + 1$ elementos $A[k] ≤ A[r]$ y para el conjunto $i < k < j$ el conjunto contendrá $(j - i) + 1$ elementos $A[k] > A[r]$.\n",
        "\n",
        "**Correctitud**\n",
        "\n",
        "Finalmente, al ser correctas tanto la inicialización como la mantención y al reorganizar el arreglo de entrada y retornar el índice \"q\" que lo divide en un lado con elementos menores a este y otro con elementos mayores a este, se concluye que el teorema de correctitud de la función *Partition* es correcto."
      ],
      "metadata": {
        "id": "9Kw03_DPWpzD"
      }
    },
    {
      "cell_type": "markdown",
      "source": [
        "## Teorema: correctitud de la función PivotSelection\n",
        "\n",
        "La función *pivotSelection* recibe un arreglo de entrada, junto a sus índices inicial y final y retorna un pivote que sirva para particionar a este mismo arreglo.\n",
        "\n",
        "## Prueba del teorema\n",
        "\n",
        "Debido a que este algoritmo es uno del tipo recursivo, para poder comprobar el teorema anterior se deberá utilizar inducción matemática.\n",
        "\n",
        "**Caso base (n = 1)**\n",
        "\n",
        "Cuándo el arreglo de entrada es de tamaño 1, la función retorna el único elemento que contiene este arreglo.\n",
        "\n",
        "**Paso inductivo (n > 1)**\n",
        "\n",
        "Se asume que *PivotSelection* es correcto para casos m < n. Cuándo el arreglo de entrada es de un tamaño n > 1, el algoritmo calcula la cantidad de grupos de 5 elementos que se pueden formar con los elementos del arreglo de entrada, calcula la mediana de cada grupo y la almacena en un arreglo de medianas. Luego la función procesa de forma recursiva a este arreglo de medianas con el fin de encontrar a la mediana de medianas. Como el algoritmo procesa arreglos cada vez más pequeños a medida que se acerca a la mediana de medianas, los cuáles tienen un tamaño m < n, se asume que el paso inductivo es correcto.\n",
        "\n",
        "**Correctitud**\n",
        "\n",
        "Finalmente, como el caso base y paso inductivo son correctos, y sabiendo que la función *partition* retorna un pivote que se utilizará para dividir al arreglo de entrada y así procesar el lado que se necesite, se concluye que el teorema de correctitud del algoritmo es correcto."
      ],
      "metadata": {
        "id": "UWbUqDBbW-2L"
      }
    },
    {
      "cell_type": "markdown",
      "source": [
        "## Teorema: correctitud del algoritmo Select\n",
        "\n",
        "El algoritmo *Select* recibe un arreglo de \"n\" elementos como entrada y una menor posición i-ésima a buscar y retorna el elemento que se encuentra en esa posición.\n",
        "\n",
        "## Prueba del teorema\n",
        "\n",
        "Debido a que este algoritmo es uno del tipo recursivo, para poder comprobar el teorema anterior se deberá utilizar inducción matemática.\n",
        "\n",
        "**Caso base (n = 1)**\n",
        "\n",
        "Cuándo el arreglo de entrada es de tamaño 1, sólo hay un posible i-ésimo elemento que se pueda encontrar, el cuál corresponde al único elemento del arreglo. Debido a lo anterior, se procede a retornar este elemento. \n",
        "\n",
        "**Paso inductivo (n > 1)**\n",
        "\n",
        "Se asume que *Select* es correcto para casos m < n. Cuándo el arreglo de entrada es de un tamaño n > 1, el algoritmo encuentra un pivote gracias a *pivotSelection* y luego procesa sólo un lado del arreglo de entrada de forma recursiva (ya que sólo interesa trabajar con el lado que contenga al i-ésimo menor elemento buscado). Como el algoritmo procesa arreglos cada vez más pequeños a medida que se acerca al elemento buscado, los cuáles tienen un tamaño m < n, se asume que el paso inductivo es correcto.\n",
        "\n",
        "**Correctitud**\n",
        "\n",
        "Finalmente, como el caso base y paso inductivo son correctos, y sabiendo que la función *pivotSelection* entrega un pivote que sirve para dividir al arreglo y así procesar el lado que se necesite, se concluye que el teorema de correctitud del algoritmo es correcto."
      ],
      "metadata": {
        "id": "u7VNWigJXJhz"
      }
    },
    {
      "cell_type": "markdown",
      "source": [
        "# 5. Experimentos"
      ],
      "metadata": {
        "id": "NEfueuoeNjrX"
      }
    },
    {
      "cell_type": "markdown",
      "source": [
        "## 5.1 Cantidad de comparaciones\n",
        "\n",
        "A continuación se muestra una gráfica en la que se comparan la cantidad de comparaciones entre el mejor caso y peor caso del algoritmo para tamaños de problemas con n ∈ [10, 50]."
      ],
      "metadata": {
        "id": "4PL5CJN2dEfM"
      }
    },
    {
      "cell_type": "code",
      "source": [
        "import matplotlib.pyplot as plt\n",
        "import random\n",
        "\n",
        "x=[n for n in range(10,50)] \n",
        "y1=[n * n for n in range(10,50)] # Peor caso\n",
        "y2=[n for n in range(10,50)] # Mejor caso\n",
        "y=[]; \n",
        "\n",
        "for n in range(10,50):\n",
        "  a = random.sample(range(1, 100), n)\n",
        "  buscado = random.randint(1, len(a)-1)\n",
        "  comparaciones = 0\n",
        "  select(a, 0, len(a)-1, buscado)\n",
        "  y.append(comparaciones)\n",
        "\n",
        "plt.plot(x,y)\n",
        "plt.plot(x,y1)\n",
        "plt.plot(x,y2)\n",
        "plt.legend([\"Select\", \"Peor caso teórico\", \"Mejor caso teórico\"])\n",
        "\n",
        "plt.xlabel('n')\n",
        "plt.ylabel('Número de comparaciones')\n",
        "plt.show()"
      ],
      "metadata": {
        "colab": {
          "base_uri": "https://localhost:8080/",
          "height": 282
        },
        "id": "ScxEW5MUdR7d",
        "outputId": "fc661ffe-d8eb-413e-ffd0-554867644a48"
      },
      "execution_count": 145,
      "outputs": [
        {
          "output_type": "display_data",
          "data": {
            "text/plain": [
              "<Figure size 432x288 with 1 Axes>"
            ],
            "image/png": "[encoded data removed]"
          },
          "metadata": {
            "needs_background": "light"
          }
        }
      ]
    },
    {
      "cell_type": "markdown",
      "source": [
        "### Análisis de resultados\n",
        "\n",
        "En el gráfico anterior se puede apreciar cómo las comparaciones en el peor caso llegan a la cota de $O(n^2)$, sin embargo, como este algoritmo tiene una selección eficiente de pivote, es poco probable que ocurra este caso, por lo que las comparaciones no deberían llegar a estas cantidades con frecuencia. Es por esto que las comparaciones se deberían mantener en un rango como es de la gráfica azul. \n"
      ],
      "metadata": {
        "id": "6NuhtqW9pN6I"
      }
    },
    {
      "cell_type": "markdown",
      "source": [
        "## 5.2 Select v/s Randomized-Select "
      ],
      "metadata": {
        "id": "6dqkYxJCpREG"
      }
    },
    {
      "cell_type": "markdown",
      "source": [
        "### 5.2.1 Cantidad de comparaciones\n",
        "\n",
        "A continuación se muestra una gráfica en la que se comparan la cantidad de comparaciones de los algoritmos *Select* y *Randomized-Select* para tamaños de problemas con n ∈ [10, 50]."
      ],
      "metadata": {
        "id": "8KC7Fs61tIlM"
      }
    },
    {
      "cell_type": "code",
      "source": [
        "def randomPivot(A, inicio, final):\n",
        "  i = random.randint(inicio, final)\n",
        "  (A[final], A[i]) = (A[i], A[final])\n",
        "  return partition(A, inicio, final)\n",
        "\n",
        "def randomSelect(A, inicio, final, k):\n",
        "  if (k > 0 and k <= final - inicio + 1):\n",
        "    q = randomPivot(A, inicio, final)\n",
        "    if (q - inicio == k - 1): return A[q]\n",
        "    if (q - inicio > k - 1): return select(A, inicio, q - 1, k)\n",
        "    return select(A, q + 1, final, k - q + inicio - 1)"
      ],
      "metadata": {
        "id": "KneS8s5lqQkj"
      },
      "execution_count": 146,
      "outputs": []
    },
    {
      "cell_type": "code",
      "source": [
        "x=[n for n in range(10,50)] \n",
        "y=[]; \n",
        "z=[];\n",
        "\n",
        "for n in range(10,50):\n",
        "  a = random.sample(range(1, 100), n)\n",
        "  buscado = random.randint(1, len(a)-1)\n",
        "\n",
        "  comparaciones = 0\n",
        "  select(a, 0, len(a)-1, buscado)\n",
        "  y.append(comparaciones)\n",
        "\n",
        "  comparaciones = 0\n",
        "  randomSelect(a, 0, len(a)-1, buscado)\n",
        "  z.append(comparaciones)\n",
        "\n",
        "plt.plot(x,y)\n",
        "plt.plot(x,z)\n",
        "plt.legend([\"Select\", \"Randomized Select\"])\n",
        "\n",
        "plt.xlabel('n')\n",
        "plt.ylabel('Número de comparaciones')\n",
        "plt.show()"
      ],
      "metadata": {
        "colab": {
          "base_uri": "https://localhost:8080/",
          "height": 279
        },
        "id": "OfxOkwB9rpFj",
        "outputId": "26d04acd-37dd-4998-a997-08b56304a601"
      },
      "execution_count": 155,
      "outputs": [
        {
          "output_type": "display_data",
          "data": {
            "text/plain": [
              "<Figure size 432x288 with 1 Axes>"
            ],
            "image/png": "[encoded data removed]"
          },
          "metadata": {
            "needs_background": "light"
          }
        }
      ]
    },
    {
      "cell_type": "markdown",
      "source": [
        "### Análisis de resultados\n",
        "\n",
        "En el gráfico anterior se puede ver cómo el algoritmo *Select* realiza una menor cantidad de comparaciones que *Randomized-Select*. Lo anterior se podría deber a que el primer algoritmo escoge el mejor pivote para hacer cada partición, por lo que realiza menos comparaciones más adelante en sus llamadas a *insertionSort* y *partition*. En cambio, *Randomized-Select*, al escoger un pivote aleatorio, es más probable que genere particiones ineficientes, lo que produciría que haga una mayor cantidad de comparaciones.\n",
        "\n",
        "Cabe recalcar que cada gráfico varía constantemente debido a que en cada llamada a cada algoritmo se buscan distintos i-ésimos elementos, lo que afecta la cantidad de comparaciones en cada momento, sin embargo, ambos algoritmos siempre trabajan con el mismo arreglo generado y con el mismo i-ésimo elemento a buscar, por lo que la representación de compararciones debería ser correcta.\n"
      ],
      "metadata": {
        "id": "QUKK8Bf-snh-"
      }
    },
    {
      "cell_type": "markdown",
      "source": [
        "### 5.2.2 Tiempo de ejecución\n",
        "\n",
        "En el gráfico que se muestra a continuación se visualizan los tiempos de ejecución de los algoritmos *Select* y *Randomized-Select* en función del tamaño del problema para arreglos generados aleatoriamente de tamaños entre 10 y 500.\n",
        "\n"
      ],
      "metadata": {
        "id": "BA95ivZcs52t"
      }
    },
    {
      "cell_type": "code",
      "source": [
        "import datetime\n",
        "from timeit import repeat\n",
        "\n",
        "x=[]; y=[]\n",
        "z=[]; w=[]\n",
        "\n",
        "for n in range(10,500):\n",
        "\n",
        "  a = random.sample(range(1, 1000), n)\n",
        "  buscado = random.randint(1, len(a)-1)\n",
        "\n",
        "  #la función repeat está ejecutando 20 veces select y randomSelect con el arreglo a y retorna el mejor tiempo obtenido.\n",
        "  t = repeat(setup=\"from __main__ import select\", stmt=f\"select({a}, {0}, {len(a)-1}, {buscado})\", repeat=1, number=20)\n",
        "  t2 = repeat(setup=\"from __main__ import randomSelect\", stmt=f\"randomSelect({a}, {0}, {len(a)-1}, {buscado})\", repeat=1, number=20)\n",
        "\n",
        "  x.append(n)\n",
        "  y.append(t)\n",
        "\n",
        "  z.append(n)\n",
        "  w.append(t2)\n",
        "\n",
        "\n",
        "plt.plot(x,y)\n",
        "plt.plot(z,w)\n",
        "plt.legend([\"Select\", \"Randomized Select\"])\n",
        "\n",
        "plt.xlabel('n')\n",
        "plt.ylabel('time in ms')\n",
        "plt.show()"
      ],
      "metadata": {
        "colab": {
          "base_uri": "https://localhost:8080/",
          "height": 279
        },
        "id": "16Yuzydmti_g",
        "outputId": "67d9a19f-1599-408c-f056-04de947f24a4"
      },
      "execution_count": 149,
      "outputs": [
        {
          "output_type": "display_data",
          "data": {
            "text/plain": [
              "<Figure size 432x288 with 1 Axes>"
            ],
            "image/png": "[encoded data removed]"
          },
          "metadata": {
            "needs_background": "light"
          }
        }
      ]
    },
    {
      "cell_type": "markdown",
      "source": [
        "### Análisis de resultados\n",
        "\n",
        "En el gráfico anterior se puede apreciar que, pese a que el algoritmo *Select* tiene un funcionamiento mejor según la teoría, este tiene un tiempo de ejecución mayor que *Randomized-Select*. Lo anterior ocurre debido a que, si bien *Select* escoge al mejor pivote posible para hacer cada partición, el proceso para encontrar a este pivote es bastante lento, por lo que termina por hacer que este algoritmo funcione un poco más lento que su versión random. Por otro lado, pese a que *Randomized-Select* escoge un pivote aleatorio, la elección de este pivote es mucho más rápida que en *Select*, lo que genera que este algoritmo se ejecute más rápido."
      ],
      "metadata": {
        "id": "_GAvcnTRtjaW"
      }
    }
  ]
}