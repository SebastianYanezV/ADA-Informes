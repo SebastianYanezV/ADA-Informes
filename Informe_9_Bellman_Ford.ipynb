{
  "nbformat": 4,
  "nbformat_minor": 0,
  "metadata": {
    "colab": {
      "provenance": [],
      "collapsed_sections": [],
      "authorship_tag": "ABX9TyPvNdQYxSwt7olhFrCfIsuX",
      "include_colab_link": true
    },
    "kernelspec": {
      "name": "python3",
      "display_name": "Python 3"
    },
    "language_info": {
      "name": "python"
    }
  },
  "cells": [
    {
      "cell_type": "markdown",
      "metadata": {
        "id": "view-in-github",
        "colab_type": "text"
      },
      "source": [
        "<a href=\"https://colab.research.google.com/github/SebastianYanezV/ADA-Informes/blob/main/Informe_9_Bellman_Ford.ipynb\" target=\"_parent\"><img src=\"https://colab.research.google.com/assets/colab-badge.svg\" alt=\"Open In Colab\"/></a>"
      ]
    },
    {
      "cell_type": "markdown",
      "source": [
        "# 1. Descripción del problema: Problema del camino más corto\n",
        "\n",
        "**Entrada:** Un grafo dirigido $G=(V,E)$, un vértice fuente $s\\in V$, y un valor real $l_e$ asociado a cada arco $e\\in E$.\n",
        "\n",
        "**Salida:** La distancia más corta $dist(s,v)$ para cada vértice $v\\in V$ o una declaración indicando que $G$ contiene un ciclo negativo.\n",
        "\n",
        "El problema que se quiere resolver en este caso, corresponde al problema del camino más corto, el cuál consiste en encontrar la distancia más corta entre el nodo (o vértice) fuente $s\\in V$ y cada otro nodo $v\\in V$ dentro del grafo dirigido de entrada. Para resolver este problema, se pueden utilizar dos algoritmos dependiendo del contexto de este mismo, por un lado, si se requiere encontrar los caminos más cortos en un grafo que **sólo contiene arcos positivos**, entonces se utiliza el algoritmo de *Dijkstra*, mientras que, si se requiere encontrar los caminos más cortos en un grafo que **puede contener tanto arcos positivos como negativos**, entonces se utiliza el algoritmo de *Bellman-Ford*."
      ],
      "metadata": {
        "id": "DTIvMNPcw3KK"
      }
    },
    {
      "cell_type": "markdown",
      "source": [
        "# 2. Dijkstra y Bellman-Ford"
      ],
      "metadata": {
        "id": "16nsoxWrw_XG"
      }
    },
    {
      "cell_type": "markdown",
      "source": [
        "## 2.1 Código\n",
        "\n",
        "Los códigos que se muestran a continuación pertenecen a los algoritmos *Dijktra* y *Bellman-Ford*."
      ],
      "metadata": {
        "id": "4bVHaIt9z4Gp"
      }
    },
    {
      "cell_type": "code",
      "source": [
        "import random\n",
        "\n",
        "def is_valid_edge(generated_edges: dict, i: int, j: int):\n",
        "    return i != j and not generated_edges.get((i, j), None) and not generated_edges.get((j, i), None)\n",
        "\n",
        "def instance_generator(n: int):\n",
        "    \"\"\"\n",
        "        Input: cantidad de vértices\n",
        "        Output: una lista que contiene todos los arcos y el número del vértice fuente (la función retorna dos variables).\n",
        "        Los arcos vienen en la forma (i, j, weight), donde i es el vértice origen del arco y j el vértice al que apunta el arco, mientras que weight es su peso.\n",
        "    \"\"\"\n",
        "    graph = []\n",
        "    nodes = random.sample(range(0, n), n)\n",
        "    unvisited_nodes = random.sample(range(0, n), n)\n",
        "    \n",
        "    generated_edges = {}\n",
        "    for i in nodes:\n",
        "        rand = random.sample(nodes, random.randint(1, 3))\n",
        "\n",
        "        for j in rand:\n",
        "            edge = (i, j)\n",
        "            edge_with_weight = (i, j, random.randint(1, 100))\n",
        "            \n",
        "            if generated_edges.get((edge[1], edge[0]), None):\n",
        "                continue\n",
        "            \n",
        "            if i == j:\n",
        "                new_vertice = None\n",
        "                iterations = 0\n",
        "                while new_vertice is None and iterations < 250:\n",
        "                    iterations += 1\n",
        "                    number = random.randint(0, n - 1)\n",
        "                    if is_valid_edge(generated_edges, i, number):\n",
        "                        new_vertice = number\n",
        "\n",
        "                if iterations >= 250:\n",
        "                    return instance_generator(n)\n",
        "                \n",
        "                edge = (i, new_vertice)\n",
        "                edge_with_weight = (i, new_vertice, random.randint(-25, 100)) # -25 y 100 corresponde a los límites de los pesos, puede cambiarlos.\n",
        "            \n",
        "            graph.append(edge_with_weight)\n",
        "            generated_edges[edge] = edge\n",
        "\n",
        "            if edge_with_weight[1] in unvisited_nodes:\n",
        "                unvisited_nodes.remove(edge_with_weight[1])\n",
        "\n",
        "    for i in unvisited_nodes:\n",
        "        valid_edge = False\n",
        "        iterations = 0\n",
        "        while not valid_edge and iterations < 250:\n",
        "            iterations += 1\n",
        "            m = random.randint(0, n - 1)\n",
        "            if is_valid_edge(generated_edges, m, i):\n",
        "                valid_edge = True\n",
        "                edge = (m, i)\n",
        "                edge_with_weight = (m, i, random.randint(-25, 100)) # -25 y 100 corresponde a los límites de los pesos, puede cambiarlos.\n",
        "                graph.append(edge_with_weight)\n",
        "                generated_edges[edge] = edge\n",
        "\n",
        "        if iterations >= 250:\n",
        "            return instance_generator(n)\n",
        "\n",
        "    return graph, graph[0][0]"
      ],
      "metadata": {
        "id": "yiVs2_ay4EAP"
      },
      "execution_count": 116,
      "outputs": []
    },
    {
      "cell_type": "code",
      "source": [
        "def is_valid_edge(generated_edges: dict, i: int, j: int):\n",
        "    return i != j and not generated_edges.get((i, j), None) and not generated_edges.get((j, i), None)\n",
        "\n",
        "def instance_generator_Dijkstra(n: int):\n",
        "    \"\"\"\n",
        "        Input: cantidad de vértices\n",
        "        Output: una lista que contiene todos los arcos y el número del vértice fuente (la función retorna dos variables).\n",
        "        Los arcos vienen en la forma (i, j, weight), donde i es el vértice origen del arco y j el vértice al que apunta el arco, mientras que weight es su peso.\n",
        "    \"\"\"\n",
        "    graph = []\n",
        "    nodes = random.sample(range(0, n), n)\n",
        "    unvisited_nodes = random.sample(range(0, n), n)\n",
        "    \n",
        "    generated_edges = {}\n",
        "    for i in nodes:\n",
        "        rand = random.sample(nodes, random.randint(1, 3))\n",
        "\n",
        "        for j in rand:\n",
        "            edge = (i, j)\n",
        "            edge_with_weight = (i, j, random.randint(1, 100))\n",
        "            \n",
        "            if generated_edges.get((edge[1], edge[0]), None):\n",
        "                continue\n",
        "            \n",
        "            if i == j:\n",
        "                new_vertice = None\n",
        "                iterations = 0\n",
        "                while new_vertice is None and iterations < 250:\n",
        "                    iterations += 1\n",
        "                    number = random.randint(0, n - 1)\n",
        "                    if is_valid_edge(generated_edges, i, number):\n",
        "                        new_vertice = number\n",
        "\n",
        "                if iterations >= 250:\n",
        "                    return instance_generator(n)\n",
        "                \n",
        "                edge = (i, new_vertice)\n",
        "                edge_with_weight = (i, new_vertice, random.randint(1, 100)) # 1 y 100 corresponde a los límites de los pesos, puede cambiarlos.\n",
        "            \n",
        "            graph.append(edge_with_weight)\n",
        "            generated_edges[edge] = edge\n",
        "\n",
        "            if edge_with_weight[1] in unvisited_nodes:\n",
        "                unvisited_nodes.remove(edge_with_weight[1])\n",
        "\n",
        "    for i in unvisited_nodes:\n",
        "        valid_edge = False\n",
        "        iterations = 0\n",
        "        while not valid_edge and iterations < 250:\n",
        "            iterations += 1\n",
        "            m = random.randint(0, n - 1)\n",
        "            if is_valid_edge(generated_edges, m, i):\n",
        "                valid_edge = True\n",
        "                edge = (m, i)\n",
        "                edge_with_weight = (m, i, random.randint(1, 100)) # 1 y 100 corresponde a los límites de los pesos, puede cambiarlos.\n",
        "                graph.append(edge_with_weight)\n",
        "                generated_edges[edge] = edge\n",
        "\n",
        "        if iterations >= 250:\n",
        "            return instance_generator(n)\n",
        "\n",
        "    return graph, graph[0][0]"
      ],
      "metadata": {
        "id": "S4XHn6dP4Yv2"
      },
      "execution_count": 117,
      "outputs": []
    },
    {
      "cell_type": "code",
      "source": [
        "import networkx as nx\n",
        "\n",
        "def graph_to_nxdigraph(graph: list, n: int):\n",
        "    \"\"\"\n",
        "        Input: Un grafo en formato list[tuple]. Ej: [(0, 1, 10), (1, 2, 15), (2, 0, 7)].\n",
        "        Output: Un nx.DiGraph de la libreria networkx.\n",
        "    \"\"\"\n",
        "    nxdigraph = nx.DiGraph()\n",
        "    [nxdigraph.add_node(i) for i in range(n)]\n",
        "\n",
        "    for v in graph:\n",
        "        nxdigraph.add_edge(v[0], v[1], weight=v[2])\n",
        "\n",
        "    return nxdigraph"
      ],
      "metadata": {
        "id": "GhM5ScQr4gOb"
      },
      "execution_count": 118,
      "outputs": []
    },
    {
      "cell_type": "markdown",
      "source": [
        "### 2.1.1 Dijkstra"
      ],
      "metadata": {
        "id": "tnlUGoeO0L7K"
      }
    },
    {
      "cell_type": "code",
      "source": [
        "def listT_to_matrix(lista, V):\n",
        "  edges = len(lista)\n",
        "  matriz = [[0 for i in range(V)] for j in range(V)]\n",
        "  \n",
        "  for node in range(edges):\n",
        "    for (x, y, peso) in lista:\n",
        "      matriz[x][y] = peso\n",
        "\n",
        "  return matriz\n",
        "\n",
        "def minDistance(V, dis, visitado, verbose = False):\n",
        "  min = 999999\n",
        "  min_index = 0\n",
        "\n",
        "  #Se busca la distancia minima\n",
        "  for u in range(V):\n",
        "    if verbose == True: \n",
        "      print(\"-----------------------------------------------------------------------------------\")\n",
        "      print(f\"Si dis[{u}] ({dis[u]}) < {min} y visitado[{u}] == False\")\n",
        "    if dis[u] < min and visitado[u] == False:\n",
        "      min = dis[u]\n",
        "      min_index = u\n",
        "      if verbose == True:\n",
        "        print(f\"min = dis[{u}] ({dis[u]})\")\n",
        "        print(f\"min_index = {u}\")\n",
        "    else:\n",
        "      if verbose == True: print(f\"No entra al if.\")\n",
        "    \n",
        "  return min_index\n",
        "\n",
        "def Dijkstra(lista, matriz, V, s, verbose = False, visualize = True):\n",
        "  #Se inicilaizan las distancias a cada nodo y se marcan como no visitados\n",
        "  dis = [999999] * V\n",
        "  dis[s] = 0\n",
        "  visitado = [False] * V\n",
        "\n",
        "  if verbose == True: \n",
        "    print(f\"Se inicializan las distancias a cada nodo: {dis}.\")\n",
        "    print(f\"Se empieza a calcular el camino más corto desde {s} hasta cada otro nodo del grafo.\")\n",
        " \n",
        "  for _ in range(V):\n",
        "    x = minDistance(V, dis, visitado, False)\n",
        "    visitado[x] = True\n",
        "    if verbose == True: print(f\"Se encuentra la distancia minima {x} y visitado[{x}] se marca como visitado.\")\n",
        "    for y in range(V):\n",
        "      if verbose == True: \n",
        "        print(\"-----------------------------------------------------------------------------------\")\n",
        "        print(f\"Si matriz[{x}][{y}] ({matriz[x][y]}) > 0 y visitado[{y}] == False y dis[{y}] > dis[{x}] + matriz[{x}][{y}]\")\n",
        "      if matriz[x][y] > 0 and visitado[y] == False and dis[y] > dis[x] + matriz[x][y]:\n",
        "        #Se guarda la menor distancia a cada nodo\n",
        "        dis[y] = dis[x] + matriz[x][y]\n",
        "        if verbose == True: print(f\"dis[{y}] = dis[{x}] + matriz[{x}][{y}]\")\n",
        "      else:\n",
        "        if verbose == True: print(f\"No entra al if.\")\n",
        "  \n",
        "  if verbose == True: print(\"-----------------------------------------------------------------------------------\")\n",
        "  \n",
        "  if visualize == True:\n",
        "    digrafo = graph_to_nxdigraph(lista, V)\n",
        "    pos = nx.spring_layout(digrafo)\n",
        "    labels = nx.get_edge_attributes(digrafo,'weight')\n",
        "    nx.draw_networkx_edge_labels(digrafo,pos,edge_labels=labels,font_size=14)\n",
        "    nx.draw(digrafo,pos, node_color=\"red\", with_labels=True, node_size=500, font_color=\"white\", font_size=14, font_weight=\"black\", width  =0.5, edge_color =\"green\")\n",
        "\n",
        "  return dis\n",
        "\n",
        "a, b = instance_generator_Dijkstra(3)\n",
        "grafo = listT_to_matrix(a, 3)\n",
        "print(\"Lista generada:\", a)\n",
        "caminos = Dijkstra(a, grafo, 3, 0)\n",
        "print(f\"Distancia más corta a cada vértice desde el nodo fuente (nodo 0):\")\n",
        "for i in range(3):\n",
        "  print(f\"Al nodo {i} ---> {caminos[i]}\")"
      ],
      "metadata": {
        "id": "qucxuWXcC7qP",
        "colab": {
          "base_uri": "https://localhost:8080/",
          "height": 337
        },
        "outputId": "eaea9bd2-0acb-400c-c62f-14b5e163510d"
      },
      "execution_count": 119,
      "outputs": [
        {
          "output_type": "stream",
          "name": "stdout",
          "text": [
            "Lista generada: [(0, 1, 83), (1, 2, -12), (1, 2, 63), (2, 0, 53), (2, 0, 26)]\n",
            "Distancia más corta a cada vértice desde el nodo fuente (nodo 0):\n",
            "Al nodo 0 ---> 0\n",
            "Al nodo 1 ---> 83\n",
            "Al nodo 2 ---> 146\n"
          ]
        },
        {
          "output_type": "display_data",
          "data": {
            "text/plain": [
              "<Figure size 432x288 with 1 Axes>"
            ],
            "image/png": "[encoded data removed]"
          },
          "metadata": {}
        }
      ]
    },
    {
      "cell_type": "markdown",
      "source": [
        "### 2.1.2 Bellman-Ford"
      ],
      "metadata": {
        "id": "Rk0bsO0j0P5P"
      }
    },
    {
      "cell_type": "code",
      "source": [
        "import matplotlib.pyplot as plt\n",
        "\n",
        "def BellmanFord(lista, V, E, s, verbose = False, visualize = True):\n",
        "  #Se inicilaizan las distancias a cada nodo\n",
        "  dis = [999999] * V\n",
        "  dis[s] = 0\n",
        "  if verbose == True: \n",
        "    print(f\"Se inicializan las distancias a cada nodo: {dis}.\")\n",
        "    print(f\"Se empieza a calcular el camino más corto desde {s} hasta cada otro nodo del grafo.\\n\")\n",
        "\n",
        "  #Se recorren los nodos\n",
        "  for i in range(V - 1):\n",
        "    if verbose == True: print(\"-----------------------------------------------------------------------------------\\n\")\n",
        "    #Se recorren los arcos\n",
        "    for j in range(E):\n",
        "      #El camino más corto hacia el nodo \"v\" con i arcos se actualizará si el camino más corto encontrado\n",
        "      #es menor que la distancia al nodo \"v\" con i arcos + el peso de ese camino\n",
        "      if verbose == True: print(f\"Si dis[{lista[j][0]}] ({dis[lista[j][0]]}) + lista[{j}][2] ({lista[j][2]}) < dis[{lista[j][1]}] {dis[lista[j][1]]}, entonces:\")\n",
        "      if dis[lista[j][0]] + lista[j][2] < dis[lista[j][1]]:\n",
        "        if verbose == True: print(f\"dis[{lista[j][1]}] ({dis[lista[j][1]]}) = dis[{lista[j][0]}] ({dis[lista[j][0]]}) + lista[{j}][2] ({lista[j][2]})\\n\")\n",
        "        dis[lista[j][1]] = dis[lista[j][0]] + lista[j][2]\n",
        "      else:\n",
        "        if verbose == True: print(f\"dis[{lista[j][0]}] ({dis[lista[j][0]]}) + lista[{j}][2] ({lista[j][2]}) era mayor que dis[{lista[j][1]}] {dis[lista[j][1]]}.\\n\")\n",
        "\n",
        "  if verbose == True: \n",
        "    print(\"-----------------------------------------------------------------------------------\\n\")\n",
        "    print(\"Se verfica que no haya ningun ciclo negativo en el grafo.\")\n",
        "\n",
        "  for i in range(E):\n",
        "    #Se obtiene el nodo origen, nodo final y el peso del arco entre ambos\n",
        "    x = lista[i][0]\n",
        "    y = lista[i][1]\n",
        "    pesoArco = lista[i][2]\n",
        "    #Se verifica que no hayan ciclos negativos\n",
        "    if dis[x] != 999999 and dis[x] + pesoArco < dis[y]:\n",
        "      print(\"El grafo contiene un ciclo negativo.\")\n",
        "      return\n",
        "\n",
        "  if verbose == True: \n",
        "    print(\"No hay ningun ciclo negativo.\\n\")\n",
        "    print(\"-----------------------------------------------------------------------------------\\n\")\n",
        "    \n",
        "  if visualize == True:\n",
        "    grafo = graph_to_nxdigraph(lista, V)\n",
        "    pos = nx.spring_layout(grafo)\n",
        "    labels = nx.get_edge_attributes(grafo,'weight')\n",
        "    nx.draw_networkx_edge_labels(grafo,pos,edge_labels=labels,font_size=14)\n",
        "    nx.draw(grafo,pos, node_color=\"red\", with_labels=True, node_size=500, font_color=\"white\", font_size=14, font_weight=\"black\", width  =0.5, edge_color =\"green\")\n",
        "\n",
        "  return dis\n",
        "\n",
        "a, b = instance_generator(3)\n",
        "print(\"Lista generada:\", a)\n",
        "caminos = BellmanFord(a, 3, len(a), 0)\n",
        "print(f\"Distancia más corta a cada vértice desde el nodo fuente (nodo 0):\")\n",
        "for i in range(3):\n",
        "  print(f\"Al nodo {i} ---> {caminos[i]}\")"
      ],
      "metadata": {
        "id": "tt4RZiZgtyuT",
        "colab": {
          "base_uri": "https://localhost:8080/",
          "height": 337
        },
        "outputId": "66d46cde-e3d9-4ddf-ba52-4869d28a5985"
      },
      "execution_count": 121,
      "outputs": [
        {
          "output_type": "stream",
          "name": "stdout",
          "text": [
            "Lista generada: [(0, 2, 15), (2, 1, 45), (1, 0, 21), (1, 0, 91)]\n",
            "Distancia más corta a cada vértice desde el nodo fuente (nodo 0):\n",
            "Al nodo 0 ---> 0\n",
            "Al nodo 1 ---> 60\n",
            "Al nodo 2 ---> 15\n"
          ]
        },
        {
          "output_type": "display_data",
          "data": {
            "text/plain": [
              "<Figure size 432x288 with 1 Axes>"
            ],
            "image/png": "[encoded data removed]"
          },
          "metadata": {}
        }
      ]
    },
    {
      "cell_type": "markdown",
      "source": [
        "## 2.2 Descripción del algoritmo"
      ],
      "metadata": {
        "id": "BNwA3Olf_YXZ"
      }
    },
    {
      "cell_type": "markdown",
      "source": [
        "### 2.2.1 Descripción de Dijkstra\n",
        "\n",
        "A continuación se describe el funcionamineto del algoritmo:\n",
        "\n",
        "1. El algoritmo recibe el grafo en forma de lista, de matriz, su cantidad de nodos y el nodo fuente.\n",
        "\n",
        "2. Se inicializan las distancias a cada nodo, si el nodo es el nodo fuente, entonces la distanca es 0, sino, la distancia será igual a infinito (999999). Además, se marcan los todos nodos como no visitados.\n",
        "\n",
        "3. Se empieza a recorrer la matriz (grafo) y se va buscando la distancia mínima del nodo fuente a cada otro nodo. En la matriz, $x$ representa el nodo de partida e $y$ el nodo de llegada y la posición (x, y) representa la menor distancia almacenada hasta el momento.\n",
        "\n",
        "4. Finalmente, se debe mostrar la distancia mínima de cada camino hacia cada nodo desde el nodo fuente."
      ],
      "metadata": {
        "id": "Q5filqLB_bhU"
      }
    },
    {
      "cell_type": "markdown",
      "source": [
        "### 2.2.2 Descripción de Bellman-Ford\n",
        "\n",
        "**Sub-estructura óptima:** La sub-estructura óptima de este problema se basa en ir calculando el camino más corto entre el nodo de origen $s\\in V$ y cada otro nodo $v\\in V$. Para lo anterior, pueden ocurrir dos casos:\n",
        "\n",
        "1. Si se conoce la cantidad de arcos de la ruta óptima: Se deben calcular los caminos más cortos entre $s$ y un nodo intermedio $w$ y a esos resultados, sumarles la distancia entre $w$ y $v$, para luego quedarse con el resultado menor, el cuál correspondería al camino más corto. \n",
        "\n",
        "2. Si no se conoce la cantidad de arcos de la ruta óptima: El camino más corto entre $s$ y $v$ corresponde al camino más corto con $i - 1$ arcos o menos que se encuentre, con $i ≥ 1$.\n",
        "\n",
        "**Función de recurrencia:** Sea $L_{i,v}$ el largo mínimo de un camino entre $s$ y $v$ con a lo más $i-1$ arcos y ciclos permitidos. Luego, para todo $i\\geq 1$ y $v \\in V$ se tiene que:\n",
        "\n",
        "$L_{i,v} =\n",
        "\\min \\left\\{\n",
        " \\begin{array}{cc}\n",
        " L_{i-1,v} & \\text{(Caso 1)} \\\\\n",
        " \\min\\limits_{(w,v)\\in E} \\{L_{i-1,w}+l_{wv}\\} & \\text{(Caso 2)}\n",
        "    \t\\end{array}\n",
        "\\right\\}$\n",
        "\n",
        "Los sub-problemas de base serían, para todo $v\\in V$:\n",
        "\n",
        "$L_{0,v} =\n",
        "\\left\\{\n",
        " \\begin{array}{cc}\n",
        " 0 & \\text{(Si s = v)} \\\\\n",
        " +∞ & \\text{(En otro caso)}\n",
        "    \t\\end{array}\n",
        "\\right\\}$\n",
        "\n",
        "A continuación se decribe el funcionamiento del algoritmo.\n",
        "\n",
        "1. El algoritmo recibe el grafo en forma de lista, su cantidad de nodos, arcos y el nodo fuente.\n",
        "\n",
        "2. Se inicializan las distancias a cada nodo, si el nodo es el nodo fuente, entonces la distanca es 0, sino, la distancia será igual a infinito (999999).\n",
        "\n",
        "3. Se empieza a recorrer la lista (grafo) y se utiliza la función de recurrencia mostrada anteriormente para ir buscando la distancia mínima del nodo fuente a cada otro nodo.\n",
        "\n",
        "4. Luego de calcular cada camino más corto, se debe verificar que no exista ningún ciclo negativo en el grafo, en caso de existir, se debe mostrar un mensaje por pantalla.\n",
        "\n",
        "5. Finalmente, si no existía ningún ciclo negativo, se debe mostrar la distancia mínima de cada camino hacia cada nodo desde el nodo fuente."
      ],
      "metadata": {
        "id": "W7ZCXh5j_mue"
      }
    },
    {
      "cell_type": "markdown",
      "source": [
        "## 2.3 Ejemplo"
      ],
      "metadata": {
        "id": "Y61SVSF6_s2K"
      }
    },
    {
      "cell_type": "markdown",
      "source": [
        "### 2.3.1 Ejemplo Dijkstra\n",
        "\n",
        "Se tiene la siguiente lista:\n",
        "\n",
        "[(0, 1, 51), (2, 0, 98), (1, 2, 19)]\n",
        "\n",
        "En pocas palabras, lo que el algoritmo de *Dijkstra* debe hacer es buscar el camino más corto hasta cada nodo desde un nodo fuente, en este caso, el nodo 0.\n",
        "\n",
        "1. Revisa los caminos más cortos hasta el nodo 0, es el mismo nodo, por lo que el largo del camino es 0 y no hay ninguno menor.\n",
        "\n",
        "2. Busca el camino más corto hasta el nodo 1, el cuál es igual a 51, ya que no hay otros nodos.\n",
        "\n",
        "3. Busca el camino más corto hasta el nodo 2, el cuál es 70, ya que este camino está formado por el camino de 0 a 1 y el de 1 a 2, con pesos de 51 y 19 respectivamente.\n",
        "\n",
        "4. Finalmente, se tiene que:\n",
        "\n",
        "  Distancia más corta a cada vértice desde el nodo fuente (nodo 0):\n",
        "\n",
        "  Al nodo 0 ---> 0\n",
        "\n",
        "  Al nodo 1 ---> 51\n",
        "\n",
        "  Al nodo 2 ---> 70"
      ],
      "metadata": {
        "id": "kp1aoDCi_xFq"
      }
    },
    {
      "cell_type": "markdown",
      "source": [
        "### 2.3.2 Ejemplo Bellman-Ford\n",
        "\n",
        "Se ingresa el siguiente grafo en forma de lista, junto a sus nodos, arcos y nodo fuente:\n",
        "\n",
        "lista = [(1, 2, 48), (2, 0, 43), (0, 1, 93), (0, 1, 55)]\n",
        "\n",
        "V = 3\n",
        "\n",
        "E = 4\n",
        "\n",
        "Nodo Fuente = 0\n",
        "\n",
        "G es de la forma (a, b, c), donde a y b representan el nodo de partida y de llegada respectivamente y donde c es igual al peso del arco entre ellos.\n",
        "\n",
        "1. Se inicializan todas las distancias en infinito o 0, si es otro nodo o el fuente, respectivamente:\n",
        "\n",
        "  dis[0, 999999, 999999]\n",
        "\n",
        "2. Se empieza a buscar el camino con menor distancia desde $s$ a cada otro nodo del grafo:\n",
        "\n",
        "  2.1 Se recorre de 0 a 2 (i) y de 0 a 4 (j).\n",
        "\n",
        "  2.2 Si dis[lista[0][0]] + lista[0][2] < dis[lista[0][1]], lo que es igual a: \n",
        "  \n",
        "  Si dis[1] + 48 < dis[2], lo que es igual a: \n",
        "  \n",
        "  Si 999999 + 48 < 999999, entonces:\n",
        "    \n",
        "  dis[2] = dis[1] + lista[0][2]\n",
        "\n",
        "  dis[2] = 999999 + 48\n",
        "\n",
        "  Pero eso no es verdad, por lo que se hace la siguiente comparación.\n",
        "\n",
        "  2.3 Si dis[lista[1][0]] + lista[1][2] < dis[lista[1][1]], lo que es igual a:\n",
        "\n",
        "  Si dis[2] + 43 < dis[0], lo que es igual a:\n",
        "\n",
        "  Si 999999 + 43 < 0, entonces:\n",
        "\n",
        "  dis[0] = dis[2] + 43\n",
        "\n",
        "  dis[0] = 999999 + 43\n",
        "\n",
        "  Pero eso no es verdad, por lo que se hace la siguiente comparación.\n",
        "\n",
        "3. Se realiza el procedimiento anterior hasta encontrar cada camino más corto desde $s$ hasta cada otro nodo del grafo.\n",
        "\n",
        "4. Finalmente, se tiene que:\n",
        "\n",
        "  Distancia más corta a cada vértice desde el nodo fuente (nodo 0):\n",
        "\n",
        "  Al nodo 0 ---> 0\n",
        "\n",
        "  Al nodo 1 ---> 55\n",
        "\n",
        "  Al nodo 2 ---> 103\n",
        "\n"
      ],
      "metadata": {
        "id": "gs7dr9ad_2yJ"
      }
    },
    {
      "cell_type": "markdown",
      "source": [
        "## 2.4 Ejecución del algoritmo paso a paso"
      ],
      "metadata": {
        "id": "8cjQW50f_5B9"
      }
    },
    {
      "cell_type": "markdown",
      "source": [
        "### 2.4.1 Dijkstra"
      ],
      "metadata": {
        "id": "9hoq6acsAA4Z"
      }
    },
    {
      "cell_type": "code",
      "source": [
        "a, b = instance_generator_Dijkstra(3)\n",
        "grafo = listT_to_matrix(a, 3)\n",
        "print(\"Lista generada:\", a)\n",
        "caminos = Dijkstra(a, grafo, 3, 0, True, False)\n",
        "print(f\"Distancia más corta a cada vértice desde el nodo fuente (nodo 0):\")\n",
        "for i in range(3):\n",
        "  print(f\"Al nodo {i} ---> {caminos[i]}\")"
      ],
      "metadata": {
        "id": "TPjL0ePzN8qO",
        "colab": {
          "base_uri": "https://localhost:8080/"
        },
        "outputId": "42bb9ff2-b6d9-459a-9de9-87818b3fb9ed"
      },
      "execution_count": null,
      "outputs": [
        {
          "output_type": "stream",
          "name": "stdout",
          "text": [
            "Lista generada: [(0, 1, 16), (1, 2, 56), (2, 0, 80)]\n",
            "Se inicializan las distancias a cada nodo: [0, 999999, 999999].\n",
            "Se empieza a calcular el camino más corto desde 0 hasta cada otro nodo del grafo.\n",
            "-----------------------------------------------------------------------------------\n",
            "Si dis[0] (0) < 999999 y visitado[0] == False\n",
            "min = dis[0] (0)\n",
            "min_index = 0\n",
            "-----------------------------------------------------------------------------------\n",
            "Si dis[1] (999999) < 0 y visitado[1] == False\n",
            "No entra al if.\n",
            "-----------------------------------------------------------------------------------\n",
            "Si dis[2] (999999) < 0 y visitado[2] == False\n",
            "No entra al if.\n",
            "Se encuentra la distancia minima 0 y visitado[0] se marca como visitado.\n",
            "-----------------------------------------------------------------------------------\n",
            "Si matriz[0][0] (0) > 0 y visitado[0] == False y dis[0] > dis[0] + matriz[0][0]\n",
            "No entra al if.\n",
            "-----------------------------------------------------------------------------------\n",
            "Si matriz[0][1] (16) > 0 y visitado[1] == False y dis[1] > dis[0] + matriz[0][1]\n",
            "dis[1] = dis[0] + matriz[0][1]\n",
            "-----------------------------------------------------------------------------------\n",
            "Si matriz[0][2] (0) > 0 y visitado[2] == False y dis[2] > dis[0] + matriz[0][2]\n",
            "No entra al if.\n",
            "-----------------------------------------------------------------------------------\n",
            "Si dis[0] (0) < 999999 y visitado[0] == False\n",
            "No entra al if.\n",
            "-----------------------------------------------------------------------------------\n",
            "Si dis[1] (16) < 999999 y visitado[1] == False\n",
            "min = dis[1] (16)\n",
            "min_index = 1\n",
            "-----------------------------------------------------------------------------------\n",
            "Si dis[2] (999999) < 16 y visitado[2] == False\n",
            "No entra al if.\n",
            "Se encuentra la distancia minima 1 y visitado[1] se marca como visitado.\n",
            "-----------------------------------------------------------------------------------\n",
            "Si matriz[1][0] (0) > 0 y visitado[0] == False y dis[0] > dis[1] + matriz[1][0]\n",
            "No entra al if.\n",
            "-----------------------------------------------------------------------------------\n",
            "Si matriz[1][1] (0) > 0 y visitado[1] == False y dis[1] > dis[1] + matriz[1][1]\n",
            "No entra al if.\n",
            "-----------------------------------------------------------------------------------\n",
            "Si matriz[1][2] (56) > 0 y visitado[2] == False y dis[2] > dis[1] + matriz[1][2]\n",
            "dis[2] = dis[1] + matriz[1][2]\n",
            "-----------------------------------------------------------------------------------\n",
            "Si dis[0] (0) < 999999 y visitado[0] == False\n",
            "No entra al if.\n",
            "-----------------------------------------------------------------------------------\n",
            "Si dis[1] (16) < 999999 y visitado[1] == False\n",
            "No entra al if.\n",
            "-----------------------------------------------------------------------------------\n",
            "Si dis[2] (72) < 999999 y visitado[2] == False\n",
            "min = dis[2] (72)\n",
            "min_index = 2\n",
            "Se encuentra la distancia minima 2 y visitado[2] se marca como visitado.\n",
            "-----------------------------------------------------------------------------------\n",
            "Si matriz[2][0] (80) > 0 y visitado[0] == False y dis[0] > dis[2] + matriz[2][0]\n",
            "No entra al if.\n",
            "-----------------------------------------------------------------------------------\n",
            "Si matriz[2][1] (0) > 0 y visitado[1] == False y dis[1] > dis[2] + matriz[2][1]\n",
            "No entra al if.\n",
            "-----------------------------------------------------------------------------------\n",
            "Si matriz[2][2] (0) > 0 y visitado[2] == False y dis[2] > dis[2] + matriz[2][2]\n",
            "No entra al if.\n",
            "-----------------------------------------------------------------------------------\n",
            "Distancia más corta a cada vértice desde el nodo fuente (nodo 0):\n",
            "Al nodo 0 ---> 0\n",
            "Al nodo 1 ---> 16\n",
            "Al nodo 2 ---> 72\n"
          ]
        }
      ]
    },
    {
      "cell_type": "markdown",
      "source": [
        "### 2.4.2 Bellman-Ford"
      ],
      "metadata": {
        "id": "t1NrIb7tAE_6"
      }
    },
    {
      "cell_type": "code",
      "source": [
        "a, b = instance_generator(3)\n",
        "print(\"Lista generada:\", a)\n",
        "caminos = BellmanFord(a, 3, len(a), 0, True, False)\n",
        "print(f\"Distancia más corta a cada vértice desde el nodo fuente (nodo 0):\")\n",
        "for i in range(3):\n",
        "  print(f\"Al nodo {i} ---> {caminos[i]}\")"
      ],
      "metadata": {
        "id": "AIdgW_z4N9Xn",
        "colab": {
          "base_uri": "https://localhost:8080/"
        },
        "outputId": "acd2ebdc-291e-4217-bc14-7f2d105cc33e"
      },
      "execution_count": null,
      "outputs": [
        {
          "output_type": "stream",
          "name": "stdout",
          "text": [
            "Lista generada: [(0, 2, 20), (2, 1, 52), (1, 0, 87), (1, 0, 100)]\n",
            "Se inicializan las distancias a cada nodo: [0, 999999, 999999].\n",
            "Se empieza a calcular el camino más corto desde 0 hasta cada otro nodo del grafo.\n",
            "\n",
            "-----------------------------------------------------------------------------------\n",
            "\n",
            "Si dis[0] (0) + lista[0][2] (20) < dis[2] 999999, entonces:\n",
            "dis[2] (999999) = dis[0] (0) + lista[0][2] (20)\n",
            "\n",
            "Si dis[2] (20) + lista[1][2] (52) < dis[1] 999999, entonces:\n",
            "dis[1] (999999) = dis[2] (20) + lista[1][2] (52)\n",
            "\n",
            "Si dis[1] (72) + lista[2][2] (87) < dis[0] 0, entonces:\n",
            "dis[1] (72) + lista[2][2] (87) era mayor que dis[0] 0.\n",
            "\n",
            "Si dis[1] (72) + lista[3][2] (100) < dis[0] 0, entonces:\n",
            "dis[1] (72) + lista[3][2] (100) era mayor que dis[0] 0.\n",
            "\n",
            "-----------------------------------------------------------------------------------\n",
            "\n",
            "Si dis[0] (0) + lista[0][2] (20) < dis[2] 20, entonces:\n",
            "dis[0] (0) + lista[0][2] (20) era mayor que dis[2] 20.\n",
            "\n",
            "Si dis[2] (20) + lista[1][2] (52) < dis[1] 72, entonces:\n",
            "dis[2] (20) + lista[1][2] (52) era mayor que dis[1] 72.\n",
            "\n",
            "Si dis[1] (72) + lista[2][2] (87) < dis[0] 0, entonces:\n",
            "dis[1] (72) + lista[2][2] (87) era mayor que dis[0] 0.\n",
            "\n",
            "Si dis[1] (72) + lista[3][2] (100) < dis[0] 0, entonces:\n",
            "dis[1] (72) + lista[3][2] (100) era mayor que dis[0] 0.\n",
            "\n",
            "-----------------------------------------------------------------------------------\n",
            "\n",
            "Se verfica que no haya ningun ciclo negativo en el grafo.\n",
            "No hay ningun ciclo negativo.\n",
            "\n",
            "-----------------------------------------------------------------------------------\n",
            "\n",
            "Distancia más corta a cada vértice desde el nodo fuente (nodo 0):\n",
            "Al nodo 0 ---> 0\n",
            "Al nodo 1 ---> 72\n",
            "Al nodo 2 ---> 20\n"
          ]
        }
      ]
    },
    {
      "cell_type": "markdown",
      "source": [
        "# 3. Tiempo de ejecución"
      ],
      "metadata": {
        "id": "hAsrx2iBxCYd"
      }
    },
    {
      "cell_type": "markdown",
      "source": [
        "## 3.1 Dijkstra\n",
        "\n",
        "### Teorema: tiempo de ejecución\n",
        "\n",
        "El algoritmo de *Dijkstra* tiene un tiempo de ejecución de $O(V^2)$.\n",
        "\n",
        "### Prueba del teorema\n",
        "\n",
        "El teorema anterior se puede probar al analizar los procedimientos realizados por el algoritmo en cada paso de este. En primer lugar, inicializar las distancias a cada nodo tiene una complejidad de $O(V)$, luego, para inicializar el arreglo de visitados también se necesita un tiempo de $O(V)$, para encontrar el camino más corto desde el nodo fuente $s$ a cada otro nodo del grafo, se utiliza un ciclo anidado de $O(V^2)$. También, la función *minDistance* tiene un tiempo de ejecución de $O(V)$.\n",
        "\n",
        "Luego de calcular el tiempo de ejecución de cada paso del algoritmo por separado, se tiene que:\n",
        "\n",
        "$T(n) = O(V) + O(V) + O(V^2) + O(V) + O(V)$\n",
        "\n",
        "Lo anterior ayuda a concluir que el tiempo de ejecución del algoritmo de *Dijkstra* efectivamente es de $O(V^2)$, por lo que se puede concluir que el teorema del tiempo de ejecución es verdadero."
      ],
      "metadata": {
        "id": "M6gHLns1OHmK"
      }
    },
    {
      "cell_type": "markdown",
      "source": [
        "## 3.2 Bellman-Ford\n",
        "\n",
        "### Teorema: tiempo de ejecución\n",
        "\n",
        "El algoritmo de *Bellman-Ford* tiene un tiempo de ejecución de $O(VE)$.\n",
        "\n",
        "### Prueba del teorema\n",
        "\n",
        "El teorema anterior se puede probar al analizar los procedimientos realizados por el algoritmo en cada paso de este. En primer lugar, inicializar las distancias a cada nodo tiene una complejidad de $O(V)$, luego, para encontrar el camino más corto desde el nodo fuente $s$ a cada otro nodo del grafo, se utiliza un ciclo anidado de $O(VE)$. En tercer lugar, el verificar que no hayan ciclos negativos, demora un tiempo de $O(E)$. \n",
        "\n",
        "Luego de calcular el tiempo de ejecución de cada paso del algoritmo por separado, se tiene que:\n",
        "\n",
        "$T(n) = O(V) + O(VE) + O(E) + O(V)$\n",
        "\n",
        "Lo anterior ayuda a concluir que el tiempo de ejecución del algoritmo *Bellman-Ford* efectivamente es de $O(VE)$, por lo que se puede concluir que el teorema del tiempo de ejecución es verdadero."
      ],
      "metadata": {
        "id": "y4qq0RmeOLvc"
      }
    },
    {
      "cell_type": "markdown",
      "source": [
        "# 4. Correctitud Bellman-Ford\n",
        "\n",
        "## Teorema: correctitud del algoritmo Bellman-Ford\n",
        "\n",
        "El algoritmo *Bellman-Ford* recibe un grafo en forma de lista, su cantidad de nodos, arcos y un nodo $s$ que se usará como nodo fuente y retorna una lista con las distancias de los caminos más cortos desde $s$ hasta cada otro nodo del grafo.\n",
        "\n",
        "## Prueba del teorema\n",
        "\n",
        "Para probar el teorema anterior, se utilizará inducción matemática basándose en la siguiente hipótesis.\n",
        "\n",
        "\"En la i-ésima iteración del algoritmo, la distancia de $s$ a cada nodo $v$ separado como máximo por i arcos es igual a la distancia del camino más corto.\"\n",
        "\n",
        "**Caso base (n = 1)**\n",
        "\n",
        "Si el grafo ingresado sólo posee un único nodo, entonces la lista de distancias retornadas también tendrá un único valor, el cuál será igual a 0, ya que la distancia del nodo fuente $s$ a si mismo, es igual a 0.\n",
        "\n",
        "**Paso inductivo (n > 1)**\n",
        "\n",
        "Al comienzo de la iteración i + 1, la distancia actual de $s$ a $v$, corresponde a la distancia del camino más corto con máximo i arcos. Sin embargo, al considerar un arco adicional, podría existir un nuevo valor que minimice esta distancia. Por lo tanto, existen dos casos posibles:\n",
        "\n",
        "1. El camino más corto de $s$ a $v$ está formado por i arcos o menos. En este caso, ningún camino de $s$ a $v$ formado exactamente por i + 1 arcos minimizará la distancia, por lo tanto, se mantiene el valor de la iteración anterior.\n",
        "\n",
        "2. El camino más corto de $s$ a $v$ está formado exactamente por i + 1 arcos. Para este caso, consideremos un nodo $w$ predecesor de $v$, tal que el camino de $s$ a $w$ está formado por i arcos. Por inducción, sabemos que la distancia al nodo $w$ es óptima, luego, al sumar este valor con el peso del arco (w, v) se obtendrá una nueva distancia para $v$. Como en cada iteración se recorren todos los arcos del grafo, sabemos que uno de estos arcos (w, v) será el que minimice la distancia a $v$.\n",
        "\n",
        "**Correctitud**\n",
        "\n",
        "Finalmente, como el caso base y paso inductivo son correctos, y sabiedo que la sub-estructura óptima del problema permite saber que todos los caminos almacenados serán los más cortos, se concluye que el teorema de correctitud del algoritmo es correcto, por lo que el algoritmo también lo es."
      ],
      "metadata": {
        "id": "8wVpFawLxOAm"
      }
    },
    {
      "cell_type": "markdown",
      "source": [
        "# 5. Experimentos"
      ],
      "metadata": {
        "id": "5MbPA3xwxP1l"
      }
    },
    {
      "cell_type": "markdown",
      "source": [
        "## 5.1 Bellman-Ford (media de tiempo de ejecución v/s tiempo de ejecución teórico)\n",
        "\n",
        "En el gráfico que se muestra a continuación se visualizan los tiempos de ejecución del algoritmo Bellman-Ford en función del tamaño del problema para problemas generados aleatoriamente de tamaños entre 5 y 100. Estos problemas se generan utilizando el generador de instancias."
      ],
      "metadata": {
        "id": "DJpfA8_GOXNk"
      }
    },
    {
      "cell_type": "code",
      "source": [
        "import matplotlib.pyplot as plt\n",
        "import math\n",
        "import datetime\n",
        "from timeit import repeat\n",
        "\n",
        "x=[]; y=[]\n",
        "\n",
        "for n in range(5,100):\n",
        "\n",
        "  a, b = instance_generator(n)\n",
        "\n",
        "  t = repeat(setup=\"from __main__ import BellmanFord\", stmt=f\"BellmanFord({a}, {n}, {len(a)}, {b}, {False}, {False})\", repeat=1, number=10)\n",
        "\n",
        "  x.append(n)\n",
        "  y.append(t)\n",
        "\n",
        "plt.plot(x,y)\n",
        "plt.legend([\"BellmanFord\"])\n",
        "\n",
        "plt.xlabel('n')\n",
        "plt.ylabel('time in ms')\n",
        "plt.show()"
      ],
      "metadata": {
        "colab": {
          "base_uri": "https://localhost:8080/",
          "height": 279
        },
        "id": "x0IN0GMxyLiG",
        "outputId": "91c8eb15-8cc4-4a2b-d1e2-df78cb597614"
      },
      "execution_count": 169,
      "outputs": [
        {
          "output_type": "display_data",
          "data": {
            "text/plain": [
              "<Figure size 432x288 with 1 Axes>"
            ],
            "image/png": "[encoded data removed]"
          },
          "metadata": {
            "needs_background": "light"
          }
        }
      ]
    },
    {
      "cell_type": "markdown",
      "source": [
        "### Análisis de resultados\n",
        "\n",
        "Cómo se puede ver en el gráfico anterior, el algoritmo tiene un crecimiento exponencial, por lo que el resultado obtenido en el experimento debería coincidir con el tiempo de ejecución teórico esperado del algoritmo, debido a que este es de $O(VE)$."
      ],
      "metadata": {
        "id": "PRdxJcSradLW"
      }
    },
    {
      "cell_type": "markdown",
      "source": [
        "## 5.2 Dijkstra v/s Bellman-Ford (tiempo de ejecución)\n",
        "\n",
        "En el gráfico que se muestra a continuación se visualizan los tiempos de ejecución de los algoritmos *Bellman-Ford* y *Dijkstra* en función del tamaño del problema para problemas generados aleatoriamente de tamaños entre 5 y 100. Estos problemas se generan utilizando el generador de instancias."
      ],
      "metadata": {
        "id": "lplbz9ncOcQc"
      }
    },
    {
      "cell_type": "code",
      "source": [
        "import matplotlib.pyplot as plt\n",
        "import math\n",
        "import datetime\n",
        "from timeit import repeat\n",
        "\n",
        "x=[]; y=[]\n",
        "z=[]; w=[]\n",
        "\n",
        "for n in range(5,100):\n",
        "\n",
        "  a, b = instance_generator(n)\n",
        "\n",
        "  c, d = instance_generator_Dijkstra(n)\n",
        "  matriz = listT_to_matrix(c, n)\n",
        "\n",
        "  t = repeat(setup=\"from __main__ import BellmanFord\", stmt=f\"BellmanFord({a}, {n}, {len(a)}, {b}, {False}, {False})\", repeat=1, number=1)\n",
        "  t2 = repeat(setup=\"from __main__ import Dijkstra\", stmt=f\"Dijkstra({c}, {matriz}, {n}, {d}, {False}, {False})\", repeat=1, number=1)\n",
        "\n",
        "  x.append(n)\n",
        "  y.append(t)\n",
        "\n",
        "  z.append(n)\n",
        "  w.append(t2)\n",
        "\n",
        "\n",
        "plt.plot(x,y)\n",
        "plt.plot(z,w)\n",
        "plt.legend([\"BellmanFord\", \"Dijkstra\"])\n",
        "\n",
        "plt.xlabel('n')\n",
        "plt.ylabel('time in ms')\n",
        "plt.show()"
      ],
      "metadata": {
        "colab": {
          "base_uri": "https://localhost:8080/",
          "height": 281
        },
        "id": "ZR2kVBvLrtmU",
        "outputId": "c76b1512-57d1-4c3c-addb-3e5667c63003"
      },
      "execution_count": null,
      "outputs": [
        {
          "output_type": "display_data",
          "data": {
            "text/plain": [
              "<Figure size 432x288 with 1 Axes>"
            ],
            "image/png": "[encoded data removed]"
          },
          "metadata": {
            "needs_background": "light"
          }
        }
      ]
    },
    {
      "cell_type": "markdown",
      "source": [
        "### Análisis de resultados\n",
        "\n",
        "Como se puede notar en el gráfico anterior, se puede ver que el algoritmo de *Dijkstra* tiene un mejor tiempo de ejecución que *Bellman-Ford*, ya que $O(V^2)$ es menor que $O(VE)$. Además, estos resultados también se podrían deber a que salieron pocos grafos con ciclos negativos, por lo que *Dijkstra* funcionaría mejor en estos casos."
      ],
      "metadata": {
        "id": "rr1amnzaYPTa"
      }
    }
  ]
}