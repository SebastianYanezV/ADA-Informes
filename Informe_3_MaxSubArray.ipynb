{
  "nbformat": 4,
  "nbformat_minor": 0,
  "metadata": {
    "colab": {
      "name": "Informe 3: MaxSubArray",
      "provenance": [],
      "collapsed_sections": [
        "8OgRbNPWzL7A"
      ],
      "authorship_tag": "ABX9TyO1j9p1tvyt1l0C8g8TCXKx",
      "include_colab_link": true
    },
    "kernelspec": {
      "name": "python3",
      "display_name": "Python 3"
    },
    "language_info": {
      "name": "python"
    }
  },
  "cells": [
    {
      "cell_type": "markdown",
      "metadata": {
        "id": "view-in-github",
        "colab_type": "text"
      },
      "source": [
        "<a href=\"https://colab.research.google.com/github/SebastianYanezV/ADA-Informes/blob/main/Informe_3_MaxSubArray.ipynb\" target=\"_parent\"><img src=\"https://colab.research.google.com/assets/colab-badge.svg\" alt=\"Open In Colab\"/></a>"
      ]
    },
    {
      "cell_type": "markdown",
      "source": [
        "# 1. Descripción del problema: Problema del sub arreglo máximo\n",
        "\n",
        "**Entrada:** Arreglo de \"n\" números $[a_1,a_n]$.\n",
        "\n",
        "**Salida:** Sub-arreglo $[a_i,..,a_j]$, tal que la suma de los elementos es mayor o igual a cualquier otro sub arreglo, es decir, $\\sum\\limits_{k=i}^j a_k \\geq \\sum\\limits_{k=i'}^{j'} a_k$ , para cualquier par $(i',j')$, con $i' \\leq j'\\leq n$.\n",
        "\n",
        "El problema que se requiere resolver en este caso es el problema del sub arreglo máximo, problema en el que el objetivo es encontrar un sub arreglo contiguo $[a_i,..,a_j]$ dentro del arreglo $[a_1,a_n]$ que maximice la suma de sus elementos. Debido a lo anterior, se puede saber que este problema es uno de optimización ya que se busca el \"mejor caso\".\n",
        "\n",
        "Algunas aplicaciones para el problema:\n",
        "\n",
        "- Venta de acciones: si se supieran los valores del cierre de las acciones de una empresa X en la bolsa durante las semanas a futuro, se podría utilizar este algoritmo para saber cuando comprar y cuando vender para poder maximizar las ganancias. \n",
        "- Máxima verosimilitud: este método busca determinar valores para los parámetros de un modelo, de tal manera que esos valores maximicen la probabilidad de que el proceso descrito por el modelo produzca los datos que realmente se observaron. Este método se usa en una gran cantidad de modelos estadísticos."
      ],
      "metadata": {
        "id": "0B9bHG5QaFou"
      }
    },
    {
      "cell_type": "markdown",
      "source": [
        "# 2. MaxSubArray"
      ],
      "metadata": {
        "id": "qp30yvhPbDUw"
      }
    },
    {
      "cell_type": "markdown",
      "source": [
        "## 2.1 Código\n",
        "\n",
        "El código que se muestra a continuación pertenece al algoritmo *MaxSubArray*, el cual contiene las funciones *MaxSubArrayMid* y *MaxSubArray*."
      ],
      "metadata": {
        "id": "gkramT6KbV2b"
      }
    },
    {
      "cell_type": "code",
      "source": [
        "def maxSubArrayMid(A, low, medio, high, verbose = False):\n",
        "  suma = 0\n",
        "  sumaIzquierda = -1000\n",
        "  \n",
        "  #Se recorre el sub arreglo izquierdo\n",
        "  for i in range(medio, low - 1, -1):\n",
        "    suma = suma + A[i]\n",
        "    if (suma > sumaIzquierda):\n",
        "      sumaIzquierda = suma\n",
        "      #Si la suma aumenta, se actualiza el índice low del sub arreglo\n",
        "      lowAux = i\n",
        "\n",
        "  suma = 0\n",
        "  sumaDerecha = -1000\n",
        "\n",
        "  #Se recorre el sub arreglo derecho\n",
        "  for j in range(medio, high + 1):\n",
        "    suma = suma + A[j]\n",
        "    if (suma > sumaDerecha):\n",
        "      sumaDerecha = suma\n",
        "      #Si la suma aumenta, se actualiza el índice high del sub arreglo\n",
        "      highAux = j\n",
        "\n",
        "  return max(sumaIzquierda + sumaDerecha - A[medio], sumaIzquierda, sumaDerecha), lowAux, highAux\n",
        "\n",
        "def maxSubArray(A, low, high, verbose = False):\n",
        "  if verbose == True: print(\"Arreglo con el que se está trabajando:\", A[low:high + 1])\n",
        "\n",
        "  #Si el índice low es mayor que el high, se retorna -1 ya que esto no debería pasar\n",
        "  if (low > high): return -1, low, high\n",
        "  #Al llegar a un sub arreglo de tamaño 1 se retorna el único elemento que este tiene\n",
        "  if (low == high): \n",
        "    if verbose == True: print(\"El arreglo se retorna ya que es de largo 1.\")\n",
        "    return A[0], low, high\n",
        "  \n",
        "  #Se hacen las llamadas recursivas del algoritmo\n",
        "  sumaI, lowI, highI = maxSubArray(A, low, ((low + high) // 2))\n",
        "  sumaD, lowD, highD = maxSubArray(A, ((low + high) // 2) + 1, high)\n",
        "  sumaMid, lowMid, highMid = maxSubArrayMid(A, low, ((low + high) // 2), high)\n",
        "\n",
        "  if verbose == True: print(\"Arreglo izquierdo:\", A[lowI:highI + 1],\", Suma izquierda:\", sumaI)\n",
        "  if verbose == True: print(\"Arreglo derecho:\", A[lowD:highD + 1],\", Suma derecha:\", sumaD)\n",
        "  if verbose == True: print(\"Arreglo medio:\", A[lowMid:highMid + 1],\", Suma medio:\", sumaMid)\n",
        "\n",
        "  #Se calcula cuál es la suma máxima y luego se retorna\n",
        "  if (max(sumaD, sumaI, sumaMid) == sumaD):\n",
        "    if verbose == True: print(\"Suma máxima retornada:\", sumaD)\n",
        "    if verbose == True: print(\"------------------------------------------------------------\")\n",
        "    return sumaD, lowD, highD\n",
        "  if (max(sumaD, sumaI, sumaMid) == sumaI):\n",
        "    if verbose == True: print(\"Suma máxima retornada:\", sumaI)\n",
        "    if verbose == True: print(\"------------------------------------------------------------\")\n",
        "    return sumaI, lowI, highI\n",
        "\n",
        "  if verbose == True: print(\"Suma máxima retornada:\", sumaMid)\n",
        "  if verbose == True: print(\"------------------------------------------------------------\")\n",
        "  return sumaMid, lowMid, highMid\n",
        "\n",
        "#Ejemplo\n",
        "A = [13, -3, -25, 20, -3, -16, -23, 18, 20, -7, 12, -5, -22, 15, -4, 7]\n",
        "largo = len(A)\n",
        "maximo, i, j = maxSubArray(A, 0, largo - 1)\n",
        "print(\"Arreglo original:\", A)\n",
        "print(\"Sub arreglo que maximiza la suma:\", A[i:j + 1])\n",
        "print(\"Indices inicial y final del sub arreglo respectivamente:\", i, \"y\", j)\n",
        "print(\"Suma máxima del arreglo:\", maximo)"
      ],
      "metadata": {
        "colab": {
          "base_uri": "https://localhost:8080/"
        },
        "id": "AMkek0S3w9L_",
        "outputId": "bbed856e-8922-4e0d-d308-4889e595fa75"
      },
      "execution_count": 111,
      "outputs": [
        {
          "output_type": "stream",
          "name": "stdout",
          "text": [
            "Arreglo original: [13, -3, -25, 20, -3, -16, -23, 18, 20, -7, 12, -5, -22, 15, -4, 7]\n",
            "Sub arreglo que maximiza la suma: [18, 20, -7, 12]\n",
            "Indices inicial y final del sub arreglo respectivamente: 7 y 10\n",
            "Suma máxima del arreglo: 43\n"
          ]
        }
      ]
    },
    {
      "cell_type": "markdown",
      "source": [
        "## 2.2 Descripción del algoritmo\n",
        "\n",
        "Antes de empezar a buscar el máximo sub arreglo, el algoritmo recibe un arreglo de \"n\" elementos.\n",
        "\n",
        "En primer lugar se llama a la función *maxSubArray*:\n",
        "\n",
        "1. La función se encarga de buscar recursivamente al sub arreglo que maximiza la suma de los elementos del arreglo $[a_1,a_n]$. Esto lo hace dividiendo cada vez al arreglo en dos.\n",
        "\n",
        "2. La función deja de hacer llamadas recursivas al momento en el que los arreglos generados son de tamaño 1.\n",
        "\n",
        "3. Finalmente, la función se encarga de retornar el valor máximo entre el sub arreglo izquierdo, el derecho y el que pasa por el punto medio, por lo que primero necesita llamar a la función *maxSubArrayMid* para encontrar al sub arreglo que maximiza la suma pasando por el punto medio del arreglo $[a_1,a_n]$.\n",
        "\n",
        "Funcionamiento de la función *maxSubArrayMid*:\n",
        "\n",
        "1. La función se encarga de buscar el sub arreglo de la primera mitad del arreglo $[a_1,a_n]$ que maximice la suma de sus elementos.\n",
        "\n",
        "2. Luego la función se encarga de hacer el paso anterior, pero ahora para la mitad derecha del arreglo $[a_1,a_n]$.\n",
        "\n",
        "3. Los pasos anteriores los realiza al ir sumando cada elemento del sub arreglo correspondiente, esto para ir guardando la mayor suma de cada uno.\n",
        "\n",
        "4. Finalmente retorna el valor máximo entre la suma del sub arreglo izquierdo, el sub arreglo derecho, y el sub arreglo que pasa entre medio.\n",
        "\n",
        "Luego, los pasos anteriormente descritos se realizan recursivamente (la función *maxSubArray* es la recursiva, no la función *maxSubarrayMid*) hasta encontrar al sub arreglo que maximiza la suma. Finalmente, al terminar todo el proceso, el algoritmo retorna los sub índices del sub arreglo que maximiza la suma y también retorna el valor de esta misma.\n",
        "\n"
      ],
      "metadata": {
        "id": "XdeE_R_DhqOY"
      }
    },
    {
      "cell_type": "markdown",
      "source": [
        "## 2.3 Ejemplo\n",
        "\n",
        "Consideremos que se ingresa el siguiente arreglo:\n",
        "\n",
        "A = [13, -3, -25, 20, -3, -16]\n",
        "\n",
        "Se llama a la función *MaxSubArray* y se le traspasan el arreglo y los sub índices 0 y 5.\n",
        "\n",
        "El arreglo se divide en dos mitades y se busca el sub arreglo máximo en cada una:\n",
        "\n",
        "$A_1$ = [13], suma = 13\n",
        "\n",
        "$A_2$ = [20], suma = 20\n",
        "\n",
        "Luego se busca el sub arreglo máximo que pasa por la mitad del arreglo:\n",
        "\n",
        "$A_M$ = [13, -3, -25, 20], suma = 5\n",
        "\n",
        "Finalmente se retorna el sub arreglo $[a_i,..,a_j]$ que maximiza la suma del arreglo [13, 3, -25, 20, -3, -16]. En este caso se retorna el sub arreglo [20] y la suma de este, también 20.\n",
        "\n"
      ],
      "metadata": {
        "id": "RfgbHyABy-ip"
      }
    },
    {
      "cell_type": "markdown",
      "source": [
        "## 2.4 Ejecución del algoritmo paso a paso\n",
        "\n",
        "Usando la opción verbose=True, podemos ver lo que ocurre en cada iteración del algoritmo."
      ],
      "metadata": {
        "id": "ORL-QHZizB4d"
      }
    },
    {
      "cell_type": "code",
      "source": [
        "A = [13, -3, -25, 20, -3, -16]\n",
        "largo = len(A)\n",
        "print(\"Arreglo original:\", A)\n",
        "print(\"------------------------------------------------------------\")\n",
        "maximo, i, j = maxSubArray(A, 0, largo - 1, verbose = True)\n",
        "print(\"Sub arreglo que maximiza la suma:\", A[i:j + 1])\n",
        "print(\"Suma máxima del arreglo:\", maximo)"
      ],
      "metadata": {
        "id": "uT59mFHtiYPK",
        "colab": {
          "base_uri": "https://localhost:8080/"
        },
        "outputId": "8db9dd46-a98e-47f6-ac22-c4067c7697b2"
      },
      "execution_count": 5,
      "outputs": [
        {
          "output_type": "stream",
          "name": "stdout",
          "text": [
            "Arreglo original: [13, -3, -25, 20, -3, -16]\n",
            "------------------------------------------------------------\n",
            "Arreglo con el que se está trabajando: [13, -3, -25, 20, -3, -16]\n",
            "Arreglo con el que se está trabajando: [13, -3, -25]\n",
            "Arreglo con el que se está trabajando: [13, -3]\n",
            "Arreglo con el que se está trabajando: [13]\n",
            "El arreglo se retorna ya que es de largo 1.\n",
            "Arreglo con el que se está trabajando: [-3]\n",
            "El arreglo se retorna ya que es de largo 1.\n",
            "Arreglo izquierdo: [13] , Suma izquierda: 13\n",
            "Arreglo derecho: [-3] , Suma derecha: 13\n",
            "Arreglo medio: [13] , Suma medio: 13\n",
            "Suma máxima retornada: 13\n",
            "------------------------------------------------------------\n",
            "Arreglo con el que se está trabajando: [-25]\n",
            "El arreglo se retorna ya que es de largo 1.\n",
            "Arreglo izquierdo: [-3] , Suma izquierda: 13\n",
            "Arreglo derecho: [-25] , Suma derecha: 13\n",
            "Arreglo medio: [13, -3] , Suma medio: 10\n",
            "Suma máxima retornada: 13\n",
            "------------------------------------------------------------\n",
            "Arreglo con el que se está trabajando: [20, -3, -16]\n",
            "Arreglo con el que se está trabajando: [20, -3]\n",
            "Arreglo con el que se está trabajando: [20]\n",
            "El arreglo se retorna ya que es de largo 1.\n",
            "Arreglo con el que se está trabajando: [-3]\n",
            "El arreglo se retorna ya que es de largo 1.\n",
            "Arreglo izquierdo: [20] , Suma izquierda: 13\n",
            "Arreglo derecho: [-3] , Suma derecha: 13\n",
            "Arreglo medio: [20] , Suma medio: 20\n",
            "Suma máxima retornada: 20\n",
            "------------------------------------------------------------\n",
            "Arreglo con el que se está trabajando: [-16]\n",
            "El arreglo se retorna ya que es de largo 1.\n",
            "Arreglo izquierdo: [20] , Suma izquierda: 20\n",
            "Arreglo derecho: [-16] , Suma derecha: 13\n",
            "Arreglo medio: [20, -3] , Suma medio: 17\n",
            "Suma máxima retornada: 20\n",
            "------------------------------------------------------------\n",
            "Arreglo izquierdo: [-25] , Suma izquierda: 13\n",
            "Arreglo derecho: [20] , Suma derecha: 20\n",
            "Arreglo medio: [13, -3, -25, 20] , Suma medio: 5\n",
            "Suma máxima retornada: 20\n",
            "------------------------------------------------------------\n",
            "Sub arreglo que maximiza la suma: [20]\n",
            "Suma máxima del arreglo: 20\n"
          ]
        }
      ]
    },
    {
      "cell_type": "markdown",
      "source": [
        "Como se puede ver en el ejemplo anterior, el arreglo de entrada se divide en dos sub arreglos, [13, -3, -25] y [20, -3, -16]. En primer lugar, trabaja con el primer sub arreglo y lo sigue sub dividiendo para encontrar la suma máxima de este, la cuál es 13. Luego hace el mismo procedimiento con el segundo sub arreglo y encuentra que la suma máxima de este es 20. En tercer lugar, busca al sub arreglo que pasa por el medio del arreglo de entrada y retorna su suma máxima, 5. Finalmente, el algoritmo retorna el valor 20, ya que este representa la suma máxima del arreglo de entrada."
      ],
      "metadata": {
        "id": "gtfu6lJSL_vV"
      }
    },
    {
      "cell_type": "markdown",
      "source": [
        "# 3. Tiempo de ejecución\n",
        "\n",
        "## Teorema: Tiempo de ejecución\n",
        "\n",
        "El algoritmo *MaxSubArray* tiene un tiempo de ejecución de $O(n log n)$ en **todos sus casos** posibles.\n",
        "\n",
        "## Prueba del teorema\n",
        "\n",
        "El algoritmo *MaxSubArray*, al ser un algoritmo recursivo (en el que cada vez el arreglo llamado a la función se divide en dos partes), tiene un tiempo de ejecución de $O(n log n)$ no sólo en su peor caso, sino que en **todos sus casos** posibles. Esto ocurre debido al funcionamiento de este algoritmo, en el que independientemente de como estén ordenados sus elementos, este siempre deberá hacer llamadas recursivas hasta llegar a sub arreglos de tamaño 1 para poder lograr su cometido.\n",
        "\n",
        "A continuación se verificará que el **teorema maestro** se puede utilizar para encontrar el tiempo de ejecución de este algoritmo.\n",
        "\n",
        "1. Antes de utilizar este teorema, es necesario verificar que la función de recurrencia de este algoritmo es de la forma $T(n) = aT(n/b) + f(n^d)$.\n",
        "\n",
        "2. En este algoritmo, el problema se divide cada vez en 2 sub problemas de tamaño 1/2 del problema original de forma recursiva. Además, la función no recursiva *MaxSubArrayMid* tiene un tiempo de ejecución lineal $O(n)$.\n",
        "\n",
        "3. Al saber lo anterior, se puede concluir que la función de recurrencia del *MaxSubArray* es de la forma $T(n) = 2T(n/2) + O(n)$, por lo que se puede utilizar el teorema maestro para encontrar el tiempo de ejecución de este algoritmo.\n",
        "\n",
        "A continuación se utilizará el **teorema maestro** para probar el teorema de tiempo de ejecución de este algoritmo.\n",
        "\n",
        "1. Para encontrar el tiempo de ejecución, primero debemos visualizar las variables a, b y d en la función de recurrencia. En este caso son 2, 2 y 1 respectivamente.\n",
        "\n",
        "2. Luego hay que evaluar si $a$ es igual, menor o mayor que $b^d$. Reemplazamos y queda que 2 = 2.\n",
        "\n",
        "3. Finalmente, se reemplaza de nuevo en el tiempo de ejecución $O(n^d log n)$ y da que es igual a $O(n log n)$.\n",
        "\n",
        "Finalmente, gracias al teorema maestro, se puede verificar que el tiempo de ejecución del *MaxSubArray* es del $O(n log n)$, por lo que su teorema de ejecución es correcto."
      ],
      "metadata": {
        "id": "8OgRbNPWzL7A"
      }
    },
    {
      "cell_type": "markdown",
      "source": [
        "# 4. Correctitud\n",
        "\n",
        "## Teorema: Correctitud de la función MaxSubArrayMid\n",
        "\n",
        "La función *MaxSubArrayMid* encuentra un sub arreglo de la forma $[a_i,..,a_j]$ que maximiza la suma y que pasa por la mitad del arreglo de entrada $[a_1,a_n]$. En otras palabras, encuentra un sub arreglo que, además de maximizar la suma del arreglo de entrada, debe incluir dentro de sí a los elementos \"mid\" y \"mid + 1\".\n",
        "\n",
        "## Prueba del teorema\n",
        "\n",
        "A continuación se probará la siguiente propiedad de la función *MaxSubArrayMid*, la cuál corresponde a su **propiedad invariante de bucle**:\n",
        "\n",
        "\"La función *MaxSubArrayMid* encuentra correctamente la mayor suma de cualquier sub arreglo contiguo que contenga los elementos \"mid\" y \"mid + 1\" del arreglo de entrada.\"\n",
        "\n",
        "**Inicialización**\n",
        "\n",
        "Al comienzo de la primera iteración, la variable \"suma\" sólo contiene el elemento que se encuentra en la posición \"medio\" del arreglo, al igual que la variable \"sumaIzquierda\". Debido a esto, \"sumaIzquierda\" contiene la mayor suma encontrada en el rango \"medio\" a \"medio\" del arreglo.\n",
        "\n",
        "**Mantención**\n",
        "\n",
        "Después de la i-ésima iteración, se suma el elemento en la posición \"medio - i\" a la variable \"suma\" y se actualiza el valor de la variable \"sumaIzquierda\" si es que el valor de \"suma\" se hace mayor que el número guardado anteriormente en \"sumaIzquierda\". Hasta este punto, \"sumaIzquierda\" contiene la mayor suma en el rango que va desde \"medio - i\" hasta \"medio\". Luego este proceso se sigue repitiendo hasta llegar a la primera posición del sub arreglo izquierdo. \n",
        "\n",
        "Cabe recalcar que estos mismos procedimientos ocurren para el sub arreglo derecho, sólo que para este caso el bucle itera desde \"medio + 1\" hasta el final del sub arreglo.\n",
        "\n",
        "**Correctitud**\n",
        "\n",
        "Finalmente, al calcular la mayor suma de cada lado del arreglo, estas se combinan para retornar la mayor suma que pasa por el medio del arreglo (se retorna la suma y los sub índices inicial y final del sub arreglo, por eso se dice en el teorema que la función encuentra el arreglo que maximiza la suma del medio), además, al ser correctas las afirmaciones de inicialización y mantención, se puede concluir que la propiedad invariante del bucle de la función *MaxSubArrayMid* es correcta, por lo que su teorema de correctitud también es correcto."
      ],
      "metadata": {
        "id": "XktpqiGbzW4s"
      }
    },
    {
      "cell_type": "markdown",
      "source": [
        "## Teorema: Correctitud del algoritmo MaxSubArray\n",
        "\n",
        "El algoritmo *MaxSubArray* retorna un sub arreglo $[a_i,..,a_j]$, tal que la suma de sus elementos maximiza la suma del arreglo de entrada $[a_1,a_n]$.\n",
        "\n",
        "## Prueba del teorema\n",
        "\n",
        "Debido a que este algoritmo es uno del tipo recursivo, para poder comprobar el teorema anterior se deberá utilizar inducción matemática.\n",
        "\n",
        "**Caso base (n = 1)**\n",
        "\n",
        "Se toma el caso más pequeño y sencillo, cuándo el arreglo de entrada es de tamaño 1. En este caso, el *MaxSubArray* retornará el mismo arreglo, ya que al ser de sólo un elemento, significa que este único elemento maximiza la suma del arreglo de entrada.\n",
        "\n",
        "**Paso inductivo (n > 1)**\n",
        "\n",
        "Se asume que *MaxSubArray* es correcto para casos m < n. Cuándo el arreglo de entrada es de un tamaño n > 1, el algoritmo se encarga de dividir este arreglo en dos sub arreglos de un tamaño aproximado de n/2 y luego cada uno de estos sub arreglos es procesado nuevamente por la función *MaxSubArray*. Como el algoritmo encuentra la suma máxima en cada uno de estos arreglos pese a que tienen un tamaño n/2 < n, se asume que el paso inductivo es correcto.\n",
        "\n",
        "**Correctitud**\n",
        "\n",
        "Finalmente, como el caso base y paso inductivo son correctos, y sabiedo que la función *MaxSubArrayMid* también retorna un sub arreglo que maximiza la suma del arreglo de entrada, se concluye que el teorema de correctitud del algoritmo es correcto."
      ],
      "metadata": {
        "id": "hfe7sD43f8pC"
      }
    },
    {
      "cell_type": "markdown",
      "source": [
        "# 5. Experimentos"
      ],
      "metadata": {
        "id": "5aGsWXDYza9k"
      }
    },
    {
      "cell_type": "markdown",
      "source": [
        "## 5.1 MaxSubArray (divide y vencerás) v/s MaxSubArray (algoritmo de Kadane)\n",
        "\n",
        "En el gráfico que se muestra a continuación se visualizan los tiempos de ejecución del algoritmo *MaxSubArray* implementado con el método de \"divide y vencerás\" y el tiempo de ejecución del *MaxSubArray* implementado con el algoritmo de Kadane. Ambos en función del tamaño del problema para arreglos generados aleatoriamente de tamaños entre 5 y 500."
      ],
      "metadata": {
        "id": "5lupf3cQoSu8"
      }
    },
    {
      "cell_type": "code",
      "source": [
        "#Algoritmo de Kadane\n",
        "\n",
        "def maxSubArrayKadane(a,size):\n",
        "  max_so_far =a[0]\n",
        "  curr_max = a[0]\n",
        "      \n",
        "  for i in range(1,size):\n",
        "    curr_max = max(a[i], curr_max + a[i])\n",
        "    max_so_far = max(max_so_far,curr_max)\n",
        "          \n",
        "  return max_so_far\n",
        "  \n",
        "#This code is contributed by _Devesh Agrawal_"
      ],
      "metadata": {
        "id": "OdfxjHGzpJcQ"
      },
      "execution_count": 112,
      "outputs": []
    },
    {
      "cell_type": "code",
      "source": [
        "import matplotlib.pyplot as plt\n",
        "import datetime\n",
        "from timeit import repeat\n",
        "import random\n",
        "\n",
        "x=[]; y=[]\n",
        "z=[]; w=[]\n",
        "\n",
        "for n in range(5,500):\n",
        "\n",
        "  a = random.sample(range(1, 1000), n)\n",
        "  low = 0\n",
        "  high = len(a) - 1\n",
        "  largo = len(a)\n",
        "\n",
        "  #La función repeat está ejecutando 20 veces maxSubArray y maxSubArrayKadane con el arreglo a y retorna el mejor tiempo obtenido.\n",
        "  t = repeat(setup=\"from __main__ import maxSubArray\", stmt=f\"maxSubArray({a}, {low}, {high})\", repeat=1, number=10)\n",
        "  t2 = repeat(setup=\"from __main__ import maxSubArrayKadane\", stmt=f\"maxSubArrayKadane({a}, {largo})\", repeat=1, number=10)\n",
        "\n",
        "  x.append(n)\n",
        "  y.append(t)\n",
        "\n",
        "  z.append(n)\n",
        "  w.append(t2)\n",
        "\n",
        "\n",
        "plt.plot(x,y)\n",
        "plt.plot(z,w)\n",
        "plt.legend([\"maxSubArray\", \"maxSubArrayKadane\"])\n",
        "\n",
        "plt.xlabel('Tamaño arreglo de entrada')\n",
        "plt.ylabel('Tiempo en ms')\n",
        "plt.show()"
      ],
      "metadata": {
        "colab": {
          "base_uri": "https://localhost:8080/",
          "height": 279
        },
        "id": "Bxs5QPAGqvrM",
        "outputId": "75d3b023-8027-42b2-dca6-41840e0e353c"
      },
      "execution_count": 113,
      "outputs": [
        {
          "output_type": "display_data",
          "data": {
            "text/plain": [
              "<Figure size 432x288 with 1 Axes>"
            ],
            "image/png": "[encoded data removed]"
          },
          "metadata": {
            "needs_background": "light"
          }
        }
      ]
    },
    {
      "cell_type": "markdown",
      "source": [
        "## Análisis de resultados\n",
        "\n",
        "En el gráfico se puede apreciar que, pese a que ambos algoritmos son eficientes, el algoritmo de Kadane lo es más, esto debido a que su tiempo de ejecución es de $O(n)$, a diferencia del tiempo de ejecución del *MaxSubArray* implementado con \"divide y vencerás\", que tiene un tiempo de $O(n log n)$. Para visualizar esto se puede apreciar el caso en el que el arreglo de entrada es de tamaño n = 500, ya que el algoritmo de Kadane demora aproximadamente 0,003 ms en encontrar el máximo sub arreglo, mientras que el *MaxSubArray* demora 0,02 ms aproximadamente."
      ],
      "metadata": {
        "id": "E1lX7jGovdzb"
      }
    },
    {
      "cell_type": "markdown",
      "source": [
        "## 5.2 Valor máximo retornado por el algoritmo MaxSubArray\n",
        "\n",
        "El gráfico que se muestra a continuación tiene la función de probar la siguiente hipótesis: \"Mientras mayor sea el tamaño del arreglo de entrada, mayor será la suma que el algoritmo retorna\". Los casos de pruebas son para problemas de tamaños con n ∈ [5, 999]. "
      ],
      "metadata": {
        "id": "LGsOie2xRlDH"
      }
    },
    {
      "cell_type": "code",
      "source": [
        "import math\n",
        "\n",
        "x=[n for n in range(5,1000)] \n",
        "y=[]; \n",
        "\n",
        "for n in range(5,1000):\n",
        "  a = random.sample(range(-500, 500), n)\n",
        "  a, i, j = maxSubArray(a, 0, len(a) - 1)\n",
        "  y.append(a)\n",
        "\n",
        "plt.plot(x,y)\n",
        "plt.legend([\"maxSubArray\"])\n",
        "\n",
        "plt.xlabel('n')\n",
        "plt.ylabel('Resultado suma máxima')\n",
        "plt.show()"
      ],
      "metadata": {
        "colab": {
          "base_uri": "https://localhost:8080/",
          "height": 279
        },
        "id": "VOk3oq6NSUbh",
        "outputId": "7e5abe73-6b1b-44fc-e33a-c16c00c82458"
      },
      "execution_count": 110,
      "outputs": [
        {
          "output_type": "display_data",
          "data": {
            "text/plain": [
              "<Figure size 432x288 with 1 Axes>"
            ],
            "image/png": "[encoded data removed]"
          },
          "metadata": {
            "needs_background": "light"
          }
        }
      ]
    },
    {
      "cell_type": "markdown",
      "source": [
        "## Análisis de resultados\n",
        "\n",
        "Como se puede ver en el gráfico anterior, la hipótesis planteada es érronea, ya que el gráfico varía constantemente en los resultados que el algoritmo arroja. Y pese a que el gráfico aumenta su base a medida que el tamaño de entrada aumenta, esto no es una prueba suficiente para encontrar alguna relación contundente que respalde la hipótesis, ya que igualmente se puede ver que aunque el gráfico suba lentamente, este igual sufre de resultados con sumas menores en los niveles de entrada mayores. Se puede concluir que no existe una relación lo suficientemente fuerte entre un mayor tamaño de arreglo de entrada con una mayor suma retornada."
      ],
      "metadata": {
        "id": "pdf4-UCXV9dd"
      }
    }
  ]
}