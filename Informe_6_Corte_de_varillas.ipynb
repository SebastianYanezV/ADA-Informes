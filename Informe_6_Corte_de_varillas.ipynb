{
  "nbformat": 4,
  "nbformat_minor": 0,
  "metadata": {
    "colab": {
      "provenance": [],
      "collapsed_sections": [],
      "authorship_tag": "ABX9TyPD53NlEbXqw0J8WWFqRrL7",
      "include_colab_link": true
    },
    "kernelspec": {
      "name": "python3",
      "display_name": "Python 3"
    },
    "language_info": {
      "name": "python"
    }
  },
  "cells": [
    {
      "cell_type": "markdown",
      "metadata": {
        "id": "view-in-github",
        "colab_type": "text"
      },
      "source": [
        "<a href=\"https://colab.research.google.com/github/SebastianYanezV/ADA-Informes/blob/main/Informe_6_Corte_de_varillas.ipynb\" target=\"_parent\"><img src=\"https://colab.research.google.com/assets/colab-badge.svg\" alt=\"Open In Colab\"/></a>"
      ]
    },
    {
      "cell_type": "markdown",
      "source": [
        "# 1. Descripción del problema: Problema de corte de varillas\n",
        "\n",
        "**Entrada:** Largo de varilla $n$ y un vector de precios para cada medida $i=1..n$\n",
        "\n",
        "**Salida:**  Retorno máximo $r_n$ que se puede obtener cortando la varilla y vendiendo las partes.\n",
        "\n",
        "El problema que se busca resolver en este caso, corresponde al problema de corte de varillas, el cual consiste en encontrar la máxima gananacia posible que se puede conseguir al cortar una varilla de largo $n$ y vender sus partes. Para resolver este problema, se utilizará el algoritmo *Cut Rod*, el cual se encarga de buscar la máxima gananacia posible luego de analizar las ganancias de cada corte posible. "
      ],
      "metadata": {
        "id": "Fz7sQjYBsd5k"
      }
    },
    {
      "cell_type": "markdown",
      "source": [
        "# 2. Cut Rod"
      ],
      "metadata": {
        "id": "YJ7xSYW_sgcI"
      }
    },
    {
      "cell_type": "markdown",
      "source": [
        "## 2.1 Código\n",
        "\n",
        "Los códigos que se muestran a continuación pertenecen a las dos implementaciones del algoritmo *CutRod*."
      ],
      "metadata": {
        "id": "96KH2G4hslVi"
      }
    },
    {
      "cell_type": "markdown",
      "source": [
        "### 2.1.1 Cut Rod recursivo"
      ],
      "metadata": {
        "id": "PvIA4RPGuZOZ"
      }
    },
    {
      "cell_type": "code",
      "source": [
        "llamadas = 0\n",
        "\n",
        "def cutRodRecursivo(precios, largo, verbose = False):\n",
        "  #Caso base\n",
        "  if (largo == 0): \n",
        "    if verbose == True: print(\"Caso base: se retorna 0, ya que una varilla de este largo no genera ganancia.\")\n",
        "    return 0;\n",
        "\n",
        "  valorMaximo = -999999\n",
        "\n",
        "  #Se recorre la varilla desde un largo 1 hasta el largo ingresado para calcular el valor máximo de cada largo\n",
        "  for i in range(1, largo + 1):\n",
        "    global llamadas\n",
        "    llamadas += 1\n",
        "    if verbose == True: print(f\"Se hace el corte de varilla de una varilla de largo {largo-i}.\")\n",
        "    #Se calcula el valor máximo de forma recursiva\n",
        "    valorMaximo = max(valorMaximo, precios[i-1] + cutRodRecursivo(precios, largo - i))\n",
        "    if verbose == True: print(f\"Máxima ganancia encontrada hasta ahora: {valorMaximo}\")\n",
        "\n",
        "\n",
        "  if verbose == True: print(f\"Se retorna {valorMaximo} como máxima ganancia.\")\n",
        "  if verbose == True: print(\"------------------------------------------------------\")\n",
        "  return valorMaximo\n",
        "\n",
        "A = [1, 5, 8, 9, 10, 17, 17, 20]\n",
        "gananciaMayor = cutRodRecursivo(A, len(A))\n",
        "print(\"Maxima ganancia:\", gananciaMayor)\n",
        "print(\"LLamadas recursivas realizadas:\", llamadas)"
      ],
      "metadata": {
        "colab": {
          "base_uri": "https://localhost:8080/"
        },
        "id": "CzXAgfA0txLn",
        "outputId": "127e99c3-626f-49db-b2c0-cf68c43018aa"
      },
      "execution_count": 1,
      "outputs": [
        {
          "output_type": "stream",
          "name": "stdout",
          "text": [
            "Maxima ganancia: 22\n",
            "LLamadas recursivas realizadas: 255\n"
          ]
        }
      ]
    },
    {
      "cell_type": "markdown",
      "source": [
        "### 2.1.2 Cut Rod Bottom-Up"
      ],
      "metadata": {
        "id": "_3jrKRsjuge_"
      }
    },
    {
      "cell_type": "code",
      "source": [
        "subProblemas = 0\n",
        "\n",
        "def cutRod(precios, largo, verbose = False):\n",
        "  #Se crean e inicializan los arreglos que almacenarán las ganancias máximas y los cortes necesarios para cada ganancia máxima\n",
        "  valores = [0 for x in range(largo + 1)]\n",
        "  cortes = [0 for x in range(largo + 1)]\n",
        "  valores[0] = 0\n",
        "  \n",
        "  #Se trabaja con una varilla de largo \"i\" \n",
        "  for i in range(1, largo + 1):\n",
        "    if verbose == True: print(f\"Se evalúa una varilla de largo máximo igual a {i}.\")\n",
        "    valorMaximo = -999999\n",
        "    \n",
        "    #Se divide la varilla de largo \"i\" en dos varillas de largo \"j\" y \"i-j-1\" y se calcula la ganancia máxima entre ambas\n",
        "    for j in range(i): \n",
        "      if verbose == True: print(f\"Caso {j+1}: la varilla es de largo {j+1}.\")\n",
        "      global subProblemas\n",
        "      subProblemas += 1\n",
        "      if (valorMaximo < precios[j] + valores[i-j-1]): \n",
        "        if verbose == True: print(f\"Valor máximo hasta ahora: {valorMaximo}\")\n",
        "        if verbose == True: print(f\"La máxima ganancia es el mayor valor entre {valorMaximo} y {precios[j] + valores[i-j-1]} ({precios[j]} (Precio por largo {j+1}) + {valores[i-j-1]} (Arreglo de máximas ganancias en la posición {i-j-1}))\")\n",
        "        valorMaximo = max(valorMaximo, precios[j] + valores[i-j-1])\n",
        "        if verbose == True: print(f\"Máxima ganancia encontrada hasta ahora: {valorMaximo}\")\n",
        "        cortes[i] = j\n",
        "    \n",
        "      if verbose == True: print(\"------------------------------------------------------\") \n",
        "    #Se almacena la ganancia máxima para la varilla de largo \"i\"\n",
        "    valores[i] = valorMaximo \n",
        "\n",
        "  return valores[largo], cortes\n",
        "\n",
        "A = [1, 5, 8, 9, 10, 17, 17, 20]\n",
        "gananciaMayor, cortes = cutRod(A, len(A))\n",
        "print(\"Maxima ganancia:\", gananciaMayor)\n",
        "print(\"Cantidad de sub-problemas resuletos:\", subProblemas)\n",
        "print(\"Cortes:\", cortes[len(A)])"
      ],
      "metadata": {
        "id": "CxO1PtAsukKv",
        "colab": {
          "base_uri": "https://localhost:8080/"
        },
        "outputId": "5b6f3eec-0b9d-46f8-a187-5042ac1fae69"
      },
      "execution_count": 2,
      "outputs": [
        {
          "output_type": "stream",
          "name": "stdout",
          "text": [
            "Maxima ganancia: 22\n",
            "Cantidad de sub-problemas resuletos: 36\n",
            "Cortes: 1\n"
          ]
        }
      ]
    },
    {
      "cell_type": "markdown",
      "source": [
        "## 2.2 Descripción del algoritmo\n",
        "\n",
        "Antes de describir el funcionamiento del algoritmo, se explicará que es la **sub-estructura óptima** del problema y la **función recursiva** para el retorno máximo.\n",
        "\n",
        "**Sub-estructura óptima:** Soluciones óptimas a un problema incorporan soluciones óptimas a sub-problemas relacionados que se pueden resolver de forma independiente. Como el problema de la varilla se basa en realizar un corte, analizar las ganancias posibles luego de realizar el corte y finalmente encontrar la ganancia máxima al \"construir\" esta solución en base a las soluciones óptimas de los demás cortes (sub-problemas), se puede decir que este problema efectivamente posee una sub-estructura óptima, y por ende, se puede resolver utilizando programación dinámica, como se demostró con el código anterior. \n",
        "\n",
        "**Función recursiva para el retorno máximo:** El retorno máximo $r_n$ para un problema de largo $n$ puede estar dado por el precio de la varilla completa $p_n$, o el precio de una sub-varilla $p_i$, más el retorno máximo $r_{n-i}$ de la varilla restante.\n",
        "\n",
        "$r_n=\\max\\limits_{i=1..n}(p_i+r_{n-i})$, considerando que $r_0=0$\n",
        "\n",
        "A continuación se describirá el funcionamiento del algoritmo para cada una de sus implementaciones."
      ],
      "metadata": {
        "id": "RtKkjshdgiky"
      }
    },
    {
      "cell_type": "markdown",
      "source": [
        "### 2.2.1 Descripción del algoritmo recursivo\n",
        "\n",
        "Antes de empezar a buscar la máxima ganancia al cortar la varilla, el algoritmo recibe un arreglo con precios para cada corte de varilla y un largo $n$ de una varilla.\n",
        "\n",
        "1. Se entra en un ciclo iterativo con el fin de calcular la máxima ganancia posible para cada largo de la varilla (desde largo 1 hasta el largo ingresado).\n",
        "\n",
        "2. Para calcular la ganancia máxima cada vez, el algoritmo se llama a si mismo de forma recursiva con el fin de resolver todos los sub-problemas para un largo de varilla $i$ (estos sub-problemas se refieren a encontrar cada precio de venta que se puede obtener con un largo de varilla determinado, para luego retornar al mayor de estos precios).\n",
        "\n",
        "3. Los pasos anteriores se repiten hasta que se calcule la máxima ganancia obtenible por la venta de una varilla del largo ingresado.\n",
        "\n",
        "Finalmente, al terminar el proceso anterior, se retorna la mayor ganancia que se puede obtener al cortar la varilla ingresada."
      ],
      "metadata": {
        "id": "7U1hGObWBwt7"
      }
    },
    {
      "cell_type": "markdown",
      "source": [
        "### 2.2.2 Descripción del algoritmo Bottom-Up\n",
        "\n",
        "Antes de empezar a buscar la máxima ganancia al cortar la varilla, el algoritmo recibe un arreglo con precios para cada corte de varilla y un largo $n$ de una varilla.\n",
        "\n",
        "1. Se crea un arreglo en el que se almacenarán las ganancias máximas de cada corte posible. Su primera posición se inicializa en 0, ya que una varilla de largo 0 no genera ganancia.\n",
        "\n",
        "2. Luego se entra a los ciclos iterativos y se resuelve cada sub-problema de tamaño $i$, para $i = 1, 2, ..., n$ con el fin de encontrar la ganancia máxima de cada uno.\n",
        "\n",
        "3. Al salir del ciclo interno cada vez, se guarda la máxima ganancia calculada en el arreglo de valores.\n",
        "\n",
        "4. En último lugar, se retorna la posición n-ésima del arreglo de valores (o ganancias máximas), posición que corresponde al largo de la varilla indicado en un principio.\n",
        "\n",
        "Finalmente, al terminar el proceso anteriormente descrito, el algoritmo retorna la mayor ganancia que se puede obtener al cortar la varilla ingresada."
      ],
      "metadata": {
        "id": "sSrU0AABspPG"
      }
    },
    {
      "cell_type": "markdown",
      "source": [
        "## 2.3 Ejemplo\n",
        "\n",
        "Nota: en el siguiente ejemplo se muestra el funcionamiento del algoritmo en su versión de programación dinámica, ya que esta es mucho más eficiente que su versión recursiva.\n",
        "\n",
        "Se ingresa el siguiente arreglo de valores y el largo de la varilla a evaluar:\n",
        "\n",
        "A = [1, 5, 8, 9, 10, 17, 17, 20]\n",
        "\n",
        "Largo varilla = 3\n",
        "\n",
        "\n",
        "Se entra a la función *CutRod* y ocurre el siguiente procedimiento:\n",
        "\n",
        "1. Se crea un arreglo de ganancias, en el cuál se irán guardando las máximas ganancias que se pueden obtener con cada largo de la varilla.\n",
        "\n",
        "  Ganancias = [0, 0, 0, 0, 0, 0, 0, 0, 0]\n",
        "\n",
        "2. Se empieza a analizar cada caso posible de ganancia de la varilla, desde 0 hasta el largo ingresado.\n",
        "\n",
        "3. Primero se analiza la ganancia de una varilla de largo máximo igual a 1. Una varilla de largo 1 sólo tiene una opción de venderse. De forma completa, su ganacia máxima es igual a 1. Se actualiza el arreglo de ganancias.\n",
        "\n",
        "  Ganancias = [0, 1, 0, 0, 0, 0, 0, 0, 0]\n",
        "\n",
        "4. En segundo lugar, se analiza la ganancia de una varilla de largo máximo igual a 2. Para este largo hay 2 casos posibles:\n",
        "\n",
        "  4.1 La varilla se divide en dos partes de largo 1, lo que generaría una ganancia igual a 2.\n",
        "\n",
        "  4.2 La varilla se vende completa (sin cortarse), la ganancia es igual a 5.\n",
        "\n",
        "  4.3 La ganancia por la venta sin cortar es mayor a la ganancia de la venta por partes, por lo que la máxima ganancia para el largo 2 es igual a 5.\n",
        "\n",
        "  Ganancias = [0, 1, 5, 0, 0, 0, 0, 0, 0]\n",
        "\n",
        "5. En último lugar, se analiza la ganancia de una varilla de largo máximo igual a 3. Para este largo hay 3 casos posibles:\n",
        "\n",
        "  5.1 La varilla se divide en tres partes de largo 1, lo que generaría una ganancia igual a 3.\n",
        "\n",
        "  5.2 La varilla se divide en dos partes, una de largo 1 y otra de largo 2, lo que generaría una ganancia igual a 6.\n",
        "\n",
        "  5.3 La varilla se vende completa (sin cortarse), la ganancia es igual a 8.\n",
        "\n",
        "  5.4 La ganancia por la venta sin cortar es mayor a los demás casos posibles de ventas, por lo que la máxima ganancia para el largo 3 es igual a 8.\n",
        "\n",
        "Finalmente, se encontró la ganancia máxima para una varilla de largo 3, por lo que se retorna este valor, el cúal es igual a 8."
      ],
      "metadata": {
        "id": "p4yZbZXRss6D"
      }
    },
    {
      "cell_type": "markdown",
      "source": [
        "## 2.4 Ejecución del algoritmo paso a paso"
      ],
      "metadata": {
        "id": "AvxJyq9YsvVn"
      }
    },
    {
      "cell_type": "markdown",
      "source": [
        "### 2.4.1 Cut Rod recursivo"
      ],
      "metadata": {
        "id": "vlTT7GZCYiJP"
      }
    },
    {
      "cell_type": "code",
      "source": [
        "llamadas = 0\n",
        "A = [1, 5, 8, 9, 10, 17, 17, 20]\n",
        "print(\"Arreglo de entrada:\", A)\n",
        "print(\"------------------------------------------------------\")\n",
        "tamanoVarilla = 3\n",
        "gananciaMayor = cutRodRecursivo(A, tamanoVarilla, verbose = True)\n",
        "print(\"Maxima ganancia:\", gananciaMayor)\n",
        "print(\"LLamadas recursivas realizadas:\", llamadas)"
      ],
      "metadata": {
        "colab": {
          "base_uri": "https://localhost:8080/"
        },
        "id": "iLos2ByQ-Neh",
        "outputId": "bdf68897-0bfe-4fe8-ee20-28419551be3a"
      },
      "execution_count": null,
      "outputs": [
        {
          "output_type": "stream",
          "name": "stdout",
          "text": [
            "Arreglo de entrada: [1, 5, 8, 9, 10, 17, 17, 20]\n",
            "------------------------------------------------------\n",
            "Se hace el corte de varilla de una varilla de largo 2.\n",
            "Se hace el corte de varilla de una varilla de largo 1.\n",
            "Se hace el corte de varilla de una varilla de largo 0.\n",
            "Caso base: se retorna 0, ya que una varilla de este largo no genera ganancia.\n",
            "Máxima ganancia encontrada hasta ahora: 1\n",
            "Se retorna 1 como máxima ganancia.\n",
            "------------------------------------------------------\n",
            "Máxima ganancia encontrada hasta ahora: 2\n",
            "Se hace el corte de varilla de una varilla de largo 0.\n",
            "Caso base: se retorna 0, ya que una varilla de este largo no genera ganancia.\n",
            "Máxima ganancia encontrada hasta ahora: 5\n",
            "Se retorna 5 como máxima ganancia.\n",
            "------------------------------------------------------\n",
            "Máxima ganancia encontrada hasta ahora: 6\n",
            "Se hace el corte de varilla de una varilla de largo 1.\n",
            "Se hace el corte de varilla de una varilla de largo 0.\n",
            "Caso base: se retorna 0, ya que una varilla de este largo no genera ganancia.\n",
            "Máxima ganancia encontrada hasta ahora: 1\n",
            "Se retorna 1 como máxima ganancia.\n",
            "------------------------------------------------------\n",
            "Máxima ganancia encontrada hasta ahora: 6\n",
            "Se hace el corte de varilla de una varilla de largo 0.\n",
            "Caso base: se retorna 0, ya que una varilla de este largo no genera ganancia.\n",
            "Máxima ganancia encontrada hasta ahora: 8\n",
            "Se retorna 8 como máxima ganancia.\n",
            "------------------------------------------------------\n",
            "Maxima ganancia: 8\n",
            "LLamadas recursivas realizadas: 7\n"
          ]
        }
      ]
    },
    {
      "cell_type": "markdown",
      "source": [
        "Como se puede ver en el ejemplo anterior, la versión recursiva de este algoritmo se basa en llegar hasta una varilla de largo 0 (caso base) y luego ir calculando la ganancia máxima posible para cada largo hasta el largo ingresado al inicio. Luego de hacer estos cálculos, se retorna la máxima ganancia posible para el largo de varilla indicado."
      ],
      "metadata": {
        "id": "FcX5DK7qmOPg"
      }
    },
    {
      "cell_type": "markdown",
      "source": [
        "### 2.4.2 Cut Rod Bottom-Up"
      ],
      "metadata": {
        "id": "HcgQwI4pYonz"
      }
    },
    {
      "cell_type": "code",
      "source": [
        "subProblemas = 0\n",
        "A = [1, 5, 8, 9, 10, 17, 17, 20]\n",
        "print(\"Arreglo de entrada:\", A)\n",
        "print(\"------------------------------------------------------\")\n",
        "tamanoVarilla = 3\n",
        "gananciaMayor, cortes = cutRod(A, tamanoVarilla, verbose = True)\n",
        "print(\"Maxima ganancia:\", gananciaMayor)\n",
        "print(\"Cantidad de sub-problemas resuletos:\", subProblemas)"
      ],
      "metadata": {
        "colab": {
          "base_uri": "https://localhost:8080/"
        },
        "id": "gOH16aJMYuYf",
        "outputId": "939fc640-e266-4c90-aac3-a4c9fea16421"
      },
      "execution_count": null,
      "outputs": [
        {
          "output_type": "stream",
          "name": "stdout",
          "text": [
            "Arreglo de entrada: [1, 5, 8, 9, 10, 17, 17, 20]\n",
            "------------------------------------------------------\n",
            "Se evalúa una varilla de largo máximo igual a 1.\n",
            "Caso 1: la varilla es de largo 1.\n",
            "Valor máximo hasta ahora: -999999\n",
            "La máxima ganancia es el mayor valor entre -999999 y 1 (1 (Precio por largo 1) + 0 (Arreglo de máximas ganancias en la posición 0))\n",
            "Máxima ganancia encontrada hasta ahora: 1\n",
            "------------------------------------------------------\n",
            "Se evalúa una varilla de largo máximo igual a 2.\n",
            "Caso 1: la varilla es de largo 1.\n",
            "Valor máximo hasta ahora: -999999\n",
            "La máxima ganancia es el mayor valor entre -999999 y 2 (1 (Precio por largo 1) + 1 (Arreglo de máximas ganancias en la posición 1))\n",
            "Máxima ganancia encontrada hasta ahora: 2\n",
            "------------------------------------------------------\n",
            "Caso 2: la varilla es de largo 2.\n",
            "Valor máximo hasta ahora: 2\n",
            "La máxima ganancia es el mayor valor entre 2 y 5 (5 (Precio por largo 2) + 0 (Arreglo de máximas ganancias en la posición 0))\n",
            "Máxima ganancia encontrada hasta ahora: 5\n",
            "------------------------------------------------------\n",
            "Se evalúa una varilla de largo máximo igual a 3.\n",
            "Caso 1: la varilla es de largo 1.\n",
            "Valor máximo hasta ahora: -999999\n",
            "La máxima ganancia es el mayor valor entre -999999 y 6 (1 (Precio por largo 1) + 5 (Arreglo de máximas ganancias en la posición 2))\n",
            "Máxima ganancia encontrada hasta ahora: 6\n",
            "------------------------------------------------------\n",
            "Caso 2: la varilla es de largo 2.\n",
            "------------------------------------------------------\n",
            "Caso 3: la varilla es de largo 3.\n",
            "Valor máximo hasta ahora: 6\n",
            "La máxima ganancia es el mayor valor entre 6 y 8 (8 (Precio por largo 3) + 0 (Arreglo de máximas ganancias en la posición 0))\n",
            "Máxima ganancia encontrada hasta ahora: 8\n",
            "------------------------------------------------------\n",
            "Maxima ganancia: 8\n",
            "Cantidad de sub-problemas resuletos: 6\n"
          ]
        }
      ]
    },
    {
      "cell_type": "markdown",
      "source": [
        "Como se puede ver en el ejemplo anterior, cuándo se utiliza programación dinámica para resolver este algoritmo, el procedimiento es similar a su versión recursiva, sin embargo, aquí sólo calcula cada ganancia una sola vez, a diferencia de la versión recursiva en la que las ganancias se pueden calcular múltiples veces (lo que es innecesario). Lo que realiza este algoritmo es lo siguiente. Va revisando cada largo de varilla, desde 1 hasta el largo ingresado al inicio y calcula cada ganancia posible para cada largo (por ejemplo, para largo 2, encuentra ganancias de 2 y 5) y luego guarda la que es mayor, ya que busca la mayor ganancia posible. Finalmente, retorna la ganancia máxima encontrada para el largo de varilla indicado."
      ],
      "metadata": {
        "id": "YanGrqATmNoB"
      }
    },
    {
      "cell_type": "markdown",
      "source": [
        "# 3. Tiempo de ejecución\n",
        "\n",
        "## Teorema: tiempo de ejecución\n",
        "\n",
        "El algoritmo *CutRod* tiene un tiempo de ejecución de $O(n^2)$ en su **peor caso**.\n",
        "\n",
        "## Prueba del teorema\n",
        "\n",
        "Para probar la veracidad del teorema anterior, primero se debe definir una función matemática que describa la cantidad de sub-problemas que se deben resolver en función del tamaño de entrada $n$, la cuál es la siguiente:\n",
        "\n",
        "$T(n)=\\sum\\limits_{i=1}^{n+1}\\sum\\limits_{j=0}^{i}c$\n",
        "\n",
        "Como se puede ver, esta función se compone de 2 sumatorias, las cuáles corresponden al largo máximo de cada varilla, desde 1 hasta el largo ingresado y a los sub-problemas de cada varilla, en los que se calcula la ganancia máxima para cada largo de la varilla.\n",
        "\n",
        "$T(n)=c\\sum\\limits_{i=1}^{n+1}j$\n",
        "\n",
        "$T(n)=c*n(n+1)/2$\n",
        "\n",
        "Al resolver la sumatoria, se concluye que:\n",
        "\n",
        "$T(n) = O(n^2)$\n",
        "\n",
        "Gracias a función matemática anterior, podemos encontrar el tiempo de ejecución de cada sub-problema, el cuál es igual a $O(n)$ para cada uno. \n",
        "\n",
        "Finalmente, como el algoritmo *CutRod* basa su funcionamiento en dos sumatorias de $O(n)$ (funciona gracias a dos ciclos \"for\" anidados), cada una con un tiempo de ejecución igual a $O(n)$, se puede comprobar que su tiempo de ejecución es de $O(n^2)$.\n",
        "\n",
        "## Complejidad espacial del algoritmo\n",
        "\n",
        "El algoritmo *CutRod* tiene una complejidad espacial de $O(n)$. Esto se debe a que este algoritmo utiliza un arreglo de largo $n$ (largo de la varilla) en el que va almacenando la ganancia máxima de venta de cada largo de la varilla desde 0 hasta $n + 1$."
      ],
      "metadata": {
        "id": "ygdK3m4CsyGF"
      }
    },
    {
      "cell_type": "markdown",
      "source": [
        "# 4. Correctitud\n",
        "\n",
        "## Teorema: correctitud del algoritmo Cut Rod\n",
        "\n",
        "El algoritmo *CutRod* recibe un arreglo de precios de venta para cada largo de varilla y un largo de varilla específico y retorna la máxima ganancia posible que se puede obtener al vender una varilla del largo ingresado al principio.\n",
        "\n",
        "## Prueba del teorema\n",
        "\n",
        "Para poder comprobar el teorema anterior se utilizará inducción matemática.\n",
        "\n",
        "**Caso base (n = 0)**\n",
        "\n",
        "Cuándo el largo de varilla ingresado es igual a 0, se retorna 0 inmediatamente ya que una varilla de este largo no puede generar ganancia alguna.\n",
        "\n",
        "**Paso inductivo (n > 0)**\n",
        "\n",
        "Para casos en los que la varilla tiene un largo mayor a 0, existen 2 opciones que derivan de la siguiente línea de código:\n",
        "\n",
        "    valorMaximo = max(valorMaximo, precios[j] + valores[i-j-1])\n",
        "\n",
        "1. Cuándo \"precios[ j ] + valores[i - j - 1]\" es mayor que \"valorMaximo\", se asume que el sub-problema (precios[ j ] + valores[i - j - 1]) ya fué resuelto en iteraciones anteriores, por lo que se obtiene la ganancia máxima.\n",
        "\n",
        "2. Cuándo \"valorMaximo\" es mayor o igual, se obtiene la máxima ganancia por el largo de la varilla que se está evaluando en el momento.\n",
        "\n",
        "**Correctitud**\n",
        "\n",
        "Finalmente, como el caso base y paso inductivo son correctos, se concluye que el teorema de correctitud del algoritmo es correcto."
      ],
      "metadata": {
        "id": "oU5E1Auus1ZL"
      }
    },
    {
      "cell_type": "markdown",
      "source": [
        "# 5. Experimentos"
      ],
      "metadata": {
        "id": "OD-F7HZes4AY"
      }
    },
    {
      "cell_type": "markdown",
      "source": [
        "## 5.1 Cut Rod Bottom-Up v/s Cut Rod recursivo (tiempo de ejecución)\n",
        "\n",
        "En los gráficos que se muestran a continuación se visualizan los tiempos de ejecución de los algoritmos *CutRod* y *CutRodRecursivo* en función del tamaño del problema para arreglos generados aleatoriamente de tamaños entre 10 y 500 (para *CutRod*) y 10 y 20 (para *CutRodRecursivo*)."
      ],
      "metadata": {
        "id": "l0pTGXaOhNCJ"
      }
    },
    {
      "cell_type": "code",
      "source": [
        "import matplotlib.pyplot as plt\n",
        "import datetime\n",
        "from timeit import repeat\n",
        "import random\n",
        "\n",
        "x=[]; y=[]\n",
        "\n",
        "for n in range(10,500):\n",
        "\n",
        "  a = random.sample(range(1, 1000), n)\n",
        "\n",
        "  #la función repeat está ejecutando 20 veces cutRod con el arreglo a y retorna el mejor tiempo obtenido.\n",
        "  t = repeat(setup=\"from __main__ import cutRod\", stmt=f\"cutRod({a}, {len(a)})\", repeat=1, number=20)\n",
        "\n",
        "  x.append(n)\n",
        "  y.append(t)\n",
        "\n",
        "\n",
        "plt.plot(x,y)\n",
        "plt.legend([\"cutRod\"])\n",
        "\n",
        "plt.xlabel('n')\n",
        "plt.ylabel('time in ms')\n",
        "plt.show()"
      ],
      "metadata": {
        "colab": {
          "base_uri": "https://localhost:8080/",
          "height": 279
        },
        "id": "WJsmF8Qfh0_S",
        "outputId": "c4cfb3cc-8b42-424e-8404-02043d4f4454"
      },
      "execution_count": null,
      "outputs": [
        {
          "output_type": "display_data",
          "data": {
            "text/plain": [
              "<Figure size 432x288 with 1 Axes>"
            ],
            "image/png": "[encoded data removed]"
          },
          "metadata": {
            "needs_background": "light"
          }
        }
      ]
    },
    {
      "cell_type": "code",
      "source": [
        "z=[]; w=[]\n",
        "\n",
        "for n in range(10,20):\n",
        "\n",
        "  a = random.sample(range(1, 1000), n)\n",
        "\n",
        "  #la función repeat está ejecutando 20 veces cutRodRecursivo con el arreglo a y retorna el mejor tiempo obtenido.\n",
        "  t2 = repeat(setup=\"from __main__ import cutRodRecursivo\", stmt=f\"cutRodRecursivo({a}, {len(a)})\", repeat=1, number=20)\n",
        "\n",
        "  z.append(n)\n",
        "  w.append(t2)\n",
        "\n",
        "\n",
        "plt.plot(z,w)\n",
        "plt.legend([\"cutRodRecursivo\"])\n",
        "\n",
        "plt.xlabel('n')\n",
        "plt.ylabel('time in ms')\n",
        "plt.show()"
      ],
      "metadata": {
        "colab": {
          "base_uri": "https://localhost:8080/",
          "height": 279
        },
        "id": "6Oa4mi2ImYbh",
        "outputId": "31376b95-ec01-4e33-92cc-276db2e6d0c5"
      },
      "execution_count": null,
      "outputs": [
        {
          "output_type": "display_data",
          "data": {
            "text/plain": [
              "<Figure size 432x288 with 1 Axes>"
            ],
            "image/png": "[encoded data removed]"
          },
          "metadata": {
            "needs_background": "light"
          }
        }
      ]
    },
    {
      "cell_type": "markdown",
      "source": [
        "### Análisis de resultados\n",
        "\n",
        "Como se puede notar en los gráficos anteriores, la implementación *Bottom-Up* del algoritmo *CutRod* es considerablemente más eficiente que su implementación recursiva. Lo anterior se debe a que la primera, debido a la forma que funciona, tiene una complejidad cuadrática de $O(n^2)$, a diferencia de la segunda, la cuál, al ser recursiva, tiene una complejidad exponencial de $O(2^n)$. Un ejemplo en el que se puede observar esta gran diferencia, sería cuándo *CutRod* procesa una varilla de largo 500 en tan sólo 0.8 ms aproximadamente, a diferencia de *CutRodRecursivo*, que procesa una varilla de largo 20 en 8 ms aproximadamente."
      ],
      "metadata": {
        "id": "JC43POAZh2O7"
      }
    },
    {
      "cell_type": "markdown",
      "source": [
        "## 5.2 Cantidad de sub-problemas a resolver (Bottom-Up)\n",
        "\n",
        "A continuación se muestra un gráfico en el que se visualiza la cantidad de sub-problemas que resuelve *CutRod* para tamaños de problemas con n ∈ [5, 99]."
      ],
      "metadata": {
        "id": "rEdwW4Uzheb5"
      }
    },
    {
      "cell_type": "code",
      "source": [
        "import matplotlib.pyplot as plt\n",
        "import random\n",
        "\n",
        "def cutrod_instance_generator(N):\n",
        "  A = []\n",
        "  prev = 0\n",
        "  for i in range(N):\n",
        "    r=random.randint(0,10)\n",
        "    A.append(prev+r)\n",
        "    prev+=r\n",
        "  return A"
      ],
      "metadata": {
        "id": "FGpdv974h1Xi"
      },
      "execution_count": null,
      "outputs": []
    },
    {
      "cell_type": "code",
      "source": [
        "x=[n for n in range(5,100)] \n",
        "y=[]; \n",
        "\n",
        "for n in range(5,100):\n",
        "  a = cutrod_instance_generator(n)\n",
        "\n",
        "  subProblemas = 0\n",
        "  cutRod(a, len(a))\n",
        "\n",
        "  y.append(subProblemas)\n",
        "\n",
        "plt.plot(x,y)\n",
        "plt.legend([\"CutRod Bottom-Up\"])\n",
        "\n",
        "plt.xlabel('n')\n",
        "plt.ylabel('Sub-problemas resueltos')\n",
        "plt.show()"
      ],
      "metadata": {
        "colab": {
          "base_uri": "https://localhost:8080/",
          "height": 279
        },
        "id": "KIQRMWGhFHxY",
        "outputId": "921d2bc6-2ff4-408d-851e-b050047f80f0"
      },
      "execution_count": null,
      "outputs": [
        {
          "output_type": "display_data",
          "data": {
            "text/plain": [
              "<Figure size 432x288 with 1 Axes>"
            ],
            "image/png": "[encoded data removed]"
          },
          "metadata": {
            "needs_background": "light"
          }
        }
      ]
    },
    {
      "cell_type": "markdown",
      "source": [
        "### Análisis de resultados\n",
        "\n",
        "Como se puede ver en el gráfico anterior, la cantidad de sub-problemas resueltos aumenta en $n^2/2$ cada vez. Lo anterior se debe a que, como concluimos anteriormente, el algoritmo de compone de 2 sumatorias, cada una con complejidad $O(n)$. Cómo en este gráfico sólo estamos contando la cantidad de sub-problemas resueltos (segunda sumatoria/ciclo anidado), la cantidad de sub-problemas contabilizados será igual a $O(n^2)$ (complejidad de ambas sumatorias juntas) dividido en 2, ya que sólo nos centramos en una sola sumatoria y no en las 2. Esto se puede ver claramente cuando se trabaja con un n = 100, los problemas totales resueltos para este caso serían iguales a 10000, pero como sólo estamos calculando los sub-problemas resueltos, entonces el resultado es igual a 5000."
      ],
      "metadata": {
        "id": "cDd-0x5Nh2rq"
      }
    }
  ]
}